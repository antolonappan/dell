{
 "cells": [
  {
   "cell_type": "code",
   "execution_count": 1,
   "id": "223b0840-bdfb-455d-90e2-b7613675f488",
   "metadata": {},
   "outputs": [],
   "source": [
    "from matplotlib.pyplot import *\n",
    "import numpy as np\n",
    "import healpy as hp\n",
    "# from cmblensplus/utils/\n",
    "import binning\n",
    "import analysis as ana\n",
    "# local\n",
    "from utils import camb_clfile"
   ]
  },
  {
   "cell_type": "code",
   "execution_count": 2,
   "id": "2f3a9d11-d094-4f4f-aa17-31678884d6d5",
   "metadata": {},
   "outputs": [],
   "source": [
    "%load_ext autoreload\n",
    "%autoreload 2\n",
    "import quest_tn as quest"
   ]
  },
  {
   "cell_type": "code",
   "execution_count": 3,
   "id": "04a73ac0-b2ef-4644-a0e8-c09024d77d9a",
   "metadata": {},
   "outputs": [],
   "source": [
    "cl_unl = camb_clfile(\"/project/projectdirs/litebird/simulations/maps/lensing_project_paper/S4BIRD/CAMB/BBSims_lenspotential.dat\")"
   ]
  },
  {
   "cell_type": "code",
   "execution_count": 4,
   "id": "002a450d-933c-412a-8f7a-a4a4d521ad1d",
   "metadata": {},
   "outputs": [
    {
     "name": "stderr",
     "output_type": "stream",
     "text": [
      "/global/homes/t/toshiyan/.conda/envs/loc/lib/python3.7/site-packages/healpy/fitsfunc.py:391: UserWarning: NSIDE = 2048\n",
      "  warnings.warn(\"NSIDE = {0:d}\".format(nside))\n",
      "/global/homes/t/toshiyan/.conda/envs/loc/lib/python3.7/site-packages/healpy/fitsfunc.py:400: UserWarning: ORDERING = RING in fits file\n",
      "  warnings.warn(\"ORDERING = {0:s} in fits file\".format(ordering))\n",
      "/global/homes/t/toshiyan/.conda/envs/loc/lib/python3.7/site-packages/healpy/fitsfunc.py:428: UserWarning: INDXSCHM = IMPLICIT\n",
      "  warnings.warn(\"INDXSCHM = {0:s}\".format(schm))\n"
     ]
    }
   ],
   "source": [
    "clpp = quest.RecoIni('litebird_tn.ini',nbin=30)"
   ]
  },
  {
   "cell_type": "code",
   "execution_count": 5,
   "id": "ce968681-67c1-41a6-b413-45df40a458ee",
   "metadata": {},
   "outputs": [],
   "source": [
    "simn = 500\n",
    "fsky = .8"
   ]
  },
  {
   "cell_type": "code",
   "execution_count": 6,
   "id": "dc8490a7-1f16-4e79-b232-6602ec389eaa",
   "metadata": {},
   "outputs": [
    {
     "name": "stdout",
     "output_type": "stream",
     "text": [
      "(500, 1025)\n"
     ]
    }
   ],
   "source": [
    "cl = np.array( [ clpp.get_qcl_sim(idx)/fsky - clpp.norm for idx in range(simn) ] )\n",
    "print(np.shape(cl))"
   ]
  },
  {
   "cell_type": "code",
   "execution_count": 7,
   "id": "33d614fb-6062-46c2-ac05-c224635b51bc",
   "metadata": {},
   "outputs": [
    {
     "name": "stdout",
     "output_type": "stream",
     "text": [
      "(500, 30)\n"
     ]
    }
   ],
   "source": [
    "cb = np.array( [ binning.binning(cl[idx,:],clpp.mb) for idx in range(simn) ] )\n",
    "print(np.shape(cb))"
   ]
  },
  {
   "cell_type": "code",
   "execution_count": 8,
   "id": "2f720356-e88f-40fc-b86a-6f81c2d69804",
   "metadata": {},
   "outputs": [],
   "source": [
    "mcb = np.mean(cb,axis=0) \n",
    "vcb = np.std(cb,axis=0)\n",
    "Vcb = (np.mean(cb,axis=0)+binning.binning(clpp.norm,clpp.mb)) / ( np.sqrt((clpp.mb.bc+.5)*(clpp.Lmax-2)/clpp.nbin*.8) )"
   ]
  },
  {
   "cell_type": "code",
   "execution_count": 9,
   "id": "85a2549c-a7a9-449c-b621-b50778b29e88",
   "metadata": {},
   "outputs": [
    {
     "data": {
      "text/plain": [
       "[<matplotlib.lines.Line2D at 0x15551c725128>]"
      ]
     },
     "execution_count": 9,
     "metadata": {},
     "output_type": "execute_result"
    },
    {
     "data": {
      "image/png": "[encoded data removed]",
      "text/plain": [
       "<Figure size 432x288 with 1 Axes>"
      ]
     },
     "metadata": {
      "needs_background": "light"
     },
     "output_type": "display_data"
    }
   ],
   "source": [
    "ylim(0,2)\n",
    "plot(clpp.mb.bc,vcb/Vcb)"
   ]
  },
  {
   "cell_type": "code",
   "execution_count": 10,
   "id": "6ca6b488-5279-4e58-90fc-e3f08988153b",
   "metadata": {},
   "outputs": [
    {
     "data": {
      "text/plain": [
       "[<matplotlib.lines.Line2D at 0x15552019df60>]"
      ]
     },
     "execution_count": 10,
     "metadata": {},
     "output_type": "execute_result"
    },
    {
     "data": {
      "image/png": "[encoded data removed]",
      "text/plain": [
       "<Figure size 432x288 with 1 Axes>"
      ]
     },
     "metadata": {
      "needs_background": "light"
     },
     "output_type": "display_data"
    }
   ],
   "source": [
    "loglog(clpp.mb.bc,mcb/vcb)"
   ]
  },
  {
   "cell_type": "code",
   "execution_count": 11,
   "id": "dca9909d-167a-42de-a25e-c9437abef90a",
   "metadata": {},
   "outputs": [
    {
     "name": "stdout",
     "output_type": "stream",
     "text": [
      "54.880228240049696\n"
     ]
    }
   ],
   "source": [
    "print(np.sqrt(np.sum((mcb/vcb)**2)))"
   ]
  },
  {
   "cell_type": "code",
   "execution_count": 12,
   "id": "0659c0eb-c558-4ba0-9fda-5f02d8a99dbb",
   "metadata": {},
   "outputs": [],
   "source": [
    "stat = ana.statistics(ocl=1.,scl=cb)\n",
    "stat.get_amp(fcl=mcb)"
   ]
  },
  {
   "cell_type": "code",
   "execution_count": 13,
   "id": "3d0872cb-46c0-457e-afa2-26b682bc7acf",
   "metadata": {},
   "outputs": [
    {
     "data": {
      "text/plain": [
       "44.763271960732716"
      ]
     },
     "execution_count": 13,
     "metadata": {},
     "output_type": "execute_result"
    }
   ],
   "source": [
    "1./stat.sA"
   ]
  },
  {
   "cell_type": "code",
   "execution_count": null,
   "id": "a9f1078d-325a-49a2-a88b-85e49cebe320",
   "metadata": {},
   "outputs": [],
   "source": []
  }
 ],
 "metadata": {
  "kernelspec": {
   "display_name": "py4so",
   "language": "python",
   "name": "py4so"
  },
  "language_info": {
   "codemirror_mode": {
    "name": "ipython",
    "version": 3
   },
   "file_extension": ".py",
   "mimetype": "text/x-python",
   "name": "python",
   "nbconvert_exporter": "python",
   "pygments_lexer": "ipython3",
   "version": "3.7.2"
  }
 },
 "nbformat": 4,
 "nbformat_minor": 5
}
