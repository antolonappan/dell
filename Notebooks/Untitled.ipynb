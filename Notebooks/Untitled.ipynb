{
 "cells": [
  {
   "cell_type": "code",
   "execution_count": 1,
   "id": "26ef8e9c-2e2e-4a7f-9c1b-c31dd86f1c75",
   "metadata": {},
   "outputs": [
    {
     "name": "stderr",
     "output_type": "stream",
     "text": [
      "\n",
      "WARNING: version mismatch between CFITSIO header (v4.000999999999999) and linked library (v4.01).\n",
      "\n",
      "\n",
      "WARNING: version mismatch between CFITSIO header (v4.000999999999999) and linked library (v4.01).\n",
      "\n",
      "\n",
      "WARNING: version mismatch between CFITSIO header (v4.000999999999999) and linked library (v4.01).\n",
      "\n"
     ]
    }
   ],
   "source": [
    "from fgbuster import harmonic_ilc_alm\n",
    "import healpy as hp\n",
    "import pysm3\n",
    "import pysm3.units as u\n",
    "import sys\n",
    "sys.path.append('../')\n",
    "import curvedsky as cs\n",
    "import cmb\n",
    "from database import surveys,noise\n",
    "import os\n",
    "import numpy as np\n",
    "from tqdm import tqdm\n",
    "from utils import camb_clfile\n",
    "import mpi\n",
    "import matplotlib.pyplot as plt\n",
    "import pickle as pl\n",
    "from fgbuster import (CMB, Dust, Synchrotron,  # sky-fitting model\n",
    "                      basic_comp_sep)"
   ]
  },
  {
   "cell_type": "code",
   "execution_count": 2,
   "id": "b30f8c5f-fe26-40c4-9de3-1afcaab9e374",
   "metadata": {},
   "outputs": [],
   "source": [
    "%load_ext autoreload\n",
    "%autoreload 2\n",
    "from simulation import SimExperimentFG"
   ]
  },
  {
   "cell_type": "code",
   "execution_count": 3,
   "id": "21cb502b-6574-47b1-b0b8-75f8636fb4de",
   "metadata": {},
   "outputs": [
    {
     "name": "stderr",
     "output_type": "stream",
     "text": [
      "WARNING: AstropyDeprecationWarning: \"verbose\" was deprecated in version 1.15.0 and will be removed in a future version.  [simulation]\n"
     ]
    },
    {
     "name": "stdout",
     "output_type": "stream",
     "text": [
      "using /project/projectdirs/litebird/simulations/maps/lensing_project_paper/S4BIRD/CMB_Lensed_Maps/CMB/ and /global/cscratch1/sd/lonappan/S4BIRD/FG saving to /global/cscratch1/sd/lonappan/mar6\n"
     ]
    }
   ],
   "source": [
    "outfolder = os.path.join(os.environ['SCRATCH'],\"mar6\")\n",
    "infolder = '/project/projectdirs/litebird/simulations/maps/lensing_project_paper/S4BIRD/CMB_Lensed_Maps/CMB/'\n",
    "dnside = 512\n",
    "maskpath8 = '/project/projectdirs/litebird/simulations/maps/lensing_project_paper/Masks/LB_Nside2048_fsky_0p8_binary.fits'\n",
    "fwhm = 45\n",
    "fg_dir = '/global/cscratch1/sd/lonappan/S4BIRD/FG'\n",
    "fg_str = \"s0d0\"\n",
    "table = \"LITEBIRD_V1\"\n",
    "lmax= 1024\n",
    "cl_lenf = '/global/cscratch1/sd/lonappan/S4BIRD/CAMB/BBSims_lensed_dls.dat'\n",
    "cl_len = cmb.read_camb_cls(cl_lenf,ftype='lens',output='array')[:,:lmax+1]\n",
    "sim = SimExperimentFG(infolder,outfolder,dnside,maskpath8,fwhm,fg_dir,fg_str,table,cl_lenf,which='hilc')"
   ]
  },
  {
   "cell_type": "code",
   "execution_count": 4,
   "id": "33e31988-69d0-47fb-8944-5d7423a593ee",
   "metadata": {},
   "outputs": [
    {
     "data": {
      "text/html": [
       "<div>\n",
       "<style scoped>\n",
       "    .dataframe tbody tr th:only-of-type {\n",
       "        vertical-align: middle;\n",
       "    }\n",
       "\n",
       "    .dataframe tbody tr th {\n",
       "        vertical-align: top;\n",
       "    }\n",
       "\n",
       "    .dataframe thead th {\n",
       "        text-align: right;\n",
       "    }\n",
       "</style>\n",
       "<table border=\"1\" class=\"dataframe\">\n",
       "  <thead>\n",
       "    <tr style=\"text-align: right;\">\n",
       "      <th></th>\n",
       "      <th>level_0</th>\n",
       "      <th>index</th>\n",
       "      <th>frequency</th>\n",
       "      <th>depth_p</th>\n",
       "      <th>fwhm</th>\n",
       "      <th>bandwidth</th>\n",
       "      <th>pixel_size</th>\n",
       "      <th>detectors</th>\n",
       "      <th>net_det</th>\n",
       "      <th>net_arr_t</th>\n",
       "      <th>net_arr_p</th>\n",
       "    </tr>\n",
       "  </thead>\n",
       "  <tbody>\n",
       "    <tr>\n",
       "      <th>0</th>\n",
       "      <td>0</td>\n",
       "      <td>0</td>\n",
       "      <td>40.0</td>\n",
       "      <td>37.42</td>\n",
       "      <td>70.5</td>\n",
       "      <td>0.30</td>\n",
       "      <td>18.0</td>\n",
       "      <td>114</td>\n",
       "      <td>172</td>\n",
       "      <td>18.0</td>\n",
       "      <td>25.5</td>\n",
       "    </tr>\n",
       "    <tr>\n",
       "      <th>1</th>\n",
       "      <td>1</td>\n",
       "      <td>1</td>\n",
       "      <td>50.0</td>\n",
       "      <td>33.46</td>\n",
       "      <td>58.5</td>\n",
       "      <td>0.30</td>\n",
       "      <td>18.0</td>\n",
       "      <td>114</td>\n",
       "      <td>96</td>\n",
       "      <td>11.5</td>\n",
       "      <td>16.3</td>\n",
       "    </tr>\n",
       "    <tr>\n",
       "      <th>2</th>\n",
       "      <td>2</td>\n",
       "      <td>2</td>\n",
       "      <td>60.0</td>\n",
       "      <td>21.31</td>\n",
       "      <td>51.1</td>\n",
       "      <td>0.23</td>\n",
       "      <td>18.0</td>\n",
       "      <td>114</td>\n",
       "      <td>79</td>\n",
       "      <td>9.5</td>\n",
       "      <td>13.5</td>\n",
       "    </tr>\n",
       "    <tr>\n",
       "      <th>3</th>\n",
       "      <td>3</td>\n",
       "      <td>3</td>\n",
       "      <td>68.0</td>\n",
       "      <td>16.87</td>\n",
       "      <td>47.1</td>\n",
       "      <td>0.23</td>\n",
       "      <td>18.0</td>\n",
       "      <td>114</td>\n",
       "      <td>64</td>\n",
       "      <td>7.8</td>\n",
       "      <td>11.0</td>\n",
       "    </tr>\n",
       "    <tr>\n",
       "      <th>4</th>\n",
       "      <td>4</td>\n",
       "      <td>4</td>\n",
       "      <td>78.0</td>\n",
       "      <td>12.07</td>\n",
       "      <td>43.8</td>\n",
       "      <td>0.23</td>\n",
       "      <td>18.0</td>\n",
       "      <td>114</td>\n",
       "      <td>54</td>\n",
       "      <td>6.5</td>\n",
       "      <td>9.2</td>\n",
       "    </tr>\n",
       "    <tr>\n",
       "      <th>5</th>\n",
       "      <td>5</td>\n",
       "      <td>5</td>\n",
       "      <td>89.0</td>\n",
       "      <td>11.30</td>\n",
       "      <td>41.5</td>\n",
       "      <td>0.23</td>\n",
       "      <td>18.0</td>\n",
       "      <td>114</td>\n",
       "      <td>47</td>\n",
       "      <td>5.6</td>\n",
       "      <td>8.0</td>\n",
       "    </tr>\n",
       "    <tr>\n",
       "      <th>6</th>\n",
       "      <td>6</td>\n",
       "      <td>6</td>\n",
       "      <td>100.0</td>\n",
       "      <td>6.56</td>\n",
       "      <td>37.8</td>\n",
       "      <td>0.23</td>\n",
       "      <td>12.0</td>\n",
       "      <td>296</td>\n",
       "      <td>59</td>\n",
       "      <td>4.4</td>\n",
       "      <td>6.2</td>\n",
       "    </tr>\n",
       "    <tr>\n",
       "      <th>7</th>\n",
       "      <td>7</td>\n",
       "      <td>7</td>\n",
       "      <td>119.0</td>\n",
       "      <td>4.58</td>\n",
       "      <td>33.6</td>\n",
       "      <td>0.30</td>\n",
       "      <td>12.0</td>\n",
       "      <td>222</td>\n",
       "      <td>42</td>\n",
       "      <td>3.7</td>\n",
       "      <td>5.2</td>\n",
       "    </tr>\n",
       "    <tr>\n",
       "      <th>8</th>\n",
       "      <td>8</td>\n",
       "      <td>8</td>\n",
       "      <td>140.0</td>\n",
       "      <td>4.79</td>\n",
       "      <td>30.8</td>\n",
       "      <td>0.30</td>\n",
       "      <td>12.0</td>\n",
       "      <td>296</td>\n",
       "      <td>38</td>\n",
       "      <td>2.8</td>\n",
       "      <td>4.0</td>\n",
       "    </tr>\n",
       "    <tr>\n",
       "      <th>9</th>\n",
       "      <td>9</td>\n",
       "      <td>9</td>\n",
       "      <td>166.0</td>\n",
       "      <td>5.57</td>\n",
       "      <td>28.9</td>\n",
       "      <td>0.30</td>\n",
       "      <td>12.0</td>\n",
       "      <td>222</td>\n",
       "      <td>36</td>\n",
       "      <td>3.1</td>\n",
       "      <td>4.4</td>\n",
       "    </tr>\n",
       "    <tr>\n",
       "      <th>10</th>\n",
       "      <td>10</td>\n",
       "      <td>10</td>\n",
       "      <td>195.0</td>\n",
       "      <td>5.85</td>\n",
       "      <td>28.6</td>\n",
       "      <td>0.30</td>\n",
       "      <td>12.0</td>\n",
       "      <td>296</td>\n",
       "      <td>37</td>\n",
       "      <td>2.8</td>\n",
       "      <td>3.9</td>\n",
       "    </tr>\n",
       "    <tr>\n",
       "      <th>11</th>\n",
       "      <td>11</td>\n",
       "      <td>11</td>\n",
       "      <td>235.0</td>\n",
       "      <td>10.79</td>\n",
       "      <td>24.7</td>\n",
       "      <td>0.30</td>\n",
       "      <td>12.0</td>\n",
       "      <td>222</td>\n",
       "      <td>43</td>\n",
       "      <td>3.7</td>\n",
       "      <td>5.2</td>\n",
       "    </tr>\n",
       "    <tr>\n",
       "      <th>12</th>\n",
       "      <td>12</td>\n",
       "      <td>12</td>\n",
       "      <td>280.0</td>\n",
       "      <td>13.80</td>\n",
       "      <td>22.5</td>\n",
       "      <td>0.30</td>\n",
       "      <td>5.4</td>\n",
       "      <td>128</td>\n",
       "      <td>55</td>\n",
       "      <td>6.3</td>\n",
       "      <td>8.9</td>\n",
       "    </tr>\n",
       "    <tr>\n",
       "      <th>13</th>\n",
       "      <td>13</td>\n",
       "      <td>13</td>\n",
       "      <td>337.0</td>\n",
       "      <td>21.95</td>\n",
       "      <td>20.9</td>\n",
       "      <td>0.30</td>\n",
       "      <td>4.5</td>\n",
       "      <td>128</td>\n",
       "      <td>81</td>\n",
       "      <td>9.4</td>\n",
       "      <td>13.2</td>\n",
       "    </tr>\n",
       "    <tr>\n",
       "      <th>14</th>\n",
       "      <td>14</td>\n",
       "      <td>14</td>\n",
       "      <td>402.0</td>\n",
       "      <td>47.45</td>\n",
       "      <td>17.9</td>\n",
       "      <td>0.23</td>\n",
       "      <td>4.0</td>\n",
       "      <td>128</td>\n",
       "      <td>156</td>\n",
       "      <td>18.0</td>\n",
       "      <td>25.5</td>\n",
       "    </tr>\n",
       "  </tbody>\n",
       "</table>\n",
       "</div>"
      ],
      "text/plain": [
       "    level_0  index  frequency  depth_p  fwhm  bandwidth  pixel_size  \\\n",
       "0         0      0       40.0    37.42  70.5       0.30        18.0   \n",
       "1         1      1       50.0    33.46  58.5       0.30        18.0   \n",
       "2         2      2       60.0    21.31  51.1       0.23        18.0   \n",
       "3         3      3       68.0    16.87  47.1       0.23        18.0   \n",
       "4         4      4       78.0    12.07  43.8       0.23        18.0   \n",
       "5         5      5       89.0    11.30  41.5       0.23        18.0   \n",
       "6         6      6      100.0     6.56  37.8       0.23        12.0   \n",
       "7         7      7      119.0     4.58  33.6       0.30        12.0   \n",
       "8         8      8      140.0     4.79  30.8       0.30        12.0   \n",
       "9         9      9      166.0     5.57  28.9       0.30        12.0   \n",
       "10       10     10      195.0     5.85  28.6       0.30        12.0   \n",
       "11       11     11      235.0    10.79  24.7       0.30        12.0   \n",
       "12       12     12      280.0    13.80  22.5       0.30         5.4   \n",
       "13       13     13      337.0    21.95  20.9       0.30         4.5   \n",
       "14       14     14      402.0    47.45  17.9       0.23         4.0   \n",
       "\n",
       "    detectors  net_det  net_arr_t  net_arr_p  \n",
       "0         114      172       18.0       25.5  \n",
       "1         114       96       11.5       16.3  \n",
       "2         114       79        9.5       13.5  \n",
       "3         114       64        7.8       11.0  \n",
       "4         114       54        6.5        9.2  \n",
       "5         114       47        5.6        8.0  \n",
       "6         296       59        4.4        6.2  \n",
       "7         222       42        3.7        5.2  \n",
       "8         296       38        2.8        4.0  \n",
       "9         222       36        3.1        4.4  \n",
       "10        296       37        2.8        3.9  \n",
       "11        222       43        3.7        5.2  \n",
       "12        128       55        6.3        8.9  \n",
       "13        128       81        9.4       13.2  \n",
       "14        128      156       18.0       25.5  "
      ]
     },
     "execution_count": 4,
     "metadata": {},
     "output_type": "execute_result"
    }
   ],
   "source": [
    "sim.table"
   ]
  },
  {
   "cell_type": "code",
   "execution_count": 11,
   "id": "eb854900-1c52-4f0b-99b8-be0f68072966",
   "metadata": {},
   "outputs": [],
   "source": [
    "e_nofg,b_nofg = sim.get_cinv_sim(0,True)"
   ]
  },
  {
   "cell_type": "code",
   "execution_count": 12,
   "id": "f6c2ea6b-f142-461c-8a21-d5e9bd31fe13",
   "metadata": {},
   "outputs": [
    {
     "name": "stdout",
     "output_type": "stream",
     "text": [
      "/global/cscratch1/sd/lonappan/mar6/hilc_sims_fsky_0p8_0000.fits\n",
      "Harmonic ILC\n"
     ]
    },
    {
     "name": "stderr",
     "output_type": "stream",
     "text": [
      "Making alms: 100%|██████████| 15/15 [10:10<00:00, 40.68s/Freq]\n"
     ]
    }
   ],
   "source": [
    "e_fg,b_fg = sim.get_cinv_sim(0)"
   ]
  },
  {
   "cell_type": "code",
   "execution_count": 13,
   "id": "aaa8b194-10b0-4141-b4d2-d3f512f81208",
   "metadata": {},
   "outputs": [
    {
     "data": {
      "text/plain": [
       "'hilc'"
      ]
     },
     "execution_count": 13,
     "metadata": {},
     "output_type": "execute_result"
    }
   ],
   "source": [
    "sim.which"
   ]
  },
  {
   "cell_type": "code",
   "execution_count": 14,
   "id": "faaf21ce-663c-47a0-87be-cb5ee214ee43",
   "metadata": {},
   "outputs": [
    {
     "name": "stderr",
     "output_type": "stream",
     "text": [
      "/tmp/ipykernel_42753/381252666.py:2: RuntimeWarning: divide by zero encountered in true_divide\n",
      "  plt.loglog(1/cl_len[1,:])\n"
     ]
    },
    {
     "data": {
      "text/plain": [
       "<matplotlib.legend.Legend at 0x15550a8fd930>"
      ]
     },
     "execution_count": 14,
     "metadata": {},
     "output_type": "execute_result"
    },
    {
     "data": {
      "image/png": "[encoded data removed]",
      "text/plain": [
       "<Figure size 576x288 with 1 Axes>"
      ]
     },
     "metadata": {
      "needs_background": "light"
     },
     "output_type": "display_data"
    }
   ],
   "source": [
    "plt.figure(figsize=(8,4))\n",
    "plt.loglog(1/cl_len[1,:])\n",
    "plt.loglog(cs.utils.alm2cl(sim.lmax,e_nofg),label='nofg')\n",
    "plt.loglog(cs.utils.alm2cl(sim.lmax,e_fg),label='fg')\n",
    "plt.ylim(10**15,10**19)\n",
    "plt.legend()"
   ]
  },
  {
   "cell_type": "code",
   "execution_count": 15,
   "id": "4dd899c2-563a-4701-9b11-fcb9b6bc54e4",
   "metadata": {},
   "outputs": [
    {
     "name": "stderr",
     "output_type": "stream",
     "text": [
      "/tmp/ipykernel_42753/1843970430.py:2: RuntimeWarning: invalid value encountered in true_divide\n",
      "  plt.plot(cs.utils.alm2cl(sim.lmax,b_fg)/cs.utils.alm2cl(sim.lmax,b_nofg),label='BB_Fg/BB_noFg')\n",
      "/tmp/ipykernel_42753/1843970430.py:3: RuntimeWarning: invalid value encountered in true_divide\n",
      "  plt.plot(cs.utils.alm2cl(sim.lmax,e_fg)/cs.utils.alm2cl(sim.lmax,e_nofg),label='BB_Fg/BB_noFg')\n",
      "/tmp/ipykernel_42753/1843970430.py:6: UserWarning: Attempted to set non-positive left xlim on a log-scaled axis.\n",
      "Invalid limit will be ignored.\n",
      "  plt.xlim(0,400)\n"
     ]
    },
    {
     "data": {
      "text/plain": [
       "<matplotlib.legend.Legend at 0x15550a445720>"
      ]
     },
     "execution_count": 15,
     "metadata": {},
     "output_type": "execute_result"
    },
    {
     "data": {
      "image/png": "[encoded data removed]",
      "text/plain": [
       "<Figure size 576x288 with 1 Axes>"
      ]
     },
     "metadata": {
      "needs_background": "light"
     },
     "output_type": "display_data"
    }
   ],
   "source": [
    "plt.figure(figsize=(8,4))\n",
    "plt.plot(cs.utils.alm2cl(sim.lmax,b_fg)/cs.utils.alm2cl(sim.lmax,b_nofg),label='BB_Fg/BB_noFg')\n",
    "plt.plot(cs.utils.alm2cl(sim.lmax,e_fg)/cs.utils.alm2cl(sim.lmax,e_nofg),label='BB_Fg/BB_noFg')\n",
    "plt.semilogx()\n",
    "plt.ylim(0,2)\n",
    "plt.xlim(0,400)\n",
    "plt.axhline(1.1,c='r',label='1.1')\n",
    "plt.axhline(1,c='k',label='1')\n",
    "plt.legend()"
   ]
  },
  {
   "cell_type": "code",
   "execution_count": null,
   "id": "bd11f1cf-f3c8-414d-802a-ee144765d0ea",
   "metadata": {},
   "outputs": [],
   "source": []
  },
  {
   "cell_type": "code",
   "execution_count": 10,
   "id": "0486062d-4c06-40be-94d4-4103d483ef40",
   "metadata": {},
   "outputs": [
    {
     "data": {
      "text/plain": [
       "0.7990690867106119"
      ]
     },
     "execution_count": 10,
     "metadata": {},
     "output_type": "execute_result"
    }
   ],
   "source": [
    "sim.fsky"
   ]
  },
  {
   "cell_type": "code",
   "execution_count": 13,
   "id": "68c71005-3421-407a-99f8-3a8b9968f20c",
   "metadata": {},
   "outputs": [
    {
     "data": {
      "text/plain": [
       "1.44"
      ]
     },
     "execution_count": 13,
     "metadata": {},
     "output_type": "execute_result"
    }
   ],
   "source": [
    "1.2*1.2"
   ]
  },
  {
   "cell_type": "code",
   "execution_count": 11,
   "id": "3f69ef7d-d91f-4bd5-996d-737f4699acb4",
   "metadata": {},
   "outputs": [
    {
     "name": "stdout",
     "output_type": "stream",
     "text": [
      "/global/cscratch1/sd/lonappan/mar5/hilc_sims_fsky_0p8_0000.fits\n"
     ]
    }
   ],
   "source": [
    "tlm,elm,blm = sim.get_comp_sep_alm(0)"
   ]
  },
  {
   "cell_type": "code",
   "execution_count": 12,
   "id": "0e38e1b0-bfe9-4cff-b21b-325298906e24",
   "metadata": {},
   "outputs": [],
   "source": [
    "tl,el,bl = sim.get_noFG_alms(0)"
   ]
  },
  {
   "cell_type": "code",
   "execution_count": 13,
   "id": "746be18e-6c83-45f4-a34f-969ea722fbae",
   "metadata": {},
   "outputs": [
    {
     "data": {
      "text/plain": [
       "<matplotlib.legend.Legend at 0x15550a3e8670>"
      ]
     },
     "execution_count": 13,
     "metadata": {},
     "output_type": "execute_result"
    },
    {
     "data": {
      "image/png": "[encoded data removed]",
      "text/plain": [
       "<Figure size 432x288 with 1 Axes>"
      ]
     },
     "metadata": {
      "needs_background": "light"
     },
     "output_type": "display_data"
    }
   ],
   "source": [
    "plt.loglog(hp.alm2cl(blm),label='fg')\n",
    "plt.loglog(hp.alm2cl(bl),label='nofg')\n",
    "plt.ylim(10**-10,None)\n",
    "plt.legend()"
   ]
  },
  {
   "cell_type": "code",
   "execution_count": 30,
   "id": "38b77c25-86bf-407a-b8c9-7f8337336d34",
   "metadata": {},
   "outputs": [
    {
     "data": {
      "text/plain": [
       "75.0"
      ]
     },
     "execution_count": 30,
     "metadata": {},
     "output_type": "execute_result"
    }
   ],
   "source": [
    "np.rad2deg(sim.fwhm)*60"
   ]
  },
  {
   "cell_type": "code",
   "execution_count": 58,
   "id": "8aaad89a-1fb2-4760-82f5-caddc0325ee0",
   "metadata": {},
   "outputs": [],
   "source": [
    "a = 75\n",
    "b = 21\n",
    "c = a/b"
   ]
  },
  {
   "cell_type": "code",
   "execution_count": 68,
   "id": "be40c4fe-a573-4089-8492-2c4793cdfc67",
   "metadata": {},
   "outputs": [
    {
     "data": {
      "text/plain": [
       "<matplotlib.legend.Legend at 0x15550347fca0>"
      ]
     },
     "execution_count": 68,
     "metadata": {},
     "output_type": "execute_result"
    },
    {
     "data": {
      "image/png": "[encoded data removed]",
      "text/plain": [
       "<Figure size 432x288 with 1 Axes>"
      ]
     },
     "metadata": {
      "needs_background": "light"
     },
     "output_type": "display_data"
    }
   ],
   "source": [
    "plt.loglog(hp.gauss_beam(np.radians(a/60),sim.lmax),label='75')\n",
    "plt.loglog(hp.gauss_beam(np.radians(b/60),sim.lmax),label='21')\n",
    "plt.loglog(hp.gauss_beam(np.radians(c/60),sim.lmax),label='num')\n",
    "plt.loglog(hp.gauss_beam(np.radians(a/60),sim.lmax)/hp.gauss_beam(np.radians(b/60),sim.lmax),label='bl')\n",
    "plt.ylim(10**-7,None)\n",
    "plt.legend()"
   ]
  },
  {
   "cell_type": "code",
   "execution_count": null,
   "id": "eaf8477d-f55f-4265-9ae0-6516d2cef4c2",
   "metadata": {},
   "outputs": [],
   "source": []
  }
 ],
 "metadata": {
  "kernelspec": {
   "display_name": "Pylens",
   "language": "python",
   "name": "cmblens"
  },
  "language_info": {
   "codemirror_mode": {
    "name": "ipython",
    "version": 3
   },
   "file_extension": ".py",
   "mimetype": "text/x-python",
   "name": "python",
   "nbconvert_exporter": "python",
   "pygments_lexer": "ipython3",
   "version": "3.10.4"
  }
 },
 "nbformat": 4,
 "nbformat_minor": 5
}
