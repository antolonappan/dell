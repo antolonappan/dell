{
 "cells": [
  {
   "cell_type": "code",
   "execution_count": 1,
   "id": "742c0310-2afb-4356-a450-5bb6fecd3f6e",
   "metadata": {
    "tags": []
   },
   "outputs": [],
   "source": [
    "import numpy as np\n",
    "import matplotlib.pyplot as plt\n",
    "import sys\n",
    "import healpy as hp\n",
    "import pickle as pl\n",
    "from tqdm import tqdm\n",
    "from scipy.optimize import minimize\n",
    "sys.path.append('../')"
   ]
  },
  {
   "cell_type": "code",
   "execution_count": 2,
   "id": "4a5b7d29-9f58-4484-bcb6-440a48bf2ddc",
   "metadata": {
    "tags": []
   },
   "outputs": [],
   "source": [
    "import binning "
   ]
  },
  {
   "cell_type": "code",
   "execution_count": 3,
   "id": "abe3793c-2c6c-4a29-a718-ff63d86e9755",
   "metadata": {
    "tags": []
   },
   "outputs": [],
   "source": [
    "binner = binning.multipole_binning(30,lmin=2,lmax=1024)\n",
    "def bin_cell(arr):\n",
    "    return binning.binning(arr,binner)"
   ]
  },
  {
   "cell_type": "code",
   "execution_count": 4,
   "id": "1d543b09-2588-49d1-9a99-f98c9bd639e0",
   "metadata": {
    "tags": []
   },
   "outputs": [],
   "source": [
    "path = '../Data/paper/recFG.pkl'"
   ]
  },
  {
   "cell_type": "code",
   "execution_count": 5,
   "id": "90e58f9a-e544-4a7c-82bb-284b355d0bc5",
   "metadata": {
    "tags": []
   },
   "outputs": [],
   "source": [
    "dat = pl.load(open(path,'rb'))"
   ]
  },
  {
   "cell_type": "code",
   "execution_count": 6,
   "id": "71af9ca0-787c-4fb5-96c1-4af181e40bf0",
   "metadata": {
    "tags": []
   },
   "outputs": [],
   "source": [
    "l = dat['B']"
   ]
  },
  {
   "cell_type": "code",
   "execution_count": 7,
   "id": "c69e7ffa-03d0-4a9a-b5c6-2e2d3ad5f634",
   "metadata": {
    "tags": []
   },
   "outputs": [
    {
     "data": {
      "text/plain": [
       "dict_keys(['nofg_cl', 'fg2_cl', 'fid', 'fidm', 'NOFG-MCN0', 'fg1-MCN0', 'fg2-MCN0', 'NOFG-MCER', 'fg2-MCER', 'NOFG-MF', 'fg2-MF', 'B'])"
      ]
     },
     "execution_count": 7,
     "metadata": {},
     "output_type": "execute_result"
    }
   ],
   "source": [
    "dat.keys()"
   ]
  },
  {
   "cell_type": "code",
   "execution_count": 8,
   "id": "cb85f023-7a63-4b91-8d5e-4ce46f26e681",
   "metadata": {
    "tags": []
   },
   "outputs": [],
   "source": [
    "nofg_cl = dat['nofg_cl']\n",
    "fg2_cl = dat['fg2_cl']"
   ]
  },
  {
   "cell_type": "code",
   "execution_count": 9,
   "id": "181040d2-aa24-40a7-a78e-77eee73c69f7",
   "metadata": {
    "tags": []
   },
   "outputs": [],
   "source": [
    "std_nofg = nofg_cl.std(axis=0)\n",
    "std_fg2 = nofg_cl.std(axis=0)"
   ]
  },
  {
   "cell_type": "code",
   "execution_count": 10,
   "id": "65c2bbe6-3f14-4b2e-a70a-426bd5bbc1df",
   "metadata": {
    "tags": []
   },
   "outputs": [],
   "source": [
    "n0_nofg = dat['NOFG-MCN0']\n",
    "n0_fg2 = dat['fg2-MCN0']"
   ]
  },
  {
   "cell_type": "code",
   "execution_count": 11,
   "id": "0716e685-a162-4909-85e1-208869d9b4c1",
   "metadata": {
    "tags": []
   },
   "outputs": [],
   "source": [
    "b = dat['B']"
   ]
  },
  {
   "cell_type": "code",
   "execution_count": 12,
   "id": "388aa143-6b64-4ceb-8d6c-ef4a3f032bc1",
   "metadata": {
    "tags": []
   },
   "outputs": [],
   "source": [
    "fid = dat['fid']\n",
    "fidm = dat['fidm']"
   ]
  },
  {
   "cell_type": "code",
   "execution_count": 13,
   "id": "fe764399-e2a0-4e0c-b2d1-d99cc4dad29c",
   "metadata": {
    "tags": []
   },
   "outputs": [],
   "source": [
    "n0_nofg_b = bin_cell(n0_nofg)\n",
    "n0_fg2_b = bin_cell(n0_fg2)"
   ]
  },
  {
   "cell_type": "code",
   "execution_count": 14,
   "id": "48aa4e1c-a424-4369-9455-1a9431d1f16b",
   "metadata": {
    "tags": []
   },
   "outputs": [],
   "source": [
    "theory = fid+n0_nofg_b"
   ]
  },
  {
   "cell_type": "code",
   "execution_count": 15,
   "id": "2cada8bf-32ed-4314-8894-b1c1a0891df7",
   "metadata": {
    "tags": []
   },
   "outputs": [],
   "source": [
    "def chi_sq_nofg(alens,cl):\n",
    "    return np.sum(((cl-(alens*theory))/(std_nofg))**2)\n",
    "\n",
    "def chi_sq_fg2(alens,cl):\n",
    "    return np.sum(((cl-(alens*theory))/(std_fg2))**2)"
   ]
  },
  {
   "cell_type": "code",
   "execution_count": 16,
   "id": "f547ee48-f684-491e-92f9-fe05720db84a",
   "metadata": {
    "tags": []
   },
   "outputs": [],
   "source": [
    "alens_nofg = [minimize(chi_sq_nofg,1,args=(nofg_cl[i]+n0_nofg_b)).x[0] for i in range(400)]"
   ]
  },
  {
   "cell_type": "code",
   "execution_count": 17,
   "id": "78025b29-dbd3-4d94-a980-bb4f1f8ec34e",
   "metadata": {
    "tags": []
   },
   "outputs": [
    {
     "data": {
      "image/png": "[encoded data removed]",
      "text/plain": [
       "<Figure size 432x288 with 1 Axes>"
      ]
     },
     "metadata": {
      "needs_background": "light"
     },
     "output_type": "display_data"
    }
   ],
   "source": [
    "n = plt.hist(alens_nofg,bins=20)"
   ]
  },
  {
   "cell_type": "code",
   "execution_count": 18,
   "id": "60a44af7-7882-4f85-b9db-785dfb185bcc",
   "metadata": {
    "tags": []
   },
   "outputs": [],
   "source": [
    "alens_fg2 = [minimize(chi_sq_fg2,1,args=(fg2_cl[i]+n0_fg2_b)).x[0] for i in range(400)]"
   ]
  },
  {
   "cell_type": "code",
   "execution_count": 33,
   "id": "9a1a6a0c-a580-4ac2-b074-588c72504924",
   "metadata": {
    "tags": []
   },
   "outputs": [
    {
     "data": {
      "image/png": "[encoded data removed]",
      "text/plain": [
       "<Figure size 432x288 with 1 Axes>"
      ]
     },
     "metadata": {
      "needs_background": "light"
     },
     "output_type": "display_data"
    }
   ],
   "source": [
    "n = plt.hist(alens_fg2,bins=20)"
   ]
  },
  {
   "cell_type": "code",
   "execution_count": 32,
   "id": "0e0f871d-418b-41a6-9d72-40ebb6fa0093",
   "metadata": {
    "tags": []
   },
   "outputs": [
    {
     "data": {
      "text/plain": [
       "0.0021211556060350993"
      ]
     },
     "execution_count": 32,
     "metadata": {},
     "output_type": "execute_result"
    }
   ],
   "source": [
    "np.std(alens_nofg)"
   ]
  },
  {
   "cell_type": "code",
   "execution_count": 24,
   "id": "fde34e31-44ce-4c9d-8c02-3143c8da77c9",
   "metadata": {
    "tags": []
   },
   "outputs": [
    {
     "data": {
      "text/plain": [
       "0.0028899588603886993"
      ]
     },
     "execution_count": 24,
     "metadata": {},
     "output_type": "execute_result"
    }
   ],
   "source": [
    "np.std(alens_fg2)"
   ]
  },
  {
   "cell_type": "code",
   "execution_count": 26,
   "id": "39240062-7b99-45f6-9d23-7fcd9e4e3292",
   "metadata": {},
   "outputs": [
    {
     "data": {
      "text/plain": [
       "50.0"
      ]
     },
     "execution_count": 26,
     "metadata": {},
     "output_type": "execute_result"
    }
   ],
   "source": [
    "1/0.02"
   ]
  },
  {
   "cell_type": "code",
   "execution_count": null,
   "id": "970fd4fe-e930-43d4-8bc3-70dc2ffd4eb7",
   "metadata": {},
   "outputs": [],
   "source": []
  }
 ],
 "metadata": {
  "kernelspec": {
   "display_name": "Pylens",
   "language": "python",
   "name": "cmblens"
  },
  "language_info": {
   "codemirror_mode": {
    "name": "ipython",
    "version": 3
   },
   "file_extension": ".py",
   "mimetype": "text/x-python",
   "name": "python",
   "nbconvert_exporter": "python",
   "pygments_lexer": "ipython3",
   "version": "3.7.2"
  }
 },
 "nbformat": 4,
 "nbformat_minor": 5
}
