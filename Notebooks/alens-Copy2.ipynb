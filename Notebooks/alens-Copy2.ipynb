{
 "cells": [
  {
   "cell_type": "code",
   "execution_count": 1,
   "id": "742c0310-2afb-4356-a450-5bb6fecd3f6e",
   "metadata": {
    "tags": []
   },
   "outputs": [],
   "source": [
    "import numpy as np\n",
    "import matplotlib.pyplot as plt\n",
    "import sys\n",
    "import healpy as hp\n",
    "import pickle as pl\n",
    "from tqdm import tqdm\n",
    "from scipy.optimize import minimize\n",
    "import emcee\n",
    "import corner\n",
    "from getdist import plots, MCSamples\n",
    "sys.path.append('../')"
   ]
  },
  {
   "cell_type": "code",
   "execution_count": 2,
   "id": "4a5b7d29-9f58-4484-bcb6-440a48bf2ddc",
   "metadata": {
    "tags": []
   },
   "outputs": [],
   "source": [
    "import binning "
   ]
  },
  {
   "cell_type": "code",
   "execution_count": 3,
   "id": "abe3793c-2c6c-4a29-a718-ff63d86e9755",
   "metadata": {
    "tags": []
   },
   "outputs": [],
   "source": [
    "binner = binning.multipole_binning(30,lmin=2,lmax=1024)\n",
    "def bin_cell(arr):\n",
    "    return binning.binning(arr,binner)"
   ]
  },
  {
   "cell_type": "code",
   "execution_count": 4,
   "id": "1d543b09-2588-49d1-9a99-f98c9bd639e0",
   "metadata": {
    "tags": []
   },
   "outputs": [],
   "source": [
    "path = '../Data/paper/recFG.pkl'"
   ]
  },
  {
   "cell_type": "code",
   "execution_count": 5,
   "id": "90e58f9a-e544-4a7c-82bb-284b355d0bc5",
   "metadata": {
    "tags": []
   },
   "outputs": [],
   "source": [
    "dat = pl.load(open(path,'rb'))"
   ]
  },
  {
   "cell_type": "code",
   "execution_count": 6,
   "id": "71af9ca0-787c-4fb5-96c1-4af181e40bf0",
   "metadata": {
    "tags": []
   },
   "outputs": [],
   "source": [
    "l = dat['B']"
   ]
  },
  {
   "cell_type": "code",
   "execution_count": 7,
   "id": "c69e7ffa-03d0-4a9a-b5c6-2e2d3ad5f634",
   "metadata": {
    "tags": []
   },
   "outputs": [
    {
     "data": {
      "text/plain": [
       "dict_keys(['nofg_cl', 'fg2_cl', 'fid', 'fidm', 'NOFG-MCN0', 'fg1-MCN0', 'fg2-MCN0', 'NOFG-MCER', 'fg2-MCER', 'NOFG-MF', 'fg2-MF', 'B'])"
      ]
     },
     "execution_count": 7,
     "metadata": {},
     "output_type": "execute_result"
    }
   ],
   "source": [
    "dat.keys()"
   ]
  },
  {
   "cell_type": "code",
   "execution_count": 23,
   "id": "ca4bed39-68aa-4d71-b55c-0b8a76510817",
   "metadata": {
    "tags": []
   },
   "outputs": [],
   "source": [
    "dat1 = dat['nofg_cl']\n",
    "dat2 = dat['fg2_cl']"
   ]
  },
  {
   "cell_type": "code",
   "execution_count": 8,
   "id": "58108d73-d1e5-4ac9-90e7-14fad0c95812",
   "metadata": {
    "tags": []
   },
   "outputs": [],
   "source": [
    "std1 = dat['nofg_cl'].std(axis=0)\n",
    "std2 = dat['fg2_cl'].std(axis=0)"
   ]
  },
  {
   "cell_type": "code",
   "execution_count": 46,
   "id": "2448c043-638d-41ed-ad57-7836fa034aa5",
   "metadata": {
    "tags": []
   },
   "outputs": [],
   "source": [
    "cov1 = np.cov(dat['nofg_cl'].T)\n",
    "cov2 = np.cov(dat['fg2_cl'].T)"
   ]
  },
  {
   "cell_type": "code",
   "execution_count": 11,
   "id": "65c2bbe6-3f14-4b2e-a70a-426bd5bbc1df",
   "metadata": {
    "tags": []
   },
   "outputs": [],
   "source": [
    "n0_nofg = dat['NOFG-MCN0']\n",
    "n0_fg1 = dat['fg1-MCN0']\n",
    "n0_fg2 = dat['fg2-MCN0']"
   ]
  },
  {
   "cell_type": "code",
   "execution_count": 15,
   "id": "0716e685-a162-4909-85e1-208869d9b4c1",
   "metadata": {
    "tags": []
   },
   "outputs": [],
   "source": [
    "b = dat['B']"
   ]
  },
  {
   "cell_type": "code",
   "execution_count": 16,
   "id": "388aa143-6b64-4ceb-8d6c-ef4a3f032bc1",
   "metadata": {
    "tags": []
   },
   "outputs": [],
   "source": [
    "fid = dat['fid']"
   ]
  },
  {
   "cell_type": "code",
   "execution_count": 17,
   "id": "fe764399-e2a0-4e0c-b2d1-d99cc4dad29c",
   "metadata": {
    "tags": []
   },
   "outputs": [],
   "source": [
    "n0_nofg_b = bin_cell(n0_nofg)\n",
    "n0_fg1_b = bin_cell(n0_fg1)\n",
    "n0_fg2_b = bin_cell(n0_fg2)"
   ]
  },
  {
   "cell_type": "code",
   "execution_count": 79,
   "id": "9725edb1-6879-4023-a27d-a187678f04d0",
   "metadata": {
    "tags": []
   },
   "outputs": [],
   "source": [
    "d_fg1 = n0_fg1_b-n0_nofg_b\n",
    "d_fg2 = n0_fg2_b-n0_nofg_b"
   ]
  },
  {
   "cell_type": "code",
   "execution_count": 42,
   "id": "48aa4e1c-a424-4369-9455-1a9431d1f16b",
   "metadata": {
    "tags": []
   },
   "outputs": [],
   "source": [
    "def chi_sq(alens,cl,which):\n",
    "    dcl = cl - (alens*fid)\n",
    "    if which == 0:\n",
    "        cov = cov1\n",
    "    elif (which == 1) or (which == 2):\n",
    "        cov = cov2\n",
    "    return np.dot(dcl,np.dot(np.linalg.inv(cov),dcl))"
   ]
  },
  {
   "cell_type": "code",
   "execution_count": 43,
   "id": "2cada8bf-32ed-4314-8894-b1c1a0891df7",
   "metadata": {
    "tags": []
   },
   "outputs": [],
   "source": [
    "def log_prior(theta):\n",
    "    if 0.5 < theta < 1.5:\n",
    "        return 0.0\n",
    "    return -np.inf\n",
    "\n",
    "def log_likelihood(theta,cl,which):\n",
    "    return -0.5 * chi_sq(theta,cl,which)\n",
    "\n",
    "def log_probability(theta,cl,which):\n",
    "    lp = log_prior(theta)\n",
    "    if not np.isfinite(lp):\n",
    "        return -np.inf\n",
    "    return lp + log_likelihood(theta,cl,which)"
   ]
  },
  {
   "cell_type": "code",
   "execution_count": 55,
   "id": "f547ee48-f684-491e-92f9-fe05720db84a",
   "metadata": {
    "tags": []
   },
   "outputs": [],
   "source": [
    "def get_samples(which,cl):\n",
    "    pos = [1] + 1e-1 * np.random.randn(64, 1)\n",
    "    nwalkers,ndim = pos.shape\n",
    "    sampler = emcee.EnsembleSampler(nwalkers, ndim, log_probability,args=(cl,which) )\n",
    "    sampler.run_mcmc(pos, 2000, progress=True)\n",
    "    flat_samples = sampler.get_chain(discard=100, thin=15, flat=True)\n",
    "    return flat_samples"
   ]
  },
  {
   "cell_type": "code",
   "execution_count": 56,
   "id": "14f1e17e-094e-4801-9443-a64f1c12a4c6",
   "metadata": {
    "tags": []
   },
   "outputs": [
    {
     "name": "stderr",
     "output_type": "stream",
     "text": [
      "100%|██████████| 2000/2000 [00:05<00:00, 352.70it/s]\n"
     ]
    }
   ],
   "source": [
    "nofg_samp = get_samples(0,dat1.mean(axis=0))"
   ]
  },
  {
   "cell_type": "code",
   "execution_count": 57,
   "id": "44f63d54-74d3-4295-aeb6-9fd3feccc76a",
   "metadata": {
    "tags": []
   },
   "outputs": [
    {
     "name": "stderr",
     "output_type": "stream",
     "text": [
      "100%|██████████| 2000/2000 [00:05<00:00, 342.04it/s]\n"
     ]
    }
   ],
   "source": [
    "fg2_samp = get_samples(2,dat2.mean(axis=0))"
   ]
  },
  {
   "cell_type": "code",
   "execution_count": 71,
   "id": "f5a17234-3256-4aae-bfee-e203e1c3b9d8",
   "metadata": {
    "tags": []
   },
   "outputs": [
    {
     "name": "stderr",
     "output_type": "stream",
     "text": [
      "100%|██████████| 2000/2000 [00:05<00:00, 345.90it/s]\n"
     ]
    }
   ],
   "source": [
    "fg2_dn0_samp = get_samples(2,dat2.mean(axis=0)+d_fg2)"
   ]
  },
  {
   "cell_type": "code",
   "execution_count": 83,
   "id": "9339e5b5-f2a6-4be2-8506-587fa7cdfe1c",
   "metadata": {
    "tags": []
   },
   "outputs": [
    {
     "name": "stderr",
     "output_type": "stream",
     "text": [
      "100%|██████████| 2000/2000 [00:05<00:00, 352.13it/s]\n"
     ]
    }
   ],
   "source": [
    "fg1_dn0_samp = get_samples(2,dat2.mean(axis=0)+d_fg1)"
   ]
  },
  {
   "cell_type": "code",
   "execution_count": 84,
   "id": "f2e9c31d-be2e-4885-9751-f2c860d8e83e",
   "metadata": {
    "tags": []
   },
   "outputs": [
    {
     "name": "stdout",
     "output_type": "stream",
     "text": [
      "Removed no burn in\n",
      "Removed no burn in\n",
      "Removed no burn in\n",
      "Removed no burn in\n"
     ]
    }
   ],
   "source": [
    "nofg_mc =  MCSamples(samples=nofg_samp,names=['Alens'], label='No FG')\n",
    "fg2_mc = MCSamples(samples=fg2_samp,names=['Alens'],label='FG 2')\n",
    "fg2_dn0_mc = MCSamples(samples=fg2_dn0_samp,names=['Alens'],label='FG 2')\n",
    "fg1_dn0_mc = MCSamples(samples=fg1_dn0_samp,names=['Alens'],label='FG 2')"
   ]
  },
  {
   "cell_type": "code",
   "execution_count": 67,
   "id": "5275ae72-01a1-4b70-9cdb-a6be9786f629",
   "metadata": {
    "tags": []
   },
   "outputs": [
    {
     "data": {
      "image/png": "[encoded data removed]",
      "text/plain": [
       "<Figure size 288x288 with 1 Axes>"
      ]
     },
     "metadata": {
      "needs_background": "light"
     },
     "output_type": "display_data"
    }
   ],
   "source": [
    "g = plots.get_subplot_plotter(width_inch=4)\n",
    "g.triangle_plot([nofg_mc], ['Alens'],legend_labels=['No FG'],title_limit=1)"
   ]
  },
  {
   "cell_type": "code",
   "execution_count": 68,
   "id": "76106113-7b76-46c7-bb88-867bb6581e30",
   "metadata": {
    "tags": []
   },
   "outputs": [
    {
     "data": {
      "image/png": "[encoded data removed]",
      "text/plain": [
       "<Figure size 288x288 with 1 Axes>"
      ]
     },
     "metadata": {
      "needs_background": "light"
     },
     "output_type": "display_data"
    }
   ],
   "source": [
    "g = plots.get_subplot_plotter(width_inch=4)\n",
    "g.triangle_plot([fg2_mc], ['Alens'],legend_labels=['s1d1'],title_limit=1)"
   ]
  },
  {
   "cell_type": "code",
   "execution_count": 82,
   "id": "b931f58d-32ef-45a8-b65d-59eccbe035e6",
   "metadata": {
    "tags": []
   },
   "outputs": [
    {
     "data": {
      "image/png": "[encoded data removed]",
      "text/plain": [
       "<Figure size 288x288 with 1 Axes>"
      ]
     },
     "metadata": {
      "needs_background": "light"
     },
     "output_type": "display_data"
    }
   ],
   "source": [
    "g = plots.get_subplot_plotter(width_inch=4)\n",
    "g.triangle_plot([fg2_dn0_mc], ['Alens'],legend_labels=['s1d1 + $\\Delta(N0)$'],title_limit=1)"
   ]
  },
  {
   "cell_type": "code",
   "execution_count": 85,
   "id": "7c691d36-ca6b-4b4b-87c7-268359ae241c",
   "metadata": {
    "tags": []
   },
   "outputs": [
    {
     "data": {
      "image/png": "[encoded data removed]",
      "text/plain": [
       "<Figure size 288x288 with 1 Axes>"
      ]
     },
     "metadata": {
      "needs_background": "light"
     },
     "output_type": "display_data"
    }
   ],
   "source": [
    "g = plots.get_subplot_plotter(width_inch=4)\n",
    "g.triangle_plot([fg1_dn0_mc], ['Alens'],legend_labels=['s1d1 + $\\Delta(N0)$'],title_limit=1)"
   ]
  },
  {
   "cell_type": "code",
   "execution_count": null,
   "id": "ec6b459c-2820-4ba3-bb8a-9dfb26f1772f",
   "metadata": {},
   "outputs": [],
   "source": []
  }
 ],
 "metadata": {
  "kernelspec": {
   "display_name": "Pylens",
   "language": "python",
   "name": "cmblens"
  },
  "language_info": {
   "codemirror_mode": {
    "name": "ipython",
    "version": 3
   },
   "file_extension": ".py",
   "mimetype": "text/x-python",
   "name": "python",
   "nbconvert_exporter": "python",
   "pygments_lexer": "ipython3",
   "version": "3.7.2"
  }
 },
 "nbformat": 4,
 "nbformat_minor": 5
}
