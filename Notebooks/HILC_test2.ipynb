{
 "cells": [
  {
   "cell_type": "code",
   "execution_count": 1,
   "id": "c718c492-d8fe-45ef-a2c9-6b5fcc77c0ad",
   "metadata": {},
   "outputs": [
    {
     "name": "stderr",
     "output_type": "stream",
     "text": [
      "\n",
      "WARNING: version mismatch between CFITSIO header (v4.000999999999999) and linked library (v4.01).\n",
      "\n",
      "\n",
      "WARNING: version mismatch between CFITSIO header (v4.000999999999999) and linked library (v4.01).\n",
      "\n",
      "\n",
      "WARNING: version mismatch between CFITSIO header (v4.000999999999999) and linked library (v4.01).\n",
      "\n"
     ]
    }
   ],
   "source": [
    "from fgbuster import harmonic_ilc_alm,CMB\n",
    "import healpy as hp\n",
    "import pysm3\n",
    "import pysm3.units as u\n",
    "import sys\n",
    "import curvedsky as cs\n",
    "import cmb\n",
    "import os\n",
    "import numpy as np\n",
    "from tqdm import tqdm\n",
    "import sys\n",
    "sys.path.append('../')\n",
    "from utils import camb_clfile,cli\n",
    "import mpi\n",
    "import matplotlib.pyplot as plt\n",
    "import pickle as pl\n",
    "from database import surveys,noise"
   ]
  },
  {
   "cell_type": "code",
   "execution_count": 6,
   "id": "668e48a8-b81e-4077-a025-07c325c5d4c8",
   "metadata": {},
   "outputs": [],
   "source": [
    "infolder = '/project/projectdirs/litebird/simulations/maps/lensing_project_paper/S4BIRD/CMB_Lensed_Maps/CMB/'\n",
    "dnside = 512\n",
    "lmax = 3*dnside -1\n",
    "maskpath = '/project/projectdirs/litebird/simulations/maps/lensing_project_paper/Masks/LB_Nside2048_fsky_0p8_binary.fits'\n",
    "fwhm = 75\n",
    "cl_lenf = '/global/cscratch1/sd/lonappan/S4BIRD/CAMB/BBSims_lensed_dls.dat'\n",
    "cl_len = cmb.read_camb_cls(cl_lenf,ftype='lens',output='array')[:,:lmax+1]"
   ]
  },
  {
   "cell_type": "code",
   "execution_count": 7,
   "id": "18384776-bd84-45f5-ac9a-f451f67134f8",
   "metadata": {},
   "outputs": [],
   "source": [
    "mask = hp.ud_grade(hp.read_map(maskpath),dnside)"
   ]
  },
  {
   "cell_type": "code",
   "execution_count": 15,
   "id": "570eb451-c293-4e7e-a1b1-a05bdfe7dd6c",
   "metadata": {},
   "outputs": [],
   "source": [
    "class INST:\n",
    "    def __init__(self,beam,frequency):\n",
    "        self.Beam = beam\n",
    "        self.fwhm = beam\n",
    "        self.frequency = frequency\n",
    "def get_cmb(idx):\n",
    "    fname = os.path.join(infolder,f\"cmb_sims_{idx:04d}.fits\")\n",
    "    return hp.ud_grade(hp.read_map(fname,(0,1,2)),dnside)\n",
    "\n",
    "def get_noise_spectra(depth_i,depth_p):\n",
    "    t = np.ones(lmax+1)*(np.radians(depth_i/60)**2)\n",
    "    e = np.ones(lmax+1)*(np.radians(depth_p/60)**2)\n",
    "    b = np.ones(lmax+1)*(np.radians(depth_p/60)**2)\n",
    "    return t,e,b\n",
    "\n",
    "def get_noise_alm(depth_i,depth_p):\n",
    "    t,e,b = get_noise_spectra(depth_i,depth_p)\n",
    "    t = hp.synalm(t,lmax=lmax)\n",
    "    e = hp.synalm(e,lmax=lmax)\n",
    "    b = hp.synalm(b,lmax=lmax)\n",
    "    return t,e,b\n",
    "\n",
    "def get_noise_map(depth_i,depth_p):\n",
    "    t,e,b = get_noise_alm(depth_i,depth_p)\n",
    "    return hp.alm2map([t,e,b],nside=dnside)\n",
    "\n",
    "def get_fg(v):\n",
    "    fname = os.path.join(fg_dir,f\"{fg_str}_{int(v)}.fits\")\n",
    "    return hp.ud_grade(hp.read_map(fname,(0,1,2)),dnside)\n",
    "\n",
    "def get_total_maps(idx,v,n_t,n_p,beam):\n",
    "    maps = hp.smoothing(get_cmb(idx) + get_fg(v),fwhm=np.radians(beam/60)) + get_noise_map(n_t,n_p)\n",
    "    return hp.map2alm(hp.smoothing(maps,np.radians(fwhm/60))*mask)\n",
    "\n",
    "def get_maps_arr(idx,v,n_t,n_p,beam):\n",
    "        arr = []\n",
    "        for i in tqdm(range(len(v)),desc=\"Making map\",unit='Freq'):\n",
    "            arr.append(get_total_maps(idx,v[i],n_t[i],n_p[i],beam[i]))\n",
    "        return np.array(arr)"
   ]
  },
  {
   "cell_type": "code",
   "execution_count": 16,
   "id": "7b8704c6-4460-48e9-b4f8-975b245c0274",
   "metadata": {},
   "outputs": [],
   "source": [
    "sigma = 2.16\n",
    "Tcmb  = 2.726e6\n",
    "beam_fl = hp.gauss_beam(np.radians(fwhm/30),lmax=lmax)\n",
    "Bl = np.reshape(beam_fl,(1,lmax+1))\n",
    "invn = mask * (np.radians(sigma/60)/Tcmb)**-2\n",
    "invN = np.reshape(np.array((invn,invn)),(2,1,hp.nside2npix(dnside)))\n",
    "fg_dir = '/global/cscratch1/sd/lonappan/S4BIRD/FG'\n",
    "fg_str = \"s0d0\""
   ]
  },
  {
   "cell_type": "code",
   "execution_count": 17,
   "id": "aa1dc773-7953-4560-bbba-b5791b18063f",
   "metadata": {},
   "outputs": [],
   "source": [
    "table = surveys().get_table_dataframe(\"LITEBIRD_V1\")\n",
    "freqs = np.array(table.frequency)\n",
    "beam = np.array(table.fwhm)\n",
    "nlev_p = np.array(table.depth_p)\n",
    "nlev_t = nlev_p/np.sqrt(2)"
   ]
  },
  {
   "cell_type": "code",
   "execution_count": 18,
   "id": "8fa87b2b-d158-4bd8-978f-b6366f3381a6",
   "metadata": {},
   "outputs": [
    {
     "name": "stderr",
     "output_type": "stream",
     "text": [
      "Making map: 100%|██████████| 15/15 [17:20<00:00, 69.36s/Freq]\n"
     ]
    }
   ],
   "source": [
    "alms = get_maps_arr(0,freqs,nlev_t,nlev_p,beam)"
   ]
  },
  {
   "cell_type": "code",
   "execution_count": 19,
   "id": "b0c98200-73e7-4623-91a0-716e1ac652f7",
   "metadata": {},
   "outputs": [],
   "source": [
    "instrument = INST(None,freqs)\n",
    "components = [CMB()]\n",
    "bins = np.arange(1000) * 10"
   ]
  },
  {
   "cell_type": "code",
   "execution_count": 21,
   "id": "e2d61b59-d00e-4c62-a490-17c4f0c1e1e4",
   "metadata": {},
   "outputs": [],
   "source": [
    "result1 = harmonic_ilc_alm(components, instrument,alms,bins)"
   ]
  },
  {
   "cell_type": "code",
   "execution_count": 22,
   "id": "d783efd5-7994-494c-8537-05a3e537e0e6",
   "metadata": {},
   "outputs": [],
   "source": [
    "TEB1 = [result1.s[0,0],result1.s[0,1],result1.s[0,2]]"
   ]
  },
  {
   "cell_type": "code",
   "execution_count": 23,
   "id": "3b67c118-9b7e-4122-bbbf-db73b40a2a3e",
   "metadata": {},
   "outputs": [],
   "source": [
    "TQU1 = hp.alm2map(TEB1,dnside)"
   ]
  },
  {
   "cell_type": "code",
   "execution_count": 24,
   "id": "6d87e876-1b86-4c52-97aa-d33bce425fd6",
   "metadata": {},
   "outputs": [
    {
     "data": {
      "text/plain": [
       "<matplotlib.legend.Legend at 0x15550608ca90>"
      ]
     },
     "execution_count": 24,
     "metadata": {},
     "output_type": "execute_result"
    },
    {
     "data": {
      "image/png": "[encoded data removed]",
      "text/plain": [
       "<Figure size 432x288 with 1 Axes>"
      ]
     },
     "metadata": {
      "needs_background": "light"
     },
     "output_type": "display_data"
    }
   ],
   "source": [
    "plt.loglog(hp.alm2cl(TEB1[2]),label='method1')\n",
    "plt.ylim(10**-7,None)\n",
    "plt.legend()"
   ]
  },
  {
   "cell_type": "code",
   "execution_count": 25,
   "id": "62c6a9a7-c448-4274-b541-1cdc69d2ede5",
   "metadata": {},
   "outputs": [],
   "source": [
    "QU1 = np.reshape(np.array((TQU1[1],TQU1[2])),(2,1,hp.nside2npix(dnside)))/Tcmb"
   ]
  },
  {
   "cell_type": "code",
   "execution_count": 28,
   "id": "7a9c0a8d-25a6-4b07-9518-735b7c6fcb8c",
   "metadata": {},
   "outputs": [],
   "source": [
    "invn = mask * (np.radians(sigma/60)/Tcmb)**-2\n",
    "invN = np.reshape(np.array((invn,invn)),(2,1,hp.nside2npix(dnside)))"
   ]
  },
  {
   "cell_type": "code",
   "execution_count": 29,
   "id": "84b91320-01e1-4196-9265-b450480f8ec7",
   "metadata": {},
   "outputs": [],
   "source": [
    "cl_lenf = '/global/cscratch1/sd/lonappan/S4BIRD/CAMB/BBSims_lensed_dls.dat'\n",
    "cl_len = cmb.read_camb_cls(cl_lenf,ftype='lens',output='array')[:,:lmax+1]"
   ]
  },
  {
   "cell_type": "code",
   "execution_count": 30,
   "id": "343010ab-a61d-474f-b034-f4117c5c4dbb",
   "metadata": {},
   "outputs": [],
   "source": [
    "E1,B1 =cs.cninv.cnfilter_freq(2,1,dnside,lmax,cl_len[1:3,:],Bl,invN,QU1,chn=1,itns=[1000],eps=[1e-5],ro=10,stat='status1.txt')\n"
   ]
  },
  {
   "cell_type": "code",
   "execution_count": 31,
   "id": "f968c52c-998e-47ea-a655-a2fa009def38",
   "metadata": {},
   "outputs": [
    {
     "name": "stderr",
     "output_type": "stream",
     "text": [
      "/tmp/ipykernel_2000/2563305217.py:1: RuntimeWarning: divide by zero encountered in true_divide\n",
      "  plt.loglog(1/cl_len[2,:])\n"
     ]
    },
    {
     "data": {
      "text/plain": [
       "(100000000000000000, 1.085223820390967e+37)"
      ]
     },
     "execution_count": 31,
     "metadata": {},
     "output_type": "execute_result"
    },
    {
     "data": {
      "image/png": "[encoded data removed]",
      "text/plain": [
       "<Figure size 432x288 with 1 Axes>"
      ]
     },
     "metadata": {
      "needs_background": "light"
     },
     "output_type": "display_data"
    }
   ],
   "source": [
    "plt.loglog(1/cl_len[2,:])\n",
    "plt.loglog(cs.utils.alm2cl(lmax,B1),label='1')\n",
    "plt.legend()\n",
    "plt.ylim(10**17,None)"
   ]
  },
  {
   "cell_type": "code",
   "execution_count": 33,
   "id": "0b8ba258-382d-4c7c-adda-0a20c1a6749d",
   "metadata": {},
   "outputs": [],
   "source": [
    "TQU_woFG1 = hp.smoothing((hp.smoothing(get_cmb(0),fwhm=np.radians(30/60)) + get_noise_map(1.5,sigma)),fwhm=np.radians(fwhm/60))*mask"
   ]
  },
  {
   "cell_type": "code",
   "execution_count": 34,
   "id": "0dec381e-7252-4a2d-a25b-f05d755545d5",
   "metadata": {},
   "outputs": [],
   "source": [
    "TEB_woFG1 = hp.map2alm(TQU_woFG1)"
   ]
  },
  {
   "cell_type": "code",
   "execution_count": 35,
   "id": "c065a39e-846e-42c0-9405-d0f8d1a7ac1b",
   "metadata": {},
   "outputs": [
    {
     "data": {
      "text/plain": [
       "[<matplotlib.lines.Line2D at 0x155505d2bbe0>]"
      ]
     },
     "execution_count": 35,
     "metadata": {},
     "output_type": "execute_result"
    },
    {
     "data": {
      "image/png": "[encoded data removed]",
      "text/plain": [
       "<Figure size 432x288 with 1 Axes>"
      ]
     },
     "metadata": {
      "needs_background": "light"
     },
     "output_type": "display_data"
    }
   ],
   "source": [
    "plt.loglog(hp.alm2cl(TEB_woFG1[2]))"
   ]
  },
  {
   "cell_type": "code",
   "execution_count": 36,
   "id": "cbc02a8f-2931-4f71-8529-b9db0cf19384",
   "metadata": {},
   "outputs": [],
   "source": [
    "QU_woFG1 = np.reshape(np.array((TQU_woFG1[1],TQU_woFG1[2])),(2,1,hp.nside2npix(dnside)))/Tcmb"
   ]
  },
  {
   "cell_type": "code",
   "execution_count": 37,
   "id": "7174c2e0-3d7f-46fc-bda2-fadb63be9e2a",
   "metadata": {},
   "outputs": [],
   "source": [
    "E_noFG1,B_noFG1 =cs.cninv.cnfilter_freq(2,1,dnside,lmax,cl_len[1:3,:],Bl,invN,QU_woFG1,chn=1,itns=[1000],eps=[1e-5],ro=10,stat='status1.txt')\n",
    "\n"
   ]
  },
  {
   "cell_type": "code",
   "execution_count": 43,
   "id": "167c46a3-e755-47cf-b61c-ee9684aa74c7",
   "metadata": {},
   "outputs": [
    {
     "name": "stderr",
     "output_type": "stream",
     "text": [
      "/tmp/ipykernel_2000/2486428330.py:1: RuntimeWarning: divide by zero encountered in true_divide\n",
      "  plt.loglog(1/cl_len[2,:])\n"
     ]
    },
    {
     "data": {
      "text/plain": [
       "(0.692938323521023, 200)"
      ]
     },
     "execution_count": 43,
     "metadata": {},
     "output_type": "execute_result"
    },
    {
     "data": {
      "image/png": "[encoded data removed]",
      "text/plain": [
       "<Figure size 432x288 with 1 Axes>"
      ]
     },
     "metadata": {
      "needs_background": "light"
     },
     "output_type": "display_data"
    }
   ],
   "source": [
    "plt.loglog(1/cl_len[2,:])\n",
    "plt.loglog(cs.utils.alm2cl(lmax,B1),label='With Foreground')\n",
    "plt.loglog(cs.utils.alm2cl(lmax,B_noFG1),label='Without Foreground')\n",
    "plt.legend()\n",
    "plt.ylim(10**18,10**19)\n",
    "plt.xlim(None,200)"
   ]
  },
  {
   "cell_type": "code",
   "execution_count": 57,
   "id": "2a5e07db-3c00-4670-aed9-b3541e47adb1",
   "metadata": {},
   "outputs": [
    {
     "name": "stderr",
     "output_type": "stream",
     "text": [
      "/tmp/ipykernel_2000/363174523.py:1: RuntimeWarning: divide by zero encountered in true_divide\n",
      "  plt.plot(cs.utils.alm2cl(lmax,B1)/cs.utils.alm2cl(lmax,B_noFG1))\n",
      "/tmp/ipykernel_2000/363174523.py:1: RuntimeWarning: invalid value encountered in true_divide\n",
      "  plt.plot(cs.utils.alm2cl(lmax,B1)/cs.utils.alm2cl(lmax,B_noFG1))\n",
      "/tmp/ipykernel_2000/363174523.py:2: RuntimeWarning: divide by zero encountered in true_divide\n",
      "  plt.plot(cs.utils.alm2cl(lmax,E1)/cs.utils.alm2cl(lmax,E_noFG1))\n",
      "/tmp/ipykernel_2000/363174523.py:2: RuntimeWarning: invalid value encountered in true_divide\n",
      "  plt.plot(cs.utils.alm2cl(lmax,E1)/cs.utils.alm2cl(lmax,E_noFG1))\n",
      "/tmp/ipykernel_2000/363174523.py:5: UserWarning: Attempted to set non-positive left xlim on a log-scaled axis.\n",
      "Invalid limit will be ignored.\n",
      "  plt.xlim(0,200)\n"
     ]
    },
    {
     "data": {
      "text/plain": [
       "<matplotlib.lines.Line2D at 0x15550413ef20>"
      ]
     },
     "execution_count": 57,
     "metadata": {},
     "output_type": "execute_result"
    },
    {
     "data": {
      "image/png": "[encoded data removed]",
      "text/plain": [
       "<Figure size 432x288 with 1 Axes>"
      ]
     },
     "metadata": {
      "needs_background": "light"
     },
     "output_type": "display_data"
    }
   ],
   "source": [
    "plt.plot(cs.utils.alm2cl(lmax,B1)/cs.utils.alm2cl(lmax,B_noFG1))\n",
    "plt.plot(cs.utils.alm2cl(lmax,E1)/cs.utils.alm2cl(lmax,E_noFG1))\n",
    "plt.semilogx()\n",
    "plt.ylim(0,2.5)\n",
    "plt.xlim(0,200)\n",
    "plt.axhline(1.25,c='r')\n",
    "plt.axhline(1,c='k')"
   ]
  },
  {
   "cell_type": "code",
   "execution_count": 58,
   "id": "0617e839-0954-4596-8e27-afc3e34c5be9",
   "metadata": {},
   "outputs": [],
   "source": [
    "Nl_P = []\n",
    "for b,n in zip(beam,np.radians(nlev_p/60)**2):\n",
    "    Nl_P.append(np.ones(lmax+1)*n)\n",
    "Nl_P = np.array(Nl_P)"
   ]
  },
  {
   "cell_type": "code",
   "execution_count": 61,
   "id": "60339c79-2aad-4592-8348-d81377b055be",
   "metadata": {},
   "outputs": [],
   "source": [
    "w_bb = result1.W[2]\n",
    "nl_bb = np.zeros(lmax+1)\n",
    "for i in range(lmax+1):\n",
    "    nl_bb[i] = np.dot(Nl_P[:, i], w_bb[i][0]**2)\n",
    "    \n",
    "\n",
    "w_ee = result1.W[1]\n",
    "nl_ee = np.zeros(lmax+1)\n",
    "for i in range(lmax+1):\n",
    "    nl_ee[i] = np.dot(Nl_P[:, i], w_ee[i][0]**2)"
   ]
  },
  {
   "cell_type": "code",
   "execution_count": 63,
   "id": "d95372c0-d47a-4879-99e0-cb56f68e46f7",
   "metadata": {},
   "outputs": [
    {
     "data": {
      "text/plain": [
       "<matplotlib.legend.Legend at 0x155503ef2ad0>"
      ]
     },
     "execution_count": 63,
     "metadata": {},
     "output_type": "execute_result"
    },
    {
     "data": {
      "image/png": "[encoded data removed]",
      "text/plain": [
       "<Figure size 432x288 with 1 Axes>"
      ]
     },
     "metadata": {
      "needs_background": "light"
     },
     "output_type": "display_data"
    }
   ],
   "source": [
    "plt.loglog(nl_bb,label='BB')\n",
    "plt.loglog(nl_ee,label='EE')\n",
    "plt.loglog(cl_len[2,:]*Tcmb**2,label='$C_\\ell^{BB}$')\n",
    "plt.axhline(np.radians(2.16/60)**2,label='$2.16 \\mu k -arcmin$')\n",
    "plt.ylabel(\"$N_\\ell$\")\n",
    "plt.legend()"
   ]
  },
  {
   "cell_type": "code",
   "execution_count": 64,
   "id": "e9a5bc16-4a1b-4f11-b7f3-3a78ebfc0c1f",
   "metadata": {},
   "outputs": [],
   "source": [
    "NL = np.reshape(np.array((cli(nl_ee[:lmax+1]/Tcmb**2),cli(nl_bb[:lmax+1]/Tcmb**2))),(2,1,lmax+1))"
   ]
  },
  {
   "cell_type": "code",
   "execution_count": 66,
   "id": "7cb8eafb-2244-402b-89e7-95819de53601",
   "metadata": {},
   "outputs": [],
   "source": [
    "E4,B4 = cs.cninv.cnfilter_freq(2,1,dnside,lmax,cl_len[1:3,:],\n",
    "                Bl,np.reshape(np.array((mask,mask)),(2,1,hp.nside2npix(dnside))),QU1,chn=1,itns=[1000],eps=[1e-5],ro=10,inl=NL,stat='statues.txt')\n",
    "\n",
    "\n"
   ]
  },
  {
   "cell_type": "code",
   "execution_count": 67,
   "id": "2e4b6bf7-8493-4e2d-b73b-664cd7b0e7d5",
   "metadata": {},
   "outputs": [
    {
     "name": "stderr",
     "output_type": "stream",
     "text": [
      "/tmp/ipykernel_2000/1252749084.py:1: RuntimeWarning: divide by zero encountered in true_divide\n",
      "  plt.loglog(1/cl_len[2,:])\n"
     ]
    },
    {
     "data": {
      "text/plain": [
       "(0.692938323521023, 200)"
      ]
     },
     "execution_count": 67,
     "metadata": {},
     "output_type": "execute_result"
    },
    {
     "data": {
      "image/png": "[encoded data removed]",
      "text/plain": [
       "<Figure size 432x288 with 1 Axes>"
      ]
     },
     "metadata": {
      "needs_background": "light"
     },
     "output_type": "display_data"
    }
   ],
   "source": [
    "plt.loglog(1/cl_len[2,:])\n",
    "plt.loglog(cs.utils.alm2cl(lmax,B4),label='With Foreground')\n",
    "plt.loglog(cs.utils.alm2cl(lmax,B_noFG1),label='Without Foreground')\n",
    "plt.legend()\n",
    "plt.ylim(10**18,10**19)\n",
    "plt.xlim(None,200)"
   ]
  },
  {
   "cell_type": "code",
   "execution_count": 68,
   "id": "7bfaa5eb-0898-4b0a-9296-693e2c949a11",
   "metadata": {},
   "outputs": [
    {
     "name": "stderr",
     "output_type": "stream",
     "text": [
      "/tmp/ipykernel_2000/1719427221.py:1: RuntimeWarning: invalid value encountered in true_divide\n",
      "  plt.plot(cs.utils.alm2cl(lmax,B4)/cs.utils.alm2cl(lmax,B_noFG1))\n",
      "/tmp/ipykernel_2000/1719427221.py:2: RuntimeWarning: invalid value encountered in true_divide\n",
      "  plt.plot(cs.utils.alm2cl(lmax,E4)/cs.utils.alm2cl(lmax,E_noFG1))\n",
      "/tmp/ipykernel_2000/1719427221.py:5: UserWarning: Attempted to set non-positive left xlim on a log-scaled axis.\n",
      "Invalid limit will be ignored.\n",
      "  plt.xlim(0,200)\n"
     ]
    },
    {
     "data": {
      "text/plain": [
       "<matplotlib.lines.Line2D at 0x155503b495a0>"
      ]
     },
     "execution_count": 68,
     "metadata": {},
     "output_type": "execute_result"
    },
    {
     "data": {
      "image/png": "[encoded data removed]",
      "text/plain": [
       "<Figure size 432x288 with 1 Axes>"
      ]
     },
     "metadata": {
      "needs_background": "light"
     },
     "output_type": "display_data"
    }
   ],
   "source": [
    "plt.plot(cs.utils.alm2cl(lmax,B4)/cs.utils.alm2cl(lmax,B_noFG1))\n",
    "plt.plot(cs.utils.alm2cl(lmax,E4)/cs.utils.alm2cl(lmax,E_noFG1))\n",
    "plt.semilogx()\n",
    "plt.ylim(0,2.5)\n",
    "plt.xlim(0,200)\n",
    "plt.axhline(1.25,c='r')\n",
    "plt.axhline(1,c='k')"
   ]
  },
  {
   "cell_type": "code",
   "execution_count": 69,
   "id": "28cc725f-7f8f-4e55-91fa-5af5615d0e59",
   "metadata": {},
   "outputs": [
    {
     "data": {
      "text/html": [
       "<div>\n",
       "<style scoped>\n",
       "    .dataframe tbody tr th:only-of-type {\n",
       "        vertical-align: middle;\n",
       "    }\n",
       "\n",
       "    .dataframe tbody tr th {\n",
       "        vertical-align: top;\n",
       "    }\n",
       "\n",
       "    .dataframe thead th {\n",
       "        text-align: right;\n",
       "    }\n",
       "</style>\n",
       "<table border=\"1\" class=\"dataframe\">\n",
       "  <thead>\n",
       "    <tr style=\"text-align: right;\">\n",
       "      <th></th>\n",
       "      <th>level_0</th>\n",
       "      <th>index</th>\n",
       "      <th>frequency</th>\n",
       "      <th>depth_p</th>\n",
       "      <th>fwhm</th>\n",
       "      <th>bandwidth</th>\n",
       "      <th>pixel_size</th>\n",
       "      <th>detectors</th>\n",
       "      <th>net_det</th>\n",
       "      <th>net_arr_t</th>\n",
       "      <th>net_arr_p</th>\n",
       "    </tr>\n",
       "  </thead>\n",
       "  <tbody>\n",
       "    <tr>\n",
       "      <th>0</th>\n",
       "      <td>0</td>\n",
       "      <td>0</td>\n",
       "      <td>40.0</td>\n",
       "      <td>37.42</td>\n",
       "      <td>70.5</td>\n",
       "      <td>0.30</td>\n",
       "      <td>18.0</td>\n",
       "      <td>114</td>\n",
       "      <td>172</td>\n",
       "      <td>18.0</td>\n",
       "      <td>25.5</td>\n",
       "    </tr>\n",
       "    <tr>\n",
       "      <th>1</th>\n",
       "      <td>1</td>\n",
       "      <td>1</td>\n",
       "      <td>50.0</td>\n",
       "      <td>33.46</td>\n",
       "      <td>58.5</td>\n",
       "      <td>0.30</td>\n",
       "      <td>18.0</td>\n",
       "      <td>114</td>\n",
       "      <td>96</td>\n",
       "      <td>11.5</td>\n",
       "      <td>16.3</td>\n",
       "    </tr>\n",
       "    <tr>\n",
       "      <th>2</th>\n",
       "      <td>2</td>\n",
       "      <td>2</td>\n",
       "      <td>60.0</td>\n",
       "      <td>21.31</td>\n",
       "      <td>51.1</td>\n",
       "      <td>0.23</td>\n",
       "      <td>18.0</td>\n",
       "      <td>114</td>\n",
       "      <td>79</td>\n",
       "      <td>9.5</td>\n",
       "      <td>13.5</td>\n",
       "    </tr>\n",
       "    <tr>\n",
       "      <th>3</th>\n",
       "      <td>3</td>\n",
       "      <td>3</td>\n",
       "      <td>68.0</td>\n",
       "      <td>16.87</td>\n",
       "      <td>47.1</td>\n",
       "      <td>0.23</td>\n",
       "      <td>18.0</td>\n",
       "      <td>114</td>\n",
       "      <td>64</td>\n",
       "      <td>7.8</td>\n",
       "      <td>11.0</td>\n",
       "    </tr>\n",
       "    <tr>\n",
       "      <th>4</th>\n",
       "      <td>4</td>\n",
       "      <td>4</td>\n",
       "      <td>78.0</td>\n",
       "      <td>12.07</td>\n",
       "      <td>43.8</td>\n",
       "      <td>0.23</td>\n",
       "      <td>18.0</td>\n",
       "      <td>114</td>\n",
       "      <td>54</td>\n",
       "      <td>6.5</td>\n",
       "      <td>9.2</td>\n",
       "    </tr>\n",
       "    <tr>\n",
       "      <th>5</th>\n",
       "      <td>5</td>\n",
       "      <td>5</td>\n",
       "      <td>89.0</td>\n",
       "      <td>11.30</td>\n",
       "      <td>41.5</td>\n",
       "      <td>0.23</td>\n",
       "      <td>18.0</td>\n",
       "      <td>114</td>\n",
       "      <td>47</td>\n",
       "      <td>5.6</td>\n",
       "      <td>8.0</td>\n",
       "    </tr>\n",
       "    <tr>\n",
       "      <th>6</th>\n",
       "      <td>6</td>\n",
       "      <td>6</td>\n",
       "      <td>100.0</td>\n",
       "      <td>6.56</td>\n",
       "      <td>37.8</td>\n",
       "      <td>0.23</td>\n",
       "      <td>12.0</td>\n",
       "      <td>296</td>\n",
       "      <td>59</td>\n",
       "      <td>4.4</td>\n",
       "      <td>6.2</td>\n",
       "    </tr>\n",
       "    <tr>\n",
       "      <th>7</th>\n",
       "      <td>7</td>\n",
       "      <td>7</td>\n",
       "      <td>119.0</td>\n",
       "      <td>4.58</td>\n",
       "      <td>33.6</td>\n",
       "      <td>0.30</td>\n",
       "      <td>12.0</td>\n",
       "      <td>222</td>\n",
       "      <td>42</td>\n",
       "      <td>3.7</td>\n",
       "      <td>5.2</td>\n",
       "    </tr>\n",
       "    <tr>\n",
       "      <th>8</th>\n",
       "      <td>8</td>\n",
       "      <td>8</td>\n",
       "      <td>140.0</td>\n",
       "      <td>4.79</td>\n",
       "      <td>30.8</td>\n",
       "      <td>0.30</td>\n",
       "      <td>12.0</td>\n",
       "      <td>296</td>\n",
       "      <td>38</td>\n",
       "      <td>2.8</td>\n",
       "      <td>4.0</td>\n",
       "    </tr>\n",
       "    <tr>\n",
       "      <th>9</th>\n",
       "      <td>9</td>\n",
       "      <td>9</td>\n",
       "      <td>166.0</td>\n",
       "      <td>5.57</td>\n",
       "      <td>28.9</td>\n",
       "      <td>0.30</td>\n",
       "      <td>12.0</td>\n",
       "      <td>222</td>\n",
       "      <td>36</td>\n",
       "      <td>3.1</td>\n",
       "      <td>4.4</td>\n",
       "    </tr>\n",
       "    <tr>\n",
       "      <th>10</th>\n",
       "      <td>10</td>\n",
       "      <td>10</td>\n",
       "      <td>195.0</td>\n",
       "      <td>5.85</td>\n",
       "      <td>28.6</td>\n",
       "      <td>0.30</td>\n",
       "      <td>12.0</td>\n",
       "      <td>296</td>\n",
       "      <td>37</td>\n",
       "      <td>2.8</td>\n",
       "      <td>3.9</td>\n",
       "    </tr>\n",
       "    <tr>\n",
       "      <th>11</th>\n",
       "      <td>11</td>\n",
       "      <td>11</td>\n",
       "      <td>235.0</td>\n",
       "      <td>10.79</td>\n",
       "      <td>24.7</td>\n",
       "      <td>0.30</td>\n",
       "      <td>12.0</td>\n",
       "      <td>222</td>\n",
       "      <td>43</td>\n",
       "      <td>3.7</td>\n",
       "      <td>5.2</td>\n",
       "    </tr>\n",
       "    <tr>\n",
       "      <th>12</th>\n",
       "      <td>12</td>\n",
       "      <td>12</td>\n",
       "      <td>280.0</td>\n",
       "      <td>13.80</td>\n",
       "      <td>22.5</td>\n",
       "      <td>0.30</td>\n",
       "      <td>5.4</td>\n",
       "      <td>128</td>\n",
       "      <td>55</td>\n",
       "      <td>6.3</td>\n",
       "      <td>8.9</td>\n",
       "    </tr>\n",
       "    <tr>\n",
       "      <th>13</th>\n",
       "      <td>13</td>\n",
       "      <td>13</td>\n",
       "      <td>337.0</td>\n",
       "      <td>21.95</td>\n",
       "      <td>20.9</td>\n",
       "      <td>0.30</td>\n",
       "      <td>4.5</td>\n",
       "      <td>128</td>\n",
       "      <td>81</td>\n",
       "      <td>9.4</td>\n",
       "      <td>13.2</td>\n",
       "    </tr>\n",
       "    <tr>\n",
       "      <th>14</th>\n",
       "      <td>14</td>\n",
       "      <td>14</td>\n",
       "      <td>402.0</td>\n",
       "      <td>47.45</td>\n",
       "      <td>17.9</td>\n",
       "      <td>0.23</td>\n",
       "      <td>4.0</td>\n",
       "      <td>128</td>\n",
       "      <td>156</td>\n",
       "      <td>18.0</td>\n",
       "      <td>25.5</td>\n",
       "    </tr>\n",
       "  </tbody>\n",
       "</table>\n",
       "</div>"
      ],
      "text/plain": [
       "    level_0  index  frequency  depth_p  fwhm  bandwidth  pixel_size  \\\n",
       "0         0      0       40.0    37.42  70.5       0.30        18.0   \n",
       "1         1      1       50.0    33.46  58.5       0.30        18.0   \n",
       "2         2      2       60.0    21.31  51.1       0.23        18.0   \n",
       "3         3      3       68.0    16.87  47.1       0.23        18.0   \n",
       "4         4      4       78.0    12.07  43.8       0.23        18.0   \n",
       "5         5      5       89.0    11.30  41.5       0.23        18.0   \n",
       "6         6      6      100.0     6.56  37.8       0.23        12.0   \n",
       "7         7      7      119.0     4.58  33.6       0.30        12.0   \n",
       "8         8      8      140.0     4.79  30.8       0.30        12.0   \n",
       "9         9      9      166.0     5.57  28.9       0.30        12.0   \n",
       "10       10     10      195.0     5.85  28.6       0.30        12.0   \n",
       "11       11     11      235.0    10.79  24.7       0.30        12.0   \n",
       "12       12     12      280.0    13.80  22.5       0.30         5.4   \n",
       "13       13     13      337.0    21.95  20.9       0.30         4.5   \n",
       "14       14     14      402.0    47.45  17.9       0.23         4.0   \n",
       "\n",
       "    detectors  net_det  net_arr_t  net_arr_p  \n",
       "0         114      172       18.0       25.5  \n",
       "1         114       96       11.5       16.3  \n",
       "2         114       79        9.5       13.5  \n",
       "3         114       64        7.8       11.0  \n",
       "4         114       54        6.5        9.2  \n",
       "5         114       47        5.6        8.0  \n",
       "6         296       59        4.4        6.2  \n",
       "7         222       42        3.7        5.2  \n",
       "8         296       38        2.8        4.0  \n",
       "9         222       36        3.1        4.4  \n",
       "10        296       37        2.8        3.9  \n",
       "11        222       43        3.7        5.2  \n",
       "12        128       55        6.3        8.9  \n",
       "13        128       81        9.4       13.2  \n",
       "14        128      156       18.0       25.5  "
      ]
     },
     "execution_count": 69,
     "metadata": {},
     "output_type": "execute_result"
    }
   ],
   "source": [
    "table"
   ]
  },
  {
   "cell_type": "code",
   "execution_count": 6,
   "id": "dd7fb5ed-b9ea-4619-aacd-0188e207a504",
   "metadata": {},
   "outputs": [
    {
     "data": {
      "text/plain": [
       "[<matplotlib.lines.Line2D at 0x15550a707550>]"
      ]
     },
     "execution_count": 6,
     "metadata": {},
     "output_type": "execute_result"
    },
    {
     "data": {
      "image/png": "[encoded data removed]",
      "text/plain": [
       "<Figure size 432x288 with 1 Axes>"
      ]
     },
     "metadata": {
      "needs_background": "light"
     },
     "output_type": "display_data"
    }
   ],
   "source": [
    "plt.loglog(hp.gauss_beam(np.radians(75/60),lmax=1500))\n",
    "plt.loglog(hp.gauss_beam(np.radians(30/60),lmax=1500))\n",
    "plt.loglog(hp.gauss_beam(np.radians(75/60),lmax=1500)/hp.gauss_beam(np.radians(30/60),lmax=1500))"
   ]
  },
  {
   "cell_type": "code",
   "execution_count": null,
   "id": "669e7e82-54b7-432d-b209-15ae54e38266",
   "metadata": {},
   "outputs": [],
   "source": []
  }
 ],
 "metadata": {
  "kernelspec": {
   "display_name": "Pylens",
   "language": "python",
   "name": "cmblens"
  },
  "language_info": {
   "codemirror_mode": {
    "name": "ipython",
    "version": 3
   },
   "file_extension": ".py",
   "mimetype": "text/x-python",
   "name": "python",
   "nbconvert_exporter": "python",
   "pygments_lexer": "ipython3",
   "version": "3.10.4"
  }
 },
 "nbformat": 4,
 "nbformat_minor": 5
}
