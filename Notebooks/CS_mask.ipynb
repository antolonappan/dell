{
 "cells": [
  {
   "cell_type": "code",
   "execution_count": 1,
   "id": "de4fcad4-10dd-4d20-8317-a5e8ceabcfbb",
   "metadata": {},
   "outputs": [
    {
     "name": "stderr",
     "output_type": "stream",
     "text": [
      "\n",
      "WARNING: version mismatch between CFITSIO header (v4.000999999999999) and linked library (v4.01).\n",
      "\n",
      "\n",
      "WARNING: version mismatch between CFITSIO header (v4.000999999999999) and linked library (v4.01).\n",
      "\n",
      "\n",
      "WARNING: version mismatch between CFITSIO header (v4.000999999999999) and linked library (v4.01).\n",
      "\n"
     ]
    }
   ],
   "source": [
    "import os\n",
    "import sys\n",
    "sys.path.append('../')\n",
    "from utils import camb_clfile\n",
    "import matplotlib.pyplot as plt\n",
    "import curvedsky as cs\n",
    "import healpy as hp"
   ]
  },
  {
   "cell_type": "code",
   "execution_count": 6,
   "id": "3d3fa631-a6c3-483f-bb25-c2dba3a4c02a",
   "metadata": {},
   "outputs": [
    {
     "name": "stdout",
     "output_type": "stream",
     "text": [
      "The autoreload extension is already loaded. To reload it, use:\n",
      "  %reload_ext autoreload\n"
     ]
    }
   ],
   "source": [
    "%load_ext autoreload\n",
    "%autoreload 2\n",
    "from simulation import SimExperimentFG"
   ]
  },
  {
   "cell_type": "code",
   "execution_count": 7,
   "id": "35e8bcc1-6a67-4139-97f9-3d8cbed9cd30",
   "metadata": {},
   "outputs": [],
   "source": [
    "def alms2QU(alms,lmax,nside):\n",
    "    return cs.utils.hp_alm2map_spin(nside, lmax, lmax, 2, alms[1], alms[2])\n",
    "def cinv_EB(maskpath,alms,beam,):\n",
    "    Bl = np.reshape(self.beam,(1,self.lmax+1))\n",
    "    QU = self.get_sim(idx)\n",
    "    E,B = cs.cninv.cnfilter_freq(2,1,nside,lmax,self.cl_len[1:3,:],\n",
    "                                 Bl,invN,QU,chn=1,itns=[1000],eps=[1e-5],\n",
    "                                filter=filt,ro=10)"
   ]
  },
  {
   "cell_type": "code",
   "execution_count": 8,
   "id": "671ad478-2f29-40ef-8ed2-89dbce295c39",
   "metadata": {},
   "outputs": [],
   "source": [
    "nside = 128\n",
    "cl_len = camb_clfile('/global/cscratch1/sd/lonappan/S4BIRD/CAMB/BBSims_lensed_dls.dat')"
   ]
  },
  {
   "cell_type": "code",
   "execution_count": 9,
   "id": "83f63330-3289-4584-bdba-f43d18826426",
   "metadata": {},
   "outputs": [
    {
     "name": "stderr",
     "output_type": "stream",
     "text": [
      "WARNING: AstropyDeprecationWarning: \"verbose\" was deprecated in version 1.15.0 and will be removed in a future version.  [simulation]\n"
     ]
    },
    {
     "name": "stdout",
     "output_type": "stream",
     "text": [
      "using /project/projectdirs/litebird/simulations/maps/lensing_project_paper/S4BIRD/CMB_Lensed_Maps/CMB/ and /global/cscratch1/sd/lonappan/S4BIRD/FG saving to /global/cscratch1/sd/lonappan/MASK_TEST\n"
     ]
    },
    {
     "name": "stderr",
     "output_type": "stream",
     "text": [
      "WARNING: AstropyDeprecationWarning: \"verbose\" was deprecated in version 1.15.0 and will be removed in a future version.  [simulation]\n"
     ]
    },
    {
     "name": "stdout",
     "output_type": "stream",
     "text": [
      "using /project/projectdirs/litebird/simulations/maps/lensing_project_paper/S4BIRD/CMB_Lensed_Maps/CMB/ and /global/cscratch1/sd/lonappan/S4BIRD/FG saving to /global/cscratch1/sd/lonappan/MASK_TEST\n"
     ]
    },
    {
     "name": "stderr",
     "output_type": "stream",
     "text": [
      "WARNING: AstropyDeprecationWarning: \"verbose\" was deprecated in version 1.15.0 and will be removed in a future version.  [simulation]\n"
     ]
    },
    {
     "name": "stdout",
     "output_type": "stream",
     "text": [
      "using /project/projectdirs/litebird/simulations/maps/lensing_project_paper/S4BIRD/CMB_Lensed_Maps/CMB/ and /global/cscratch1/sd/lonappan/S4BIRD/FG saving to /global/cscratch1/sd/lonappan/MASK_TEST\n"
     ]
    }
   ],
   "source": [
    "outfolder = os.path.join(os.environ['SCRATCH'],\"MASK_TEST\")\n",
    "infolder = '/project/projectdirs/litebird/simulations/maps/lensing_project_paper/S4BIRD/CMB_Lensed_Maps/CMB/'\n",
    "dnside = 128\n",
    "maskpath8 = '/project/projectdirs/litebird/simulations/maps/lensing_project_paper/Masks/LB_Nside2048_fsky_0p8_binary.fits'\n",
    "maskpath7 = '/project/projectdirs/litebird/simulations/maps/lensing_project_paper/Masks/LB_Nside2048_fsky_0p7_binary.fits'\n",
    "maskpath6 = '/project/projectdirs/litebird/simulations/maps/lensing_project_paper/Masks/LB_Nside2048_fsky_0p6_binary.fits'\n",
    "fwhm = 30\n",
    "fg_dir = '/global/cscratch1/sd/lonappan/S4BIRD/FG'\n",
    "fg_str = \"s0d0\"\n",
    "table = \"LITEBIRD_V1\"\n",
    "cl_len = '/global/cscratch1/sd/lonappan/S4BIRD/CAMB/BBSims_lensed_dls.dat'\n",
    "sim8 = SimExperimentFG(infolder,outfolder,dnside,maskpath8,fwhm,fg_dir,fg_str,table,cl_len)\n",
    "sim7 = SimExperimentFG(infolder,outfolder,dnside,maskpath7,fwhm,fg_dir,fg_str,table,cl_len)\n",
    "sim6 = SimExperimentFG(infolder,outfolder,dnside,maskpath6,fwhm,fg_dir,fg_str,table,cl_len)"
   ]
  },
  {
   "cell_type": "code",
   "execution_count": 10,
   "id": "e3453d99-674d-4b7b-a822-f26a936a8424",
   "metadata": {},
   "outputs": [
    {
     "name": "stderr",
     "output_type": "stream",
     "text": [
      "Making alms: 100%|██████████| 15/15 [06:39<00:00, 26.63s/Freq]\n",
      "/global/u2/l/lonappan/softwares/fgbuster/fgbuster/separation_recipes.py:651: RuntimeWarning: divide by zero encountered in true_divide\n",
      "  inv_std = 1 / np.sqrt(inv_std)\n"
     ]
    },
    {
     "ename": "LinAlgError",
     "evalue": "Singular matrix",
     "output_type": "error",
     "traceback": [
      "\u001b[0;31m---------------------------------------------------------------------------\u001b[0m",
      "\u001b[0;31mLinAlgError\u001b[0m                               Traceback (most recent call last)",
      "Input \u001b[0;32mIn [10]\u001b[0m, in \u001b[0;36m<cell line: 2>\u001b[0;34m()\u001b[0m\n\u001b[1;32m      1\u001b[0m noFG_alms8 \u001b[38;5;241m=\u001b[39m sim8\u001b[38;5;241m.\u001b[39mget_noFG_alms(\u001b[38;5;241m0\u001b[39m)\n\u001b[0;32m----> 2\u001b[0m FG_alms8 \u001b[38;5;241m=\u001b[39m \u001b[43msim8\u001b[49m\u001b[38;5;241;43m.\u001b[39;49m\u001b[43mget_comp_sep_alm\u001b[49m\u001b[43m(\u001b[49m\u001b[38;5;241;43m0\u001b[39;49m\u001b[43m)\u001b[49m\n\u001b[1;32m      3\u001b[0m FG_alms7 \u001b[38;5;241m=\u001b[39m sim7\u001b[38;5;241m.\u001b[39mget_comp_sep_alm(\u001b[38;5;241m0\u001b[39m)\n\u001b[1;32m      4\u001b[0m FG_alms6 \u001b[38;5;241m=\u001b[39m sim6\u001b[38;5;241m.\u001b[39mget_comp_sep_alm(\u001b[38;5;241m0\u001b[39m)\n",
      "File \u001b[0;32m/global/u2/l/lonappan/workspace/LBlens/Notebooks/../simulation.py:138\u001b[0m, in \u001b[0;36mSimExperimentFG.get_comp_sep_alm\u001b[0;34m(self, idx)\u001b[0m\n\u001b[1;32m    136\u001b[0m components \u001b[38;5;241m=\u001b[39m [CMB()]\n\u001b[1;32m    137\u001b[0m bins \u001b[38;5;241m=\u001b[39m np\u001b[38;5;241m.\u001b[39marange(\u001b[38;5;241m1000\u001b[39m) \u001b[38;5;241m*\u001b[39m \u001b[38;5;241m10\u001b[39m\n\u001b[0;32m--> 138\u001b[0m result \u001b[38;5;241m=\u001b[39m \u001b[43mharmonic_ilc_alm\u001b[49m\u001b[43m(\u001b[49m\u001b[43mcomponents\u001b[49m\u001b[43m,\u001b[49m\u001b[43m \u001b[49m\u001b[43minstrument\u001b[49m\u001b[43m,\u001b[49m\u001b[43malms\u001b[49m\u001b[43m,\u001b[49m\u001b[43mbins\u001b[49m\u001b[43m)\u001b[49m\n\u001b[1;32m    139\u001b[0m \u001b[38;5;28;01mdel\u001b[39;00m alms\n\u001b[1;32m    140\u001b[0m alms \u001b[38;5;241m=\u001b[39m hp\u001b[38;5;241m.\u001b[39msmoothalm([result\u001b[38;5;241m.\u001b[39ms[\u001b[38;5;241m0\u001b[39m][\u001b[38;5;241m0\u001b[39m], result\u001b[38;5;241m.\u001b[39ms[\u001b[38;5;241m0\u001b[39m][\u001b[38;5;241m1\u001b[39m],result\u001b[38;5;241m.\u001b[39ms[\u001b[38;5;241m0\u001b[39m][\u001b[38;5;241m2\u001b[39m]],fwhm\u001b[38;5;241m=\u001b[39m\u001b[38;5;28mself\u001b[39m\u001b[38;5;241m.\u001b[39mfwhm)\n",
      "File \u001b[0;32m/global/u2/l/lonappan/softwares/fgbuster/fgbuster/separation_recipes.py:598\u001b[0m, in \u001b[0;36mharmonic_ilc_alm\u001b[0;34m(components, instrument, alms, lbins, fsky)\u001b[0m\n\u001b[1;32m    594\u001b[0m         cov[\u001b[38;5;241m.\u001b[39m\u001b[38;5;241m.\u001b[39m\u001b[38;5;241m.\u001b[39m, lmin:lmax] \u001b[38;5;241m=\u001b[39m (\n\u001b[1;32m    595\u001b[0m             (dof \u001b[38;5;241m/\u001b[39m dof\u001b[38;5;241m.\u001b[39msum() \u001b[38;5;241m*\u001b[39m cov[\u001b[38;5;241m.\u001b[39m\u001b[38;5;241m.\u001b[39m\u001b[38;5;241m.\u001b[39m, lmin:lmax])\u001b[38;5;241m.\u001b[39msum(\u001b[38;5;241m-\u001b[39m\u001b[38;5;241m1\u001b[39m)\n\u001b[1;32m    596\u001b[0m             )[\u001b[38;5;241m.\u001b[39m\u001b[38;5;241m.\u001b[39m\u001b[38;5;241m.\u001b[39m, np\u001b[38;5;241m.\u001b[39mnewaxis]\n\u001b[1;32m    597\u001b[0m cov \u001b[38;5;241m=\u001b[39m _regularized_inverse(cov\u001b[38;5;241m.\u001b[39mswapaxes(\u001b[38;5;241m-\u001b[39m\u001b[38;5;241m1\u001b[39m, \u001b[38;5;241m-\u001b[39m\u001b[38;5;241m3\u001b[39m))\n\u001b[0;32m--> 598\u001b[0m ilc_filter \u001b[38;5;241m=\u001b[39m \u001b[43mnp\u001b[49m\u001b[38;5;241;43m.\u001b[39;49m\u001b[43mlinalg\u001b[49m\u001b[38;5;241;43m.\u001b[39;49m\u001b[43minv\u001b[49m\u001b[43m(\u001b[49m\u001b[43mA\u001b[49m\u001b[38;5;241;43m.\u001b[39;49m\u001b[43mT\u001b[49m\u001b[43m \u001b[49m\u001b[38;5;241;43m@\u001b[39;49m\u001b[43m \u001b[49m\u001b[43mcov\u001b[49m\u001b[43m \u001b[49m\u001b[38;5;241;43m@\u001b[39;49m\u001b[43m \u001b[49m\u001b[43mA\u001b[49m\u001b[43m)\u001b[49m \u001b[38;5;241m@\u001b[39m A\u001b[38;5;241m.\u001b[39mT \u001b[38;5;241m@\u001b[39m cov\n\u001b[1;32m    599\u001b[0m \u001b[38;5;28;01mdel\u001b[39;00m cov, dof\n\u001b[1;32m    601\u001b[0m res \u001b[38;5;241m=\u001b[39m OptimizeResult()\n",
      "File \u001b[0;32m<__array_function__ internals>:5\u001b[0m, in \u001b[0;36minv\u001b[0;34m(*args, **kwargs)\u001b[0m\n",
      "File \u001b[0;32m~/.conda/envs/cmblens/lib/python3.10/site-packages/numpy/linalg/linalg.py:545\u001b[0m, in \u001b[0;36minv\u001b[0;34m(a)\u001b[0m\n\u001b[1;32m    543\u001b[0m signature \u001b[38;5;241m=\u001b[39m \u001b[38;5;124m'\u001b[39m\u001b[38;5;124mD->D\u001b[39m\u001b[38;5;124m'\u001b[39m \u001b[38;5;28;01mif\u001b[39;00m isComplexType(t) \u001b[38;5;28;01melse\u001b[39;00m \u001b[38;5;124m'\u001b[39m\u001b[38;5;124md->d\u001b[39m\u001b[38;5;124m'\u001b[39m\n\u001b[1;32m    544\u001b[0m extobj \u001b[38;5;241m=\u001b[39m get_linalg_error_extobj(_raise_linalgerror_singular)\n\u001b[0;32m--> 545\u001b[0m ainv \u001b[38;5;241m=\u001b[39m \u001b[43m_umath_linalg\u001b[49m\u001b[38;5;241;43m.\u001b[39;49m\u001b[43minv\u001b[49m\u001b[43m(\u001b[49m\u001b[43ma\u001b[49m\u001b[43m,\u001b[49m\u001b[43m \u001b[49m\u001b[43msignature\u001b[49m\u001b[38;5;241;43m=\u001b[39;49m\u001b[43msignature\u001b[49m\u001b[43m,\u001b[49m\u001b[43m \u001b[49m\u001b[43mextobj\u001b[49m\u001b[38;5;241;43m=\u001b[39;49m\u001b[43mextobj\u001b[49m\u001b[43m)\u001b[49m\n\u001b[1;32m    546\u001b[0m \u001b[38;5;28;01mreturn\u001b[39;00m wrap(ainv\u001b[38;5;241m.\u001b[39mastype(result_t, copy\u001b[38;5;241m=\u001b[39m\u001b[38;5;28;01mFalse\u001b[39;00m))\n",
      "File \u001b[0;32m~/.conda/envs/cmblens/lib/python3.10/site-packages/numpy/linalg/linalg.py:88\u001b[0m, in \u001b[0;36m_raise_linalgerror_singular\u001b[0;34m(err, flag)\u001b[0m\n\u001b[1;32m     87\u001b[0m \u001b[38;5;28;01mdef\u001b[39;00m \u001b[38;5;21m_raise_linalgerror_singular\u001b[39m(err, flag):\n\u001b[0;32m---> 88\u001b[0m     \u001b[38;5;28;01mraise\u001b[39;00m LinAlgError(\u001b[38;5;124m\"\u001b[39m\u001b[38;5;124mSingular matrix\u001b[39m\u001b[38;5;124m\"\u001b[39m)\n",
      "\u001b[0;31mLinAlgError\u001b[0m: Singular matrix"
     ]
    }
   ],
   "source": [
    "noFG_alms8 = sim8.get_noFG_alms(0)\n",
    "FG_alms8 = sim8.get_comp_sep_alm(0)\n",
    "FG_alms7 = sim7.get_comp_sep_alm(0)\n",
    "FG_alms6 = sim6.get_comp_sep_alm(0)"
   ]
  },
  {
   "cell_type": "code",
   "execution_count": null,
   "id": "ef586013-16b8-4767-8fa1-0973690c22cc",
   "metadata": {},
   "outputs": [],
   "source": [
    "noFG_cinv = sim8.get_cinv_sim(0,True)\n",
    "FG_cinv8 = sim8.get_cinv_sim(0)\n",
    "FG_cinv7 = sim7.get_cinv_sim(0)\n",
    "FG_cinv6 = sim6.get_cinv_sim(0)"
   ]
  },
  {
   "cell_type": "code",
   "execution_count": null,
   "id": "91c4f2c7-b0ef-4ad1-bc99-fc1ff3ef0f37",
   "metadata": {},
   "outputs": [],
   "source": [
    "plt.loglog(1/sim8.cl_len[2,:])\n",
    "plt.loglog(cs.utils.alm2cl(sim8.lmax,noFG_cinv[1])/sim8.fsky,label='noFG')\n",
    "plt.loglog(cs.utils.alm2cl(sim8.lmax,FG_cinv8[1])/sim8.fsky,label='FG8')\n",
    "plt.loglog(cs.utils.alm2cl(sim7.lmax,FG_cinv7[1])/sim7.fsky,label='FG7')\n",
    "plt.loglog(cs.utils.alm2cl(sim6.lmax,FG_cinv6[1])/sim6.fsky,label='FG6')\n",
    "plt.legend()\n",
    "plt.ylim(10**17,10**19)"
   ]
  },
  {
   "cell_type": "code",
   "execution_count": 13,
   "id": "c8acd58d-6011-48bb-a193-c5c70fdbe40d",
   "metadata": {},
   "outputs": [
    {
     "data": {
      "text/plain": [
       "<matplotlib.legend.Legend at 0x1555094b2110>"
      ]
     },
     "execution_count": 13,
     "metadata": {},
     "output_type": "execute_result"
    },
    {
     "data": {
      "image/png": "[encoded data removed]",
      "text/plain": [
       "<Figure size 432x288 with 1 Axes>"
      ]
     },
     "metadata": {
      "needs_background": "light"
     },
     "output_type": "display_data"
    }
   ],
   "source": [
    "plt.loglog(sim8.cl_len[2,:]*sim8.Tcmb**2)\n",
    "plt.loglog(hp.alm2cl(noFG_alms8[2])/sim8.fsky,label='noFG')\n",
    "plt.loglog(hp.alm2cl(FG_alms8[2])/sim8.fsky,label='FG8')\n",
    "plt.loglog(hp.alm2cl(FG_alms7[2])/sim7.fsky,label='FG7')\n",
    "plt.loglog(hp.alm2cl(FG_alms6[2])/sim6.fsky,label='FG6')\n",
    "plt.legend()"
   ]
  },
  {
   "cell_type": "code",
   "execution_count": null,
   "id": "4546009e-104f-40ed-ab65-2aba290f4a22",
   "metadata": {},
   "outputs": [],
   "source": []
  }
 ],
 "metadata": {
  "kernelspec": {
   "display_name": "Pylens",
   "language": "python",
   "name": "cmblens"
  },
  "language_info": {
   "codemirror_mode": {
    "name": "ipython",
    "version": 3
   },
   "file_extension": ".py",
   "mimetype": "text/x-python",
   "name": "python",
   "nbconvert_exporter": "python",
   "pygments_lexer": "ipython3",
   "version": "3.10.4"
  }
 },
 "nbformat": 4,
 "nbformat_minor": 5
}
