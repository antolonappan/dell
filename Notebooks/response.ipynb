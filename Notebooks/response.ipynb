{
 "cells": [
  {
   "cell_type": "code",
   "execution_count": 47,
   "metadata": {},
   "outputs": [],
   "source": [
    "import numpy as np\n",
    "import matplotlib.pyplot as plt\n",
    "import healpy as hp\n",
    "import sys\n",
    "import os\n",
    "import curvedsky as cs\n",
    "import pickle as pl"
   ]
  },
  {
   "cell_type": "code",
   "execution_count": 48,
   "metadata": {},
   "outputs": [],
   "source": [
    "sys.path.append('../')"
   ]
  },
  {
   "cell_type": "code",
   "execution_count": 49,
   "metadata": {},
   "outputs": [
    {
     "name": "stdout",
     "output_type": "stream",
     "text": [
      "The autoreload extension is already loaded. To reload it, use:\n",
      "  %reload_ext autoreload\n"
     ]
    }
   ],
   "source": [
    "%load_ext autoreload\n",
    "%autoreload 2\n",
    "from simulation import SimExperimentFG\n",
    "from filtering import Filtering\n",
    "from quest import Reconstruction"
   ]
  },
  {
   "cell_type": "code",
   "execution_count": 53,
   "metadata": {},
   "outputs": [
    {
     "name": "stdout",
     "output_type": "stream",
     "text": [
      "/project/projectdirs/litebird/simulations/maps/lensing_project_paper/S4BIRD/CMB_Lensed_Maps/CMB/\n",
      "using /project/projectdirs/litebird/simulations/maps/lensing_project_paper/S4BIRD/CMB_Lensed_Maps/CMB/ and /global/cscratch1/sd/lonappan/S4BIRD/FG saving to /global/cscratch1/sd/lonappan/S4BIRD/DELL/s1d1\n",
      "/project/projectdirs/litebird/simulations/maps/lensing_project_paper/S4BIRD/CMB_Lensed_Maps_c/CMB/\n",
      "using /project/projectdirs/litebird/simulations/maps/lensing_project_paper/S4BIRD/CMB_Lensed_Maps_c/CMB/ and /global/cscratch1/sd/lonappan/S4BIRD/FG saving to /global/cscratch1/sd/lonappan/S4BIRD/N1/s1d1\n"
     ]
    }
   ],
   "source": [
    "rec = Reconstruction.from_ini('../LB_FG2.ini')\n",
    "rec1 = Reconstruction.from_ini('../LB_FG2_n1.ini')\n"
   ]
  },
  {
   "cell_type": "code",
   "execution_count": 41,
   "metadata": {},
   "outputs": [
    {
     "data": {
      "text/plain": [
       "array([ 0.00000000e+00,  0.00000000e+00,  0.00000000e+00, ...,\n",
       "        9.72382000e-19, -8.11112866e-18, -2.55610902e-17])"
      ]
     },
     "execution_count": 41,
     "metadata": {},
     "output_type": "execute_result"
    }
   ],
   "source": [
    "rec.N1"
   ]
  },
  {
   "cell_type": "code",
   "execution_count": 26,
   "metadata": {},
   "outputs": [
    {
     "data": {
      "text/plain": [
       "[<matplotlib.lines.Line2D at 0x15548e2ae3e0>]"
      ]
     },
     "execution_count": 26,
     "metadata": {},
     "output_type": "execute_result"
    },
    {
     "data": {
      "image/png": "[encoded data removed]",
      "text/plain": [
       "<Figure size 432x288 with 1 Axes>"
      ]
     },
     "metadata": {
      "needs_background": "light"
     },
     "output_type": "display_data"
    }
   ],
   "source": [
    "plt.loglog(rec.cl_pp*rec.Lfac)\n",
    "plt.loglog(rec.MCN0()*rec.Lfac)\n",
    "plt.loglog((rec.N1)*rec1.Lfac)"
   ]
  },
  {
   "cell_type": "code",
   "execution_count": 42,
   "metadata": {},
   "outputs": [
    {
     "name": "stderr",
     "output_type": "stream",
     "text": [
      "qcl stat:   0%|          | 0/400 [00:00<?, ?simulation/s]/global/u2/l/lonappan/workspace/LBlens/Notebooks/../quest.py:383: RuntimeWarning: invalid value encountered in true_divide\n",
      "  \n",
      "qcl stat: 100%|██████████| 400/400 [01:13<00:00,  5.44simulation/s]\n"
     ]
    }
   ],
   "source": [
    "st = rec.get_qcl_wR_stat()"
   ]
  },
  {
   "cell_type": "code",
   "execution_count": 37,
   "metadata": {},
   "outputs": [],
   "source": [
    "n1b = rec.bin_cell(rec.N1*rec.Lfac)"
   ]
  },
  {
   "cell_type": "code",
   "execution_count": 29,
   "metadata": {},
   "outputs": [
    {
     "data": {
      "text/plain": [
       "array([ 5.49400073e-08,  2.27974251e-09,  2.67664133e-10,  1.02950292e-09,\n",
       "        2.22346868e-09,  3.35794816e-09,  4.01391610e-09,  5.48142561e-09,\n",
       "        8.06359787e-09,  8.63899291e-09,  1.02239714e-08,  1.75167283e-08,\n",
       "        2.13180766e-08,  2.64612534e-08,  3.56600768e-08,  5.70344424e-08,\n",
       "        8.12329000e-08,  1.30949611e-07,  1.84059097e-07,  2.15174954e-07,\n",
       "        1.68191472e-07,  1.12218379e-07,  8.42831611e-08,  4.83888879e-08,\n",
       "        1.73848851e-09, -1.32725032e-07, -3.33101683e-07, -6.59948774e-07,\n",
       "       -9.81806436e-07, -1.41023853e-06])"
      ]
     },
     "execution_count": 29,
     "metadata": {},
     "output_type": "execute_result"
    }
   ],
   "source": [
    "n1b"
   ]
  },
  {
   "cell_type": "code",
   "execution_count": 45,
   "metadata": {},
   "outputs": [
    {
     "data": {
      "text/plain": [
       "(1e-08, 2e-07)"
      ]
     },
     "execution_count": 45,
     "metadata": {},
     "output_type": "execute_result"
    },
    {
     "data": {
      "image/png": "[encoded data removed]",
      "text/plain": [
       "<Figure size 432x288 with 1 Axes>"
      ]
     },
     "metadata": {
      "needs_background": "light"
     },
     "output_type": "display_data"
    }
   ],
   "source": [
    "plt.loglog(rec.cl_pp*rec.Lfac)\n",
    "plt.errorbar(rec.B,st.mean(axis=0),yerr=st.std(axis=0),fmt='o')\n",
    "plt.xlim(2,400)\n",
    "plt.ylim(1e-8,2e-7)"
   ]
  },
  {
   "cell_type": "code",
   "execution_count": 55,
   "metadata": {},
   "outputs": [
    {
     "name": "stderr",
     "output_type": "stream",
     "text": [
      "qcl stat: 100%|██████████| 400/400 [00:34<00:00, 11.61simulation/s]\n"
     ]
    },
    {
     "data": {
      "text/plain": [
       "34.20616297811644"
      ]
     },
     "execution_count": 55,
     "metadata": {},
     "output_type": "execute_result"
    }
   ],
   "source": [
    "rec.SNR_phi()"
   ]
  },
  {
   "cell_type": "code",
   "execution_count": null,
   "metadata": {},
   "outputs": [],
   "source": []
  }
 ],
 "metadata": {
  "kernelspec": {
   "display_name": "Python 3.10.4 ('cmblens': conda)",
   "language": "python",
   "name": "python3"
  },
  "language_info": {
   "codemirror_mode": {
    "name": "ipython",
    "version": 3
   },
   "file_extension": ".py",
   "mimetype": "text/x-python",
   "name": "python",
   "nbconvert_exporter": "python",
   "pygments_lexer": "ipython3",
   "version": "3.10.4"
  },
  "vscode": {
   "interpreter": {
    "hash": "9de6fac3a23c689363126ecf4ed37844b69859833cb573f66bdfd1e51756a90d"
   }
  }
 },
 "nbformat": 4,
 "nbformat_minor": 4
}
