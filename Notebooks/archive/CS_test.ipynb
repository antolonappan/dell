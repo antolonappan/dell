{
 "cells": [
  {
   "cell_type": "code",
   "execution_count": 1,
   "id": "c718c492-d8fe-45ef-a2c9-6b5fcc77c0ad",
   "metadata": {},
   "outputs": [
    {
     "name": "stderr",
     "output_type": "stream",
     "text": [
      "\n",
      "WARNING: version mismatch between CFITSIO header (v4.000999999999999) and linked library (v4.01).\n",
      "\n",
      "\n",
      "WARNING: version mismatch between CFITSIO header (v4.000999999999999) and linked library (v4.01).\n",
      "\n",
      "\n",
      "WARNING: version mismatch between CFITSIO header (v4.000999999999999) and linked library (v4.01).\n",
      "\n"
     ]
    }
   ],
   "source": [
    "from fgbuster import harmonic_ilc_alm,CMB\n",
    "import healpy as hp\n",
    "import pysm3\n",
    "import pysm3.units as u\n",
    "import sys\n",
    "import curvedsky as cs\n",
    "import cmb\n",
    "import os\n",
    "import numpy as np\n",
    "from tqdm import tqdm\n",
    "import sys\n",
    "sys.path.append('../')\n",
    "from utils import camb_clfile,cli\n",
    "import mpi\n",
    "import matplotlib.pyplot as plt\n",
    "import pickle as pl\n",
    "from database import surveys,noise\n",
    "from fgbuster import (CMB, Dust, Synchrotron,\n",
    "                      basic_comp_sep)"
   ]
  },
  {
   "cell_type": "code",
   "execution_count": 2,
   "id": "668e48a8-b81e-4077-a025-07c325c5d4c8",
   "metadata": {},
   "outputs": [],
   "source": [
    "infolder = '/project/projectdirs/litebird/simulations/maps/lensing_project_paper/S4BIRD/CMB_Lensed_Maps/CMB/'\n",
    "dnside = 512\n",
    "lmax = 3*dnside -1\n",
    "maskpath = '/project/projectdirs/litebird/simulations/maps/lensing_project_paper/Masks/LB_Nside2048_fsky_0p8_binary.fits'\n",
    "fwhm = 30\n",
    "cl_lenf = '/global/cscratch1/sd/lonappan/S4BIRD/CAMB/BBSims_lensed_dls.dat'\n",
    "cl_len = cmb.read_camb_cls(cl_lenf,ftype='lens',output='array')[:,:lmax+1]"
   ]
  },
  {
   "cell_type": "code",
   "execution_count": 3,
   "id": "18384776-bd84-45f5-ac9a-f451f67134f8",
   "metadata": {},
   "outputs": [],
   "source": [
    "mask = hp.ud_grade(hp.read_map(maskpath),dnside)"
   ]
  },
  {
   "cell_type": "code",
   "execution_count": 5,
   "id": "570eb451-c293-4e7e-a1b1-a05bdfe7dd6c",
   "metadata": {},
   "outputs": [],
   "source": [
    "class INST:\n",
    "    def __init__(self,beam,frequency):\n",
    "        self.Beam = beam\n",
    "        self.fwhm = beam\n",
    "        self.frequency = frequency\n",
    "def get_cmb(idx):\n",
    "    fname = os.path.join(infolder,f\"cmb_sims_{idx:04d}.fits\")\n",
    "    return hp.ud_grade(hp.read_map(fname,(0,1,2)),dnside)\n",
    "\n",
    "def get_noise_spectra(depth_i,depth_p):\n",
    "    t = np.ones(lmax+1)*(np.radians(depth_i/60)**2)\n",
    "    e = np.ones(lmax+1)*(np.radians(depth_p/60)**2)\n",
    "    b = np.ones(lmax+1)*(np.radians(depth_p/60)**2)\n",
    "    return t,e,b\n",
    "\n",
    "def get_noise_alm(depth_i,depth_p):\n",
    "    t,e,b = get_noise_spectra(depth_i,depth_p)\n",
    "    t = hp.synalm(t,lmax=lmax)\n",
    "    e = hp.synalm(e,lmax=lmax)\n",
    "    b = hp.synalm(b,lmax=lmax)\n",
    "    return t,e,b\n",
    "\n",
    "def get_noise_map(depth_i,depth_p):\n",
    "    t,e,b = get_noise_alm(depth_i,depth_p)\n",
    "    return hp.alm2map([t,e,b],nside=dnside)\n",
    "\n",
    "def get_fg(v):\n",
    "    fname = os.path.join(fg_dir,f\"{fg_str}_{int(v)}.fits\")\n",
    "    return hp.ud_grade(hp.read_map(fname,(0,1,2)),dnside)\n",
    "\n",
    "def get_total_alm(idx,v,n_t,n_p,beam):\n",
    "    bl = hp.gauss_beam(np.radians(beam/60),lmax=lmax)\n",
    "    maps = hp.smoothing(get_cmb(idx) + get_fg(v),fwhm=np.radians(beam/60)) + get_noise_map(n_t,n_p)\n",
    "    alms = hp.map2alm(maps*mask)\n",
    "    hp.almxfl(alms[0],cli(bl),inplace=True)\n",
    "    hp.almxfl(alms[1],cli(bl),inplace=True)\n",
    "    hp.almxfl(alms[2],cli(bl),inplace=True)\n",
    "    return alms\n",
    "\n",
    "def get_total_map(idx,v,n_t,n_p,beam):\n",
    "    alms =  get_total_alm(idx,v,n_t,n_p,beam)\n",
    "    return hp.alm2map(alms,dnside)\n",
    "\n",
    "def get_alm_arr(idx,v,n_t,n_p,beam,which):\n",
    "        arr = []\n",
    "        for i in tqdm(range(len(v)),desc=\"Making map\",unit='Freq'):\n",
    "            arr.append(get_total_alm(idx,v[i],n_t[i],n_p[i],beam[i]))\n",
    "        return np.array(arr)\n",
    "\n",
    "def get_map_arr(idx,v,n_t,n_p,beam,which):\n",
    "        arr = []\n",
    "        for i in tqdm(range(len(v)),desc=\"Making map\",unit='Freq'):\n",
    "            arr.append(get_total_map(idx,v[i],n_t[i],n_p[i],beam[i]))\n",
    "        return np.array(arr)"
   ]
  },
  {
   "cell_type": "code",
   "execution_count": 6,
   "id": "7b8704c6-4460-48e9-b4f8-975b245c0274",
   "metadata": {},
   "outputs": [],
   "source": [
    "sigma = 2.16\n",
    "Tcmb  = 2.726e6\n",
    "beam_fl = hp.gauss_beam(np.radians(fwhm/30),lmax=lmax)\n",
    "Bl = np.reshape(beam_fl,(1,lmax+1))\n",
    "invn = mask * (np.radians(sigma/60)/Tcmb)**-2\n",
    "invN = np.reshape(np.array((invn,invn)),(2,1,hp.nside2npix(dnside)))\n",
    "fg_dir = '/global/cscratch1/sd/lonappan/S4BIRD/FG'\n",
    "fg_str = \"s0d0\""
   ]
  },
  {
   "cell_type": "code",
   "execution_count": 7,
   "id": "5024fd13-2273-4d60-88c2-45852aec5f63",
   "metadata": {},
   "outputs": [],
   "source": [
    "table = surveys().get_table_dataframe(\"LITEBIRD_V1\")\n",
    "freqs = np.array(table.frequency)\n",
    "beam = np.array(table.fwhm)\n",
    "nlev_p = np.array(table.depth_p)\n",
    "nlev_t = nlev_p/np.sqrt(2)"
   ]
  },
  {
   "cell_type": "code",
   "execution_count": 7,
   "id": "8fa87b2b-d158-4bd8-978f-b6366f3381a6",
   "metadata": {},
   "outputs": [
    {
     "name": "stderr",
     "output_type": "stream",
     "text": [
      "Making map: 100%|██████████| 15/15 [16:25<00:00, 65.68s/Freq]\n"
     ]
    }
   ],
   "source": [
    "alms = get_maps_arr(0,freqs,nlev_t,nlev_p,beam,1)"
   ]
  },
  {
   "cell_type": "code",
   "execution_count": 8,
   "id": "0384826f-d313-421b-98f9-f5b6f56d26bf",
   "metadata": {},
   "outputs": [
    {
     "name": "stderr",
     "output_type": "stream",
     "text": [
      "Making map: 100%|██████████| 15/15 [16:01<00:00, 64.10s/Freq]\n"
     ]
    }
   ],
   "source": [
    "alms_2 = get_maps_arr(0,freqs,nlev_t,nlev_p,beam,2)"
   ]
  },
  {
   "cell_type": "code",
   "execution_count": 9,
   "id": "b0c98200-73e7-4623-91a0-716e1ac652f7",
   "metadata": {},
   "outputs": [],
   "source": [
    "instrument = INST(None,freqs)\n",
    "components = [CMB()]\n",
    "bins = np.arange(1000) * 10"
   ]
  },
  {
   "cell_type": "code",
   "execution_count": 24,
   "id": "32ffe21b-7cd8-4231-b553-55abdcdae95e",
   "metadata": {},
   "outputs": [],
   "source": [
    "TQU_woFG1 = (hp.smoothing(get_cmb(0),fwhm=np.radians(fwhm/60)) + get_noise_map(1.5,sigma))*mask"
   ]
  },
  {
   "cell_type": "code",
   "execution_count": 25,
   "id": "9343d685-25f5-4a3c-a6d1-e393c5a9aae3",
   "metadata": {},
   "outputs": [],
   "source": [
    "TEB_woFG1 = hp.map2alm(TQU_woFG1)"
   ]
  },
  {
   "cell_type": "code",
   "execution_count": 26,
   "id": "7cced1e8-d7df-438b-b0e5-5e6ee4ce1d9d",
   "metadata": {},
   "outputs": [],
   "source": [
    "QU_woFG1 = np.reshape(np.array((TQU_woFG1[1],TQU_woFG1[2])),(2,1,hp.nside2npix(dnside)))/Tcmb"
   ]
  },
  {
   "cell_type": "code",
   "execution_count": 27,
   "id": "ac61b120-daaf-49b2-a3a7-c0126a628a89",
   "metadata": {},
   "outputs": [
    {
     "data": {
      "text/plain": [
       "[<matplotlib.lines.Line2D at 0x155506790e50>]"
      ]
     },
     "execution_count": 27,
     "metadata": {},
     "output_type": "execute_result"
    },
    {
     "data": {
      "image/png": "[encoded data removed]",
      "text/plain": [
       "<Figure size 432x288 with 1 Axes>"
      ]
     },
     "metadata": {
      "needs_background": "light"
     },
     "output_type": "display_data"
    }
   ],
   "source": [
    "plt.loglog(hp.alm2cl(TEB_woFG1[2]))"
   ]
  },
  {
   "cell_type": "code",
   "execution_count": 28,
   "id": "8ad27905-5929-4040-9354-f90d978a9269",
   "metadata": {},
   "outputs": [],
   "source": [
    "E_noFG1,B_noFG1 =cs.cninv.cnfilter_freq(2,1,dnside,lmax,cl_len[1:3,:],Bl,invN,QU_woFG1,chn=1,itns=[1000],eps=[1e-5],ro=10,stat='status1.txt')"
   ]
  },
  {
   "cell_type": "code",
   "execution_count": 29,
   "id": "2d35b957-6135-44aa-8453-b490f4e27512",
   "metadata": {},
   "outputs": [
    {
     "name": "stderr",
     "output_type": "stream",
     "text": [
      "/tmp/ipykernel_17452/2523072816.py:1: RuntimeWarning: divide by zero encountered in true_divide\n",
      "  plt.loglog(1/cl_len[2,:])\n"
     ]
    },
    {
     "data": {
      "text/plain": [
       "(100000000000000000, 2.3291465818334747e+22)"
      ]
     },
     "execution_count": 29,
     "metadata": {},
     "output_type": "execute_result"
    },
    {
     "data": {
      "image/png": "[encoded data removed]",
      "text/plain": [
       "<Figure size 432x288 with 1 Axes>"
      ]
     },
     "metadata": {
      "needs_background": "light"
     },
     "output_type": "display_data"
    }
   ],
   "source": [
    "plt.loglog(1/cl_len[2,:])\n",
    "plt.loglog(cs.utils.alm2cl(lmax,B_noFG1),label='1')\n",
    "plt.legend()\n",
    "plt.ylim(10**17,None)"
   ]
  },
  {
   "cell_type": "code",
   "execution_count": 10,
   "id": "9f834648-1906-46e4-b9da-c85c2ee2d537",
   "metadata": {},
   "outputs": [],
   "source": []
  },
  {
   "cell_type": "code",
   "execution_count": 10,
   "id": "88c0f4b9-f77a-4f84-a73e-cf9e14aece3e",
   "metadata": {},
   "outputs": [],
   "source": [
    "result1 = harmonic_ilc_alm(components, instrument,alms_1,bins)"
   ]
  },
  {
   "cell_type": "code",
   "execution_count": 11,
   "id": "dc32477f-1822-439c-addc-7fef78e5d8e9",
   "metadata": {},
   "outputs": [],
   "source": [
    "result2 = harmonic_ilc_alm(components, instrument,alms_2,bins)"
   ]
  },
  {
   "cell_type": "code",
   "execution_count": 14,
   "id": "d783efd5-7994-494c-8537-05a3e537e0e6",
   "metadata": {},
   "outputs": [],
   "source": [
    "TEB1 = [result1.s[0,0],result1.s[0,1],result1.s[0,2]]\n",
    "TEB2 = [result2.s[0,0],result2.s[0,1],result2.s[0,2]]"
   ]
  },
  {
   "cell_type": "code",
   "execution_count": 34,
   "id": "c3d16a4d-96fc-42ec-85b1-fd42b02144f5",
   "metadata": {},
   "outputs": [],
   "source": [
    "TEB1_ = [hp.almxfl(result1.s[0,0],beam_fl),hp.almxfl(result1.s[0,1],beam_fl),hp.almxfl(result1.s[0,2],beam_fl)]\n"
   ]
  },
  {
   "cell_type": "code",
   "execution_count": 17,
   "id": "3b67c118-9b7e-4122-bbbf-db73b40a2a3e",
   "metadata": {},
   "outputs": [],
   "source": [
    "TQU1 = hp.alm2map(TEB1,dnside)\n",
    "TQU2 = hp.alm2map(TEB2,dnside)"
   ]
  },
  {
   "cell_type": "code",
   "execution_count": 37,
   "id": "a41e62bf-6124-4519-b49e-4f483bce96bf",
   "metadata": {},
   "outputs": [],
   "source": [
    "TQU1_ = hp.alm2map(TEB1_,dnside)"
   ]
  },
  {
   "cell_type": "code",
   "execution_count": 36,
   "id": "6d87e876-1b86-4c52-97aa-d33bce425fd6",
   "metadata": {},
   "outputs": [
    {
     "data": {
      "text/plain": [
       "<matplotlib.legend.Legend at 0x1555063f1de0>"
      ]
     },
     "execution_count": 36,
     "metadata": {},
     "output_type": "execute_result"
    },
    {
     "data": {
      "image/png": "[encoded data removed]",
      "text/plain": [
       "<Figure size 432x288 with 1 Axes>"
      ]
     },
     "metadata": {
      "needs_background": "light"
     },
     "output_type": "display_data"
    }
   ],
   "source": [
    "plt.loglog(hp.alm2cl(TEB1[2]),label='method1')\n",
    "plt.loglog(hp.alm2cl(TEB1_[2]),label='method1_')\n",
    "plt.loglog(hp.alm2cl(TEB2[2]),label='method2')\n",
    "plt.ylim(10**-7,None)\n",
    "plt.legend()"
   ]
  },
  {
   "cell_type": "code",
   "execution_count": 24,
   "id": "62c6a9a7-c448-4274-b541-1cdc69d2ede5",
   "metadata": {},
   "outputs": [],
   "source": [
    "QU1 = np.reshape(np.array((TQU1[1],TQU1[2])),(2,1,hp.nside2npix(dnside)))/Tcmb\n",
    "QU2 = np.reshape(np.array((TQU2[1],TQU2[2])),(2,1,hp.nside2npix(dnside)))/Tcmb"
   ]
  },
  {
   "cell_type": "code",
   "execution_count": 38,
   "id": "7ade2909-20fa-4d0c-af22-52ed17e62820",
   "metadata": {},
   "outputs": [],
   "source": [
    "QU1_ = np.reshape(np.array((TQU1_[1],TQU1_[2])),(2,1,hp.nside2npix(dnside)))/Tcmb"
   ]
  },
  {
   "cell_type": "code",
   "execution_count": 25,
   "id": "7a9c0a8d-25a6-4b07-9518-735b7c6fcb8c",
   "metadata": {},
   "outputs": [],
   "source": [
    "invn = mask * (np.radians(sigma/60)/Tcmb)**-2\n",
    "invN = np.reshape(np.array((invn,invn)),(2,1,hp.nside2npix(dnside)))"
   ]
  },
  {
   "cell_type": "code",
   "execution_count": 26,
   "id": "84b91320-01e1-4196-9265-b450480f8ec7",
   "metadata": {},
   "outputs": [],
   "source": [
    "cl_lenf = '/global/cscratch1/sd/lonappan/S4BIRD/CAMB/BBSims_lensed_dls.dat'\n",
    "cl_len = cmb.read_camb_cls(cl_lenf,ftype='lens',output='array')[:,:lmax+1]"
   ]
  },
  {
   "cell_type": "code",
   "execution_count": 27,
   "id": "343010ab-a61d-474f-b034-f4117c5c4dbb",
   "metadata": {},
   "outputs": [],
   "source": [
    "E1,B1 =cs.cninv.cnfilter_freq(2,1,dnside,lmax,cl_len[1:3,:],Bl,invN,QU1,chn=1,itns=[1000],eps=[1e-5],ro=10,stat='status1.txt')\n"
   ]
  },
  {
   "cell_type": "code",
   "execution_count": 39,
   "id": "2fde31b0-55c6-4b12-b182-6a287808d8ae",
   "metadata": {},
   "outputs": [],
   "source": [
    "E1_,B1_ =cs.cninv.cnfilter_freq(2,1,dnside,lmax,cl_len[1:3,:],Bl,invN,QU1_,chn=1,itns=[1000],eps=[1e-5],ro=10,stat='status1_.txt')\n"
   ]
  },
  {
   "cell_type": "code",
   "execution_count": 28,
   "id": "5acb7314-4d49-42fc-b40c-aa1c093d4aa7",
   "metadata": {},
   "outputs": [],
   "source": [
    "E2,B2 =cs.cninv.cnfilter_freq(2,1,dnside,lmax,cl_len[1:3,:],Bl,invN,QU2,chn=1,itns=[1000],eps=[1e-5],ro=10,stat='status2.txt')\n",
    "\n"
   ]
  },
  {
   "cell_type": "code",
   "execution_count": 41,
   "id": "f968c52c-998e-47ea-a655-a2fa009def38",
   "metadata": {},
   "outputs": [
    {
     "name": "stderr",
     "output_type": "stream",
     "text": [
      "/tmp/ipykernel_13810/1858135492.py:1: RuntimeWarning: divide by zero encountered in true_divide\n",
      "  plt.loglog(1/cl_len[2,:])\n"
     ]
    },
    {
     "data": {
      "text/plain": [
       "(100000000000000000, 1.6016827241718824e+29)"
      ]
     },
     "execution_count": 41,
     "metadata": {},
     "output_type": "execute_result"
    },
    {
     "data": {
      "image/png": "[encoded data removed]",
      "text/plain": [
       "<Figure size 432x288 with 1 Axes>"
      ]
     },
     "metadata": {
      "needs_background": "light"
     },
     "output_type": "display_data"
    }
   ],
   "source": [
    "plt.loglog(1/cl_len[2,:])\n",
    "plt.loglog(cs.utils.alm2cl(lmax,B1),label='1')\n",
    "plt.loglog(cs.utils.alm2cl(lmax,B1_),label='1_')\n",
    "plt.loglog(cs.utils.alm2cl(lmax,B2),label='2')\n",
    "plt.legend()\n",
    "plt.ylim(10**17,None)"
   ]
  },
  {
   "cell_type": "code",
   "execution_count": 43,
   "id": "0b8ba258-382d-4c7c-adda-0a20c1a6749d",
   "metadata": {},
   "outputs": [],
   "source": [
    "TQU_woFG1 = (hp.smoothing(get_cmb(0),fwhm=np.radians(fwhm/60)) + get_noise_map(1.5,sigma))*mask"
   ]
  },
  {
   "cell_type": "code",
   "execution_count": 45,
   "id": "0dec381e-7252-4a2d-a25b-f05d755545d5",
   "metadata": {},
   "outputs": [],
   "source": [
    "TEB_woFG1 = hp.map2alm(TQU_woFG1)"
   ]
  },
  {
   "cell_type": "code",
   "execution_count": 69,
   "id": "90ce69fd-6d24-4ad4-956a-2a71068ca652",
   "metadata": {},
   "outputs": [],
   "source": [
    "hp.almxfl(TEB_woFG1[0],cli(beam_fl),inplace=True)\n",
    "hp.almxfl(TEB_woFG1[1],cli(beam_fl),inplace=True)\n",
    "hp.almxfl(TEB_woFG1[2],cli(beam_fl),inplace=True)"
   ]
  },
  {
   "cell_type": "code",
   "execution_count": 69,
   "id": "b7019d77-c2c4-4a08-b33e-45a154686304",
   "metadata": {},
   "outputs": [
    {
     "data": {
      "text/plain": [
       "array([ 0.00000000e+00+0.00000000e+00j,  0.00000000e+00+0.00000000e+00j,\n",
       "        3.83962374e-03+0.00000000e+00j, ...,\n",
       "       -6.04429413e+20-2.56439145e+21j, -3.64916082e+21-1.35007871e+22j,\n",
       "       -2.44053177e+21-9.36280749e+20j])"
      ]
     },
     "execution_count": 69,
     "metadata": {},
     "output_type": "execute_result"
    }
   ],
   "source": [
    "TQU_woFG1 = hp.alm2map(TEB_woFG1,dnside)"
   ]
  },
  {
   "cell_type": "code",
   "execution_count": 71,
   "id": "c065a39e-846e-42c0-9405-d0f8d1a7ac1b",
   "metadata": {},
   "outputs": [
    {
     "data": {
      "text/plain": [
       "[<matplotlib.lines.Line2D at 0x155507f12020>]"
      ]
     },
     "execution_count": 71,
     "metadata": {},
     "output_type": "execute_result"
    },
    {
     "data": {
      "image/png": "[encoded data removed]",
      "text/plain": [
       "<Figure size 432x288 with 1 Axes>"
      ]
     },
     "metadata": {
      "needs_background": "light"
     },
     "output_type": "display_data"
    }
   ],
   "source": [
    "plt.loglog(hp.alm2cl(TEB_woFG1[2]))\n",
    "plt.loglog(hp.alm2cl(TEB_woFG2[2]))"
   ]
  },
  {
   "cell_type": "code",
   "execution_count": 72,
   "id": "713f6552-7ee6-40c5-9510-686b22860214",
   "metadata": {},
   "outputs": [],
   "source": [
    "TQU_woFG2 = hp.alm2map(TEB_woFG2,dnside)"
   ]
  },
  {
   "cell_type": "code",
   "execution_count": 73,
   "id": "cbc02a8f-2931-4f71-8529-b9db0cf19384",
   "metadata": {},
   "outputs": [],
   "source": [
    "QU_woFG1 = np.reshape(np.array((TQU_woFG1[1],TQU_woFG1[2])),(2,1,hp.nside2npix(dnside)))/Tcmb\n",
    "QU_woFG2 = np.reshape(np.array((TQU_woFG2[1],TQU_woFG2[2])),(2,1,hp.nside2npix(dnside)))/Tcmb"
   ]
  },
  {
   "cell_type": "code",
   "execution_count": 74,
   "id": "7174c2e0-3d7f-46fc-bda2-fadb63be9e2a",
   "metadata": {},
   "outputs": [],
   "source": [
    "E_noFG1,B_noFG1 =cs.cninv.cnfilter_freq(2,1,dnside,lmax,cl_len[1:3,:],Bl,invN,QU_woFG1,chn=1,itns=[1000],eps=[1e-5],ro=10,stat='status1.txt')\n",
    "\n"
   ]
  },
  {
   "cell_type": "code",
   "execution_count": 75,
   "id": "d043e92c-ad01-4325-bfc1-1a82d04fe0fb",
   "metadata": {},
   "outputs": [],
   "source": [
    "E_noFG2,B_noFG2 =cs.cninv.cnfilter_freq(2,1,dnside,lmax,cl_len[1:3,:],Bl,invN,QU_woFG2,chn=1,itns=[1000],eps=[1e-5],ro=10,stat='status1.txt')\n",
    "\n",
    "\n"
   ]
  },
  {
   "cell_type": "code",
   "execution_count": 80,
   "id": "167c46a3-e755-47cf-b61c-ee9684aa74c7",
   "metadata": {},
   "outputs": [
    {
     "name": "stderr",
     "output_type": "stream",
     "text": [
      "/tmp/ipykernel_13810/2945304304.py:1: RuntimeWarning: divide by zero encountered in true_divide\n",
      "  plt.loglog(1/cl_len[2,:])\n"
     ]
    },
    {
     "data": {
      "text/plain": [
       "(100000000000000000, 7.92861182893577e+22)"
      ]
     },
     "execution_count": 80,
     "metadata": {},
     "output_type": "execute_result"
    },
    {
     "data": {
      "image/png": "[encoded data removed]",
      "text/plain": [
       "<Figure size 432x288 with 1 Axes>"
      ]
     },
     "metadata": {
      "needs_background": "light"
     },
     "output_type": "display_data"
    }
   ],
   "source": [
    "plt.loglog(1/cl_len[2,:])\n",
    "plt.loglog(cs.utils.alm2cl(lmax,B1_),label='With Foreground')\n",
    "plt.loglog(cs.utils.alm2cl(lmax,B_noFG1),label='Without Foreground')\n",
    "plt.legend()\n",
    "plt.ylim(10**17,None)"
   ]
  },
  {
   "cell_type": "code",
   "execution_count": null,
   "id": "cdbd32da-0235-4897-92f0-a4d0c7776b33",
   "metadata": {},
   "outputs": [],
   "source": []
  }
 ],
 "metadata": {
  "kernelspec": {
   "display_name": "Pylens",
   "language": "python",
   "name": "cmblens"
  },
  "language_info": {
   "codemirror_mode": {
    "name": "ipython",
    "version": 3
   },
   "file_extension": ".py",
   "mimetype": "text/x-python",
   "name": "python",
   "nbconvert_exporter": "python",
   "pygments_lexer": "ipython3",
   "version": "3.10.4"
  }
 },
 "nbformat": 4,
 "nbformat_minor": 5
}
