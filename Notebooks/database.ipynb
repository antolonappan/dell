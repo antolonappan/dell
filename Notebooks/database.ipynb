{
 "cells": [
  {
   "cell_type": "code",
   "execution_count": 1,
   "metadata": {},
   "outputs": [],
   "source": [
    "import sys"
   ]
  },
  {
   "cell_type": "code",
   "execution_count": 2,
   "metadata": {},
   "outputs": [],
   "source": [
    "sys.path.append('../')"
   ]
  },
  {
   "cell_type": "code",
   "execution_count": 8,
   "metadata": {},
   "outputs": [
    {
     "name": "stdout",
     "output_type": "stream",
     "text": [
      "The autoreload extension is already loaded. To reload it, use:\n",
      "  %reload_ext autoreload\n"
     ]
    }
   ],
   "source": [
    "%load_ext autoreload\n",
    "%autoreload 2\n",
    "from database import surveys,Surveys"
   ]
  },
  {
   "cell_type": "code",
   "execution_count": 9,
   "metadata": {},
   "outputs": [],
   "source": [
    "s = surveys()"
   ]
  },
  {
   "cell_type": "code",
   "execution_count": 10,
   "metadata": {},
   "outputs": [],
   "source": [
    "lb  = s.get_table_dataframe(\"LITEBIRD_V1\")"
   ]
  },
  {
   "cell_type": "code",
   "execution_count": 12,
   "metadata": {},
   "outputs": [
    {
     "data": {
      "text/html": [
       "<div>\n",
       "<style scoped>\n",
       "    .dataframe tbody tr th:only-of-type {\n",
       "        vertical-align: middle;\n",
       "    }\n",
       "\n",
       "    .dataframe tbody tr th {\n",
       "        vertical-align: top;\n",
       "    }\n",
       "\n",
       "    .dataframe thead th {\n",
       "        text-align: right;\n",
       "    }\n",
       "</style>\n",
       "<table border=\"1\" class=\"dataframe\">\n",
       "  <thead>\n",
       "    <tr style=\"text-align: right;\">\n",
       "      <th></th>\n",
       "      <th>index</th>\n",
       "      <th>frequency</th>\n",
       "      <th>depth_p</th>\n",
       "      <th>fwhm</th>\n",
       "      <th>bandwidth</th>\n",
       "      <th>pixel_size</th>\n",
       "      <th>detectors</th>\n",
       "      <th>net_det</th>\n",
       "      <th>net_arr_t</th>\n",
       "      <th>net_arr_p</th>\n",
       "    </tr>\n",
       "  </thead>\n",
       "  <tbody>\n",
       "    <tr>\n",
       "      <th>0</th>\n",
       "      <td>0</td>\n",
       "      <td>40.0</td>\n",
       "      <td>37.42</td>\n",
       "      <td>70.5</td>\n",
       "      <td>0.30</td>\n",
       "      <td>18.0</td>\n",
       "      <td>114</td>\n",
       "      <td>172</td>\n",
       "      <td>18.0</td>\n",
       "      <td>25.5</td>\n",
       "    </tr>\n",
       "    <tr>\n",
       "      <th>1</th>\n",
       "      <td>1</td>\n",
       "      <td>50.0</td>\n",
       "      <td>33.46</td>\n",
       "      <td>58.5</td>\n",
       "      <td>0.30</td>\n",
       "      <td>18.0</td>\n",
       "      <td>114</td>\n",
       "      <td>96</td>\n",
       "      <td>11.5</td>\n",
       "      <td>16.3</td>\n",
       "    </tr>\n",
       "    <tr>\n",
       "      <th>2</th>\n",
       "      <td>2</td>\n",
       "      <td>60.0</td>\n",
       "      <td>21.31</td>\n",
       "      <td>51.1</td>\n",
       "      <td>0.23</td>\n",
       "      <td>18.0</td>\n",
       "      <td>114</td>\n",
       "      <td>79</td>\n",
       "      <td>9.5</td>\n",
       "      <td>13.5</td>\n",
       "    </tr>\n",
       "    <tr>\n",
       "      <th>3</th>\n",
       "      <td>3</td>\n",
       "      <td>68.0</td>\n",
       "      <td>16.87</td>\n",
       "      <td>47.1</td>\n",
       "      <td>0.23</td>\n",
       "      <td>18.0</td>\n",
       "      <td>114</td>\n",
       "      <td>64</td>\n",
       "      <td>7.8</td>\n",
       "      <td>11.0</td>\n",
       "    </tr>\n",
       "    <tr>\n",
       "      <th>4</th>\n",
       "      <td>4</td>\n",
       "      <td>78.0</td>\n",
       "      <td>12.07</td>\n",
       "      <td>43.8</td>\n",
       "      <td>0.23</td>\n",
       "      <td>18.0</td>\n",
       "      <td>114</td>\n",
       "      <td>54</td>\n",
       "      <td>6.5</td>\n",
       "      <td>9.2</td>\n",
       "    </tr>\n",
       "    <tr>\n",
       "      <th>5</th>\n",
       "      <td>5</td>\n",
       "      <td>89.0</td>\n",
       "      <td>11.30</td>\n",
       "      <td>41.5</td>\n",
       "      <td>0.23</td>\n",
       "      <td>18.0</td>\n",
       "      <td>114</td>\n",
       "      <td>47</td>\n",
       "      <td>5.6</td>\n",
       "      <td>8.0</td>\n",
       "    </tr>\n",
       "    <tr>\n",
       "      <th>6</th>\n",
       "      <td>6</td>\n",
       "      <td>100.0</td>\n",
       "      <td>6.56</td>\n",
       "      <td>37.8</td>\n",
       "      <td>0.23</td>\n",
       "      <td>12.0</td>\n",
       "      <td>296</td>\n",
       "      <td>59</td>\n",
       "      <td>4.4</td>\n",
       "      <td>6.2</td>\n",
       "    </tr>\n",
       "    <tr>\n",
       "      <th>7</th>\n",
       "      <td>7</td>\n",
       "      <td>119.0</td>\n",
       "      <td>4.58</td>\n",
       "      <td>33.6</td>\n",
       "      <td>0.30</td>\n",
       "      <td>12.0</td>\n",
       "      <td>222</td>\n",
       "      <td>42</td>\n",
       "      <td>3.7</td>\n",
       "      <td>5.2</td>\n",
       "    </tr>\n",
       "    <tr>\n",
       "      <th>8</th>\n",
       "      <td>8</td>\n",
       "      <td>140.0</td>\n",
       "      <td>4.79</td>\n",
       "      <td>30.8</td>\n",
       "      <td>0.30</td>\n",
       "      <td>12.0</td>\n",
       "      <td>296</td>\n",
       "      <td>38</td>\n",
       "      <td>2.8</td>\n",
       "      <td>4.0</td>\n",
       "    </tr>\n",
       "    <tr>\n",
       "      <th>9</th>\n",
       "      <td>9</td>\n",
       "      <td>166.0</td>\n",
       "      <td>5.57</td>\n",
       "      <td>28.9</td>\n",
       "      <td>0.30</td>\n",
       "      <td>12.0</td>\n",
       "      <td>222</td>\n",
       "      <td>36</td>\n",
       "      <td>3.1</td>\n",
       "      <td>4.4</td>\n",
       "    </tr>\n",
       "    <tr>\n",
       "      <th>10</th>\n",
       "      <td>10</td>\n",
       "      <td>195.0</td>\n",
       "      <td>5.85</td>\n",
       "      <td>28.6</td>\n",
       "      <td>0.30</td>\n",
       "      <td>12.0</td>\n",
       "      <td>296</td>\n",
       "      <td>37</td>\n",
       "      <td>2.8</td>\n",
       "      <td>3.9</td>\n",
       "    </tr>\n",
       "    <tr>\n",
       "      <th>11</th>\n",
       "      <td>11</td>\n",
       "      <td>235.0</td>\n",
       "      <td>10.79</td>\n",
       "      <td>24.7</td>\n",
       "      <td>0.30</td>\n",
       "      <td>12.0</td>\n",
       "      <td>222</td>\n",
       "      <td>43</td>\n",
       "      <td>3.7</td>\n",
       "      <td>5.2</td>\n",
       "    </tr>\n",
       "    <tr>\n",
       "      <th>12</th>\n",
       "      <td>12</td>\n",
       "      <td>280.0</td>\n",
       "      <td>13.80</td>\n",
       "      <td>22.5</td>\n",
       "      <td>0.30</td>\n",
       "      <td>5.4</td>\n",
       "      <td>128</td>\n",
       "      <td>55</td>\n",
       "      <td>6.3</td>\n",
       "      <td>8.9</td>\n",
       "    </tr>\n",
       "    <tr>\n",
       "      <th>13</th>\n",
       "      <td>13</td>\n",
       "      <td>337.0</td>\n",
       "      <td>21.95</td>\n",
       "      <td>20.9</td>\n",
       "      <td>0.30</td>\n",
       "      <td>4.5</td>\n",
       "      <td>128</td>\n",
       "      <td>81</td>\n",
       "      <td>9.4</td>\n",
       "      <td>13.2</td>\n",
       "    </tr>\n",
       "    <tr>\n",
       "      <th>14</th>\n",
       "      <td>14</td>\n",
       "      <td>402.0</td>\n",
       "      <td>47.45</td>\n",
       "      <td>17.9</td>\n",
       "      <td>0.23</td>\n",
       "      <td>4.0</td>\n",
       "      <td>128</td>\n",
       "      <td>156</td>\n",
       "      <td>18.0</td>\n",
       "      <td>25.5</td>\n",
       "    </tr>\n",
       "  </tbody>\n",
       "</table>\n",
       "</div>"
      ],
      "text/plain": [
       "    index  frequency  depth_p  fwhm  ...  detectors  net_det  net_arr_t  net_arr_p\n",
       "0       0       40.0    37.42  70.5  ...        114      172       18.0       25.5\n",
       "1       1       50.0    33.46  58.5  ...        114       96       11.5       16.3\n",
       "2       2       60.0    21.31  51.1  ...        114       79        9.5       13.5\n",
       "3       3       68.0    16.87  47.1  ...        114       64        7.8       11.0\n",
       "4       4       78.0    12.07  43.8  ...        114       54        6.5        9.2\n",
       "5       5       89.0    11.30  41.5  ...        114       47        5.6        8.0\n",
       "6       6      100.0     6.56  37.8  ...        296       59        4.4        6.2\n",
       "7       7      119.0     4.58  33.6  ...        222       42        3.7        5.2\n",
       "8       8      140.0     4.79  30.8  ...        296       38        2.8        4.0\n",
       "9       9      166.0     5.57  28.9  ...        222       36        3.1        4.4\n",
       "10     10      195.0     5.85  28.6  ...        296       37        2.8        3.9\n",
       "11     11      235.0    10.79  24.7  ...        222       43        3.7        5.2\n",
       "12     12      280.0    13.80  22.5  ...        128       55        6.3        8.9\n",
       "13     13      337.0    21.95  20.9  ...        128       81        9.4       13.2\n",
       "14     14      402.0    47.45  17.9  ...        128      156       18.0       25.5\n",
       "\n",
       "[15 rows x 10 columns]"
      ]
     },
     "execution_count": 12,
     "metadata": {},
     "output_type": "execute_result"
    }
   ],
   "source": [
    "Surveys().get_table_dataframe(\"LITEBIRD_V1\")"
   ]
  },
  {
   "cell_type": "code",
   "execution_count": 11,
   "metadata": {},
   "outputs": [
    {
     "data": {
      "text/plain": [
       "dict_keys(['level_0', 'index', 'frequency', 'depth_p', 'fwhm', 'bandwidth', 'pixel_size', 'detectors', 'net_det', 'net_arr_t', 'net_arr_p'])"
      ]
     },
     "execution_count": 11,
     "metadata": {},
     "output_type": "execute_result"
    }
   ],
   "source": [
    "lb_dict.keys()"
   ]
  },
  {
   "cell_type": "code",
   "execution_count": 12,
   "metadata": {},
   "outputs": [],
   "source": [
    "import pickle as pl"
   ]
  },
  {
   "cell_type": "code",
   "execution_count": 13,
   "metadata": {},
   "outputs": [],
   "source": [
    "to_save = {}"
   ]
  },
  {
   "cell_type": "code",
   "execution_count": 14,
   "metadata": {},
   "outputs": [],
   "source": [
    "to_save['LITEBIRD_V1'] = lb_dict"
   ]
  },
  {
   "cell_type": "code",
   "execution_count": 16,
   "metadata": {},
   "outputs": [],
   "source": [
    "del to_save['LITEBIRD_V1']['level_0']"
   ]
  },
  {
   "cell_type": "code",
   "execution_count": 19,
   "metadata": {},
   "outputs": [
    {
     "data": {
      "text/plain": [
       "dict_keys(['index', 'frequency', 'depth_p', 'fwhm', 'bandwidth', 'pixel_size', 'detectors', 'net_det', 'net_arr_t', 'net_arr_p'])"
      ]
     },
     "execution_count": 19,
     "metadata": {},
     "output_type": "execute_result"
    }
   ],
   "source": [
    "to_save['LITEBIRD_V1'].keys()"
   ]
  },
  {
   "cell_type": "code",
   "execution_count": 20,
   "metadata": {},
   "outputs": [],
   "source": [
    "pl.dump(to_save,open('../surveys.pkl','wb'))"
   ]
  },
  {
   "cell_type": "code",
   "execution_count": 23,
   "metadata": {},
   "outputs": [
    {
     "name": "stdout",
     "output_type": "stream",
     "text": [
      "The autoreload extension is already loaded. To reload it, use:\n",
      "  %reload_ext autoreload\n"
     ]
    },
    {
     "ename": "ImportError",
     "evalue": "cannot import name 'Surveys' from 'database' (/global/u2/l/lonappan/workspace/LBlens/Notebooks/../database.py)",
     "output_type": "error",
     "traceback": [
      "\u001b[0;31m---------------------------------------------------------------------------\u001b[0m",
      "\u001b[0;31mImportError\u001b[0m                               Traceback (most recent call last)",
      "\u001b[1;32m/global/homes/l/lonappan/workspace/LBlens/Notebooks/database.ipynb Cell 14\u001b[0m in \u001b[0;36m<cell line: 3>\u001b[0;34m()\u001b[0m\n\u001b[1;32m      <a href='vscode-notebook-cell://ssh-remote%2Bcori.nersc.gov/global/homes/l/lonappan/workspace/LBlens/Notebooks/database.ipynb#X16sdnNjb2RlLXJlbW90ZQ%3D%3D?line=0'>1</a>\u001b[0m get_ipython()\u001b[39m.\u001b[39mrun_line_magic(\u001b[39m'\u001b[39m\u001b[39mload_ext\u001b[39m\u001b[39m'\u001b[39m, \u001b[39m'\u001b[39m\u001b[39mautoreload\u001b[39m\u001b[39m'\u001b[39m)\n\u001b[1;32m      <a href='vscode-notebook-cell://ssh-remote%2Bcori.nersc.gov/global/homes/l/lonappan/workspace/LBlens/Notebooks/database.ipynb#X16sdnNjb2RlLXJlbW90ZQ%3D%3D?line=1'>2</a>\u001b[0m get_ipython()\u001b[39m.\u001b[39mrun_line_magic(\u001b[39m'\u001b[39m\u001b[39mautoreload\u001b[39m\u001b[39m'\u001b[39m, \u001b[39m'\u001b[39m\u001b[39m2\u001b[39m\u001b[39m'\u001b[39m)\n\u001b[0;32m----> <a href='vscode-notebook-cell://ssh-remote%2Bcori.nersc.gov/global/homes/l/lonappan/workspace/LBlens/Notebooks/database.ipynb#X16sdnNjb2RlLXJlbW90ZQ%3D%3D?line=2'>3</a>\u001b[0m \u001b[39mfrom\u001b[39;00m \u001b[39mdatabase\u001b[39;00m \u001b[39mimport\u001b[39;00m Surveys\n",
      "\u001b[0;31mImportError\u001b[0m: cannot import name 'Surveys' from 'database' (/global/u2/l/lonappan/workspace/LBlens/Notebooks/../database.py)"
     ]
    }
   ],
   "source": [
    "%load_ext autoreload\n",
    "%autoreload 2\n",
    "from database import Surveys"
   ]
  },
  {
   "cell_type": "code",
   "execution_count": null,
   "metadata": {},
   "outputs": [],
   "source": []
  }
 ],
 "metadata": {
  "kernelspec": {
   "display_name": "Python 3.10.4 ('cmblens': conda)",
   "language": "python",
   "name": "python3"
  },
  "language_info": {
   "codemirror_mode": {
    "name": "ipython",
    "version": 3
   },
   "file_extension": ".py",
   "mimetype": "text/x-python",
   "name": "python",
   "nbconvert_exporter": "python",
   "pygments_lexer": "ipython3",
   "version": "3.10.4"
  },
  "orig_nbformat": 4,
  "vscode": {
   "interpreter": {
    "hash": "9de6fac3a23c689363126ecf4ed37844b69859833cb573f66bdfd1e51756a90d"
   }
  }
 },
 "nbformat": 4,
 "nbformat_minor": 2
}
