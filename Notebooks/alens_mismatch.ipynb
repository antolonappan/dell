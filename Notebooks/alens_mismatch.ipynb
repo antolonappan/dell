{
 "cells": [
  {
   "cell_type": "code",
   "execution_count": 10,
   "metadata": {},
   "outputs": [],
   "source": [
    "import numpy as np\n",
    "import matplotlib.pyplot as plt\n",
    "import sys\n",
    "import healpy as hp\n",
    "sys.path.append('../')\n",
    "import os\n",
    "import curvedsky as cs\n",
    "from tqdm import tqdm"
   ]
  },
  {
   "cell_type": "code",
   "execution_count": 2,
   "metadata": {},
   "outputs": [],
   "source": [
    "%load_ext autoreload\n",
    "%autoreload 2\n",
    "from quest import Reconstruction\n",
    "from plotstat import recStat,crazymix"
   ]
  },
  {
   "cell_type": "code",
   "execution_count": 3,
   "metadata": {},
   "outputs": [
    {
     "name": "stdout",
     "output_type": "stream",
     "text": [
      "DATABASE: loaded\n",
      "SIMUALATION object with  FG: Loaded\n",
      "FILTERING object with  FG: Loaded\n",
      "QUEST object with  FG: Loaded\n"
     ]
    }
   ],
   "source": [
    "rec_fg2 = Reconstruction.from_ini('LB_FG2.ini')"
   ]
  },
  {
   "cell_type": "code",
   "execution_count": 21,
   "metadata": {},
   "outputs": [],
   "source": [
    "arr = rec_fg2.get_qcl_wR_stat()"
   ]
  },
  {
   "cell_type": "code",
   "execution_count": 23,
   "metadata": {},
   "outputs": [
    {
     "data": {
      "text/plain": [
       "(400, 30)"
      ]
     },
     "execution_count": 23,
     "metadata": {},
     "output_type": "execute_result"
    }
   ],
   "source": [
    "arr.shape"
   ]
  },
  {
   "cell_type": "code",
   "execution_count": 26,
   "metadata": {},
   "outputs": [],
   "source": [
    "arrn = np.delete(arr, 0, axis=0)"
   ]
  },
  {
   "cell_type": "code",
   "execution_count": 28,
   "metadata": {},
   "outputs": [
    {
     "data": {
      "text/plain": [
       "(399, 30)"
      ]
     },
     "execution_count": 28,
     "metadata": {},
     "output_type": "execute_result"
    }
   ],
   "source": [
    "arrn.shape"
   ]
  },
  {
   "cell_type": "code",
   "execution_count": 40,
   "metadata": {},
   "outputs": [
    {
     "name": "stderr",
     "output_type": "stream",
     "text": [
      "../plotstat.py:125: RuntimeWarning: invalid value encountered in true_divide\n",
      "  cl = (self.get_data() -\n",
      "../plotstat.py:128: RuntimeWarning: invalid value encountered in true_divide\n",
      "  \n"
     ]
    },
    {
     "name": "stdout",
     "output_type": "stream",
     "text": [
      "1.0463676110732694 0.01951154148539407\n"
     ]
    }
   ],
   "source": [
    "arr = crazymix(rec_fg2,rec_fg2,0,do_MC=False,use_off_diag=False).get_samples(False).reshape(-1)\n",
    "print(np.mean(arr),np.std(arr))"
   ]
  },
  {
   "cell_type": "code",
   "execution_count": 41,
   "metadata": {},
   "outputs": [
    {
     "name": "stderr",
     "output_type": "stream",
     "text": [
      "Alens:   0%|          | 0/400 [00:00<?, ?sim/s]"
     ]
    },
    {
     "name": "stderr",
     "output_type": "stream",
     "text": [
      "../plotstat.py:125: RuntimeWarning: invalid value encountered in true_divide\n",
      "  cl = (self.get_data() -\n",
      "../plotstat.py:128: RuntimeWarning: invalid value encountered in true_divide\n",
      "  \n",
      "Alens: 100%|██████████| 400/400 [24:23<00:00,  3.66s/sim]\n"
     ]
    }
   ],
   "source": [
    "Alens = []\n",
    "for i in tqdm(range(400),desc='Alens',unit='sim'):\n",
    "    Alens.append(np.mean(crazymix(rec_fg2,rec_fg2,i).get_samples(False).reshape(-1)))\n",
    "Alens = np.array(Alens)"
   ]
  },
  {
   "cell_type": "code",
   "execution_count": 42,
   "metadata": {},
   "outputs": [
    {
     "data": {
      "text/plain": [
       "<matplotlib.legend.Legend at 0x14b85118d7b8>"
      ]
     },
     "execution_count": 42,
     "metadata": {},
     "output_type": "execute_result"
    },
    {
     "data": {
      "image/png": "[encoded data removed]",
      "text/plain": [
       "<Figure size 432x288 with 1 Axes>"
      ]
     },
     "metadata": {
      "needs_background": "light"
     },
     "output_type": "display_data"
    }
   ],
   "source": [
    "null = plt.hist(Alens,bins=30)\n",
    "plt.axvline(np.mean(Alens),color='k',label=f\"mean = {np.mean(Alens):.4f}\")\n",
    "plt.axvline(np.mean(Alens)+np.std(Alens),color='k',ls='--',label=f\"std = {np.std(Alens):.4f}\")\n",
    "plt.axvline(np.mean(Alens)-np.std(Alens),color='k',ls='--')\n",
    "plt.xlabel(r'$A_{\\rm lens}$')\n",
    "plt.legend()\n"
   ]
  },
  {
   "cell_type": "code",
   "execution_count": 44,
   "metadata": {},
   "outputs": [
    {
     "data": {
      "text/plain": [
       "0.3991416309012875"
      ]
     },
     "execution_count": 44,
     "metadata": {},
     "output_type": "execute_result"
    }
   ],
   "source": [
    "0.0093/0.0233"
   ]
  },
  {
   "cell_type": "code",
   "execution_count": 16,
   "metadata": {},
   "outputs": [
    {
     "data": {
      "text/plain": [
       "0.0002653633513261502"
      ]
     },
     "execution_count": 16,
     "metadata": {},
     "output_type": "execute_result"
    }
   ],
   "source": [
    "np.std(Alens)"
   ]
  },
  {
   "cell_type": "code",
   "execution_count": 57,
   "metadata": {},
   "outputs": [
    {
     "data": {
      "text/plain": [
       "5.0"
      ]
     },
     "execution_count": 57,
     "metadata": {},
     "output_type": "execute_result"
    }
   ],
   "source": []
  },
  {
   "cell_type": "code",
   "execution_count": null,
   "metadata": {},
   "outputs": [],
   "source": []
  }
 ],
 "metadata": {
  "kernelspec": {
   "display_name": "Python 3",
   "language": "python",
   "name": "python3"
  },
  "language_info": {
   "codemirror_mode": {
    "name": "ipython",
    "version": 3
   },
   "file_extension": ".py",
   "mimetype": "text/x-python",
   "name": "python",
   "nbconvert_exporter": "python",
   "pygments_lexer": "ipython3",
   "version": "3.7.2"
  }
 },
 "nbformat": 4,
 "nbformat_minor": 2
}
