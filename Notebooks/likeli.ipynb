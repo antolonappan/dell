{
 "cells": [
  {
   "cell_type": "code",
   "execution_count": 1,
   "metadata": {},
   "outputs": [],
   "source": [
    "%matplotlib inline"
   ]
  },
  {
   "cell_type": "code",
   "execution_count": 2,
   "metadata": {},
   "outputs": [],
   "source": [
    "import emcee\n",
    "import os\n",
    "import numpy as np\n",
    "from scipy.optimize import minimize\n",
    "from getdist import plots, MCSamples\n",
    "import pickle as pl\n",
    "import matplotlib.pyplot as plt\n",
    "import camb\n",
    "from camb import model, initialpower\n",
    "import sys\n",
    "sys.path.append('../')"
   ]
  },
  {
   "cell_type": "code",
   "execution_count": 3,
   "metadata": {},
   "outputs": [
    {
     "name": "stderr",
     "output_type": "stream",
     "text": [
      "\n",
      "WARNING: version mismatch between CFITSIO header (v4.000999999999999) and linked library (v4.01).\n",
      "\n",
      "\n",
      "WARNING: version mismatch between CFITSIO header (v4.000999999999999) and linked library (v4.01).\n",
      "\n",
      "\n",
      "WARNING: version mismatch between CFITSIO header (v4.000999999999999) and linked library (v4.01).\n",
      "\n"
     ]
    }
   ],
   "source": [
    "from quest import Reconstruction"
   ]
  },
  {
   "cell_type": "code",
   "execution_count": 4,
   "metadata": {},
   "outputs": [
    {
     "name": "stdout",
     "output_type": "stream",
     "text": [
      "DATABASE: loaded\n",
      "SIMUALATION object with out FG: Loaded\n",
      "FILTERING object with out FG: Loaded\n",
      "QUEST object with out FG: Loaded\n"
     ]
    }
   ],
   "source": [
    "myrec = Reconstruction.from_ini('LB_FG0.ini')"
   ]
  },
  {
   "cell_type": "code",
   "execution_count": 5,
   "metadata": {},
   "outputs": [],
   "source": [
    "class Likelihood_CAMB:\n",
    "\n",
    "    def __init__(self,rec_lib):\n",
    "        self.rec = rec_lib\n",
    "        self.lmax = len(self.rec.cl_pp) - 1\n",
    "        self.pars = camb.CAMBparams()\n",
    "        self.pars.InitPower.set_params(As=2e-9, ns=0.965, r=0)\n",
    "        self.pars.set_for_lmax(self.lmax, lens_potential_accuracy=0)\n",
    "\n",
    "    def theory_PP(self,theta):\n",
    "        omch2,alens = theta\n",
    "        self.pars.set_cosmology(H0=67.5,omch2=omch2,Alens=alens)\n",
    "        results = camb.get_results(self.pars)\n",
    "        return results.get_lens_potential_cls(lmax=1024)[:,0]\n",
    "    \n",
    "    def theory_PP_binned(self,theta):\n",
    "        return self.rec.bin_cell(self.theory_PP(theta))\n",
    "    \n",
    "    def data(self):\n",
    "        return self.rec.get_qcl_wR_stat(n=400,ret='cl',n1=True,rdn0=True)\n",
    "    \n",
    "    def data_mean_spectra(self):\n",
    "        return self.data().mean(axis=0)\n",
    "\n",
    "    def data_covariance(self):\n",
    "        return np.cov(self.data().T)\n",
    "\n",
    "    def chisq(self,theta):\n",
    "        theory = self.theory_PP_binned(theta)\n",
    "        data = self.data_mean_spectra()\n",
    "        cov = self.data_covariance()\n",
    "        vect = theory - data\n",
    "        return np.dot(vect, np.dot(np.linalg.inv(cov), vect.T))\n",
    "    \n",
    "    def lnlike(self,theta):\n",
    "        return -0.5 * self.chisq(theta) # type: ignore   \n",
    "     \n",
    "    def lnprior(self,theta):\n",
    "        omch2,alens = theta\n",
    "        if 0.08 < omch2 < 0.15 and 0.5 < alens < 1.5:\n",
    "            return 0.0\n",
    "        return -np.inf\n",
    "    \n",
    "    def lnprob(self,theta):\n",
    "        lp = self.lnprior(theta)\n",
    "        if not np.isfinite(lp):\n",
    "            return -np.inf\n",
    "        return lp + self.lnlike(theta)\n",
    "\n",
    "    def MLE(self):\n",
    "        np.random.seed(42)\n",
    "        nll = lambda *args: -self.lnlike(*args)\n",
    "        initial = np.array([0.12,1]) + 0.001 * np.random.randn(2)\n",
    "        soln = minimize(nll, initial)\n",
    "        return soln\n",
    "        \n",
    "    def sampler(self, nwalkers=32, nsteps=500):\n",
    "        ndim = 2\n",
    "        pos = [np.array([.12,1]) + 1e-2 * np.random.randn(ndim) for i in range(nwalkers)]\n",
    "        sampler = emcee.EnsembleSampler(nwalkers, ndim, self.lnprob)\n",
    "        sampler.run_mcmc(pos, nsteps,progress=True)\n",
    "        samples = sampler.get_chain(discard=100, thin=15, flat=True)\n",
    "        pl.dump(samples,open('samples.pkl','wb'))\n",
    "        return samples\n"
   ]
  },
  {
   "cell_type": "code",
   "execution_count": 6,
   "metadata": {},
   "outputs": [],
   "source": [
    "l = Likelihood(myrec)"
   ]
  },
  {
   "cell_type": "code",
   "execution_count": 7,
   "metadata": {},
   "outputs": [
    {
     "name": "stderr",
     "output_type": "stream",
     "text": [
      " 78%|███████▊  | 392/500 [2:25:48<43:40, 24.26s/it]  "
     ]
    }
   ],
   "source": [
    "l.sampler()"
   ]
  },
  {
   "cell_type": "code",
   "execution_count": 16,
   "metadata": {},
   "outputs": [
    {
     "data": {
      "text/plain": [
       "class: <CAMBparams>\n",
       " WantCls = True\n",
       " WantTransfer = False\n",
       " WantScalars = True\n",
       " WantTensors = False\n",
       " WantVectors = False\n",
       " WantDerivedParameters = True\n",
       " Want_cl_2D_array = True\n",
       " Want_CMB = True\n",
       " Want_CMB_lensing = True\n",
       " DoLensing = True\n",
       " NonLinear = NonLinear_lens\n",
       " Transfer: <TransferParams>\n",
       "   high_precision = False\n",
       "   accurate_massive_neutrinos = False\n",
       "   kmax = 0.9\n",
       "   k_per_logint = 0\n",
       "   PK_num_redshifts = 1\n",
       "   PK_redshifts = [0.0]\n",
       " want_zstar = False\n",
       " want_zdrag = False\n",
       " min_l = 2\n",
       " max_l = 2650\n",
       " max_l_tensor = 600\n",
       " max_eta_k = 18000.0\n",
       " max_eta_k_tensor = 1200.0\n",
       " ombh2 = 0.022\n",
       " omch2 = 0.122\n",
       " omk = 0.0\n",
       " omnuh2 = 0.0006451383989381787\n",
       " H0 = 67.5\n",
       " TCMB = 2.7255\n",
       " YHe = 0.24524332588411976\n",
       " num_nu_massless = 2.030666666666667\n",
       " num_nu_massive = 1\n",
       " nu_mass_eigenstates = 1\n",
       " share_delta_neff = False\n",
       " nu_mass_degeneracies = [1.0153333333333332]\n",
       " nu_mass_fractions = [1.0]\n",
       " nu_mass_numbers = [1]\n",
       " InitPower: <InitialPowerLaw>\n",
       "   tensor_parameterization = tensor_param_rpivot\n",
       "   ns = 0.965\n",
       "   nrun = 0.0\n",
       "   nrunrun = 0.0\n",
       "   nt = 0.0\n",
       "   ntrun = -0.0\n",
       "   r = 0.0\n",
       "   pivot_scalar = 0.05\n",
       "   pivot_tensor = 0.05\n",
       "   As = 2e-09\n",
       "   At = 1.0\n",
       " Recomb: <Recfast>\n",
       "   min_a_evolve_Tm = 0.0011098779505118728\n",
       "   RECFAST_fudge = 1.125\n",
       "   RECFAST_fudge_He = 0.86\n",
       "   RECFAST_Heswitch = 6\n",
       "   RECFAST_Hswitch = True\n",
       "   AGauss1 = -0.14\n",
       "   AGauss2 = 0.079\n",
       "   zGauss1 = 7.28\n",
       "   zGauss2 = 6.73\n",
       "   wGauss1 = 0.18\n",
       "   wGauss2 = 0.33\n",
       " Reion: <TanhReionization>\n",
       "   Reionization = True\n",
       "   use_optical_depth = True\n",
       "   redshift = 10.0\n",
       "   optical_depth = 0.06\n",
       "   delta_redshift = 0.5\n",
       "   fraction = -1.0\n",
       "   include_helium_fullreion = True\n",
       "   helium_redshift = 3.5\n",
       "   helium_delta_redshift = 0.4\n",
       "   helium_redshiftstart = 5.5\n",
       "   tau_solve_accuracy_boost = 1.0\n",
       "   timestep_boost = 1.0\n",
       "   max_redshift = 50.0\n",
       " DarkEnergy: <DarkEnergyFluid>\n",
       "   w = -1.0\n",
       "   wa = 0.0\n",
       "   cs2 = 1.0\n",
       "   use_tabulated_w = False\n",
       " NonLinearModel: <Halofit>\n",
       "   Min_kh_nonlinear = 0.005\n",
       "   halofit_version = mead2020\n",
       "   HMCode_A_baryon = 3.13\n",
       "   HMCode_eta_baryon = 0.603\n",
       "   HMCode_logT_AGN = 7.8\n",
       " Accuracy: <AccuracyParams>\n",
       "   AccuracyBoost = 1.0\n",
       "   lSampleBoost = 1.0\n",
       "   lAccuracyBoost = 1.0\n",
       "   AccuratePolarization = True\n",
       "   AccurateBB = False\n",
       "   AccurateReionization = True\n",
       "   TimeStepBoost = 1.0\n",
       "   BackgroundTimeStepBoost = 1.0\n",
       "   IntTolBoost = 1.0\n",
       "   SourcekAccuracyBoost = 1.0\n",
       "   IntkAccuracyBoost = 1.0\n",
       "   TransferkBoost = 1.0\n",
       "   NonFlatIntAccuracyBoost = 1.0\n",
       "   BessIntBoost = 1.0\n",
       "   LensingBoost = 1.0\n",
       "   NonlinSourceBoost = 1.0\n",
       "   BesselBoost = 1.0\n",
       "   LimberBoost = 1.0\n",
       "   SourceLimberBoost = 1.0\n",
       "   KmaxBoost = 1.0\n",
       "   neutrino_q_boost = 1.0\n",
       " SourceTerms: <SourceTermParams>\n",
       "   limber_windows = True\n",
       "   limber_phi_lmin = 100\n",
       "   counts_density = True\n",
       "   counts_redshift = True\n",
       "   counts_lensing = False\n",
       "   counts_velocity = True\n",
       "   counts_radial = False\n",
       "   counts_timedelay = True\n",
       "   counts_ISW = True\n",
       "   counts_potential = True\n",
       "   counts_evolve = False\n",
       "   line_phot_dipole = False\n",
       "   line_phot_quadrupole = False\n",
       "   line_basic = True\n",
       "   line_distortions = True\n",
       "   line_extra = False\n",
       "   line_reionization = False\n",
       "   use_21cm_mK = True\n",
       " z_outputs = []\n",
       " scalar_initial_condition = initial_adiabatic\n",
       " InitialConditionVector = []\n",
       " OutputNormalization = 1\n",
       " Alens = 1.0\n",
       " MassiveNuMethod = Nu_best\n",
       " DoLateRadTruncation = True\n",
       " Evolve_baryon_cs = False\n",
       " Evolve_delta_xe = False\n",
       " Evolve_delta_Ts = False\n",
       " Do21cm = False\n",
       " transfer_21cm_cl = False\n",
       " Log_lvalues = False\n",
       " use_cl_spline_template = True\n",
       " SourceWindows = []\n",
       " CustomSources: <CustomSources>\n",
       "   num_custom_sources = 0\n",
       "   c_source_func = None\n",
       "   custom_source_ell_scales = []\n",
       " "
      ]
     },
     "execution_count": 16,
     "metadata": {},
     "output_type": "execute_result"
    }
   ],
   "source": [
    "pars = camb.CAMBparams()\n",
    "pars.set_cosmology(H0=67.5, ombh2=0.022, omch2=0.122, mnu=0.06, omk=0, tau=0.06)\n",
    "pars.InitPower.set_params(As=2e-9, ns=0.965, r=0)\n",
    "pars.set_for_lmax(2500, lens_potential_accuracy=0)\n"
   ]
  },
  {
   "cell_type": "code",
   "execution_count": 17,
   "metadata": {},
   "outputs": [
    {
     "data": {
      "image/png": "[encoded data removed]",
      "text/plain": [
       "<Figure size 432x288 with 1 Axes>"
      ]
     },
     "metadata": {
      "needs_background": "light"
     },
     "output_type": "display_data"
    }
   ],
   "source": [
    "for v in [(0.2,1),(0.22,1.5),(0.24,1.2)]:\n",
    "    pars.set_cosmology(H0=67.5,ombh2=v[0],Alens=v[1])\n",
    "    results = camb.get_results(pars)\n",
    "    plt.loglog(results.get_lens_potential_cls(lmax=1024)[:,0])\n"
   ]
  },
  {
   "cell_type": "code",
   "execution_count": 11,
   "metadata": {},
   "outputs": [
    {
     "data": {
      "text/plain": [
       "[<matplotlib.lines.Line2D at 0x15551e5f0040>]"
      ]
     },
     "execution_count": 11,
     "metadata": {},
     "output_type": "execute_result"
    },
    {
     "data": {
      "image/png": "[encoded data removed]",
      "text/plain": [
       "<Figure size 432x288 with 1 Axes>"
      ]
     },
     "metadata": {
      "needs_background": "light"
     },
     "output_type": "display_data"
    }
   ],
   "source": [
    "class Likelihood:\n",
    "\n",
    "    def __init__(self, lib_dir,rec_lib):\n",
    "        self.rec = rec_lib\n",
    "\n",
    "    \n",
    "    def theory_PP(self,alen):\n",
    "        return self.rec.cl_pp * alen * self.rec.Lfac\n",
    "    \n",
    "    def theory_PP_binned(self,alen):\n",
    "        return self.rec.bin_cell(self.theory_PP(alen))\n",
    "    \n",
    "    def data(self):\n",
    "        return self.rec.get_qcl_wR_stat(n=400,ret='cl',n1=True,rdn0=True)\n",
    "    \n",
    "    def data_mean_spectra(self):\n",
    "        return self.data().mean(axis=0)\n",
    "\n",
    "    def data_covariance(self):\n",
    "        return np.cov(self.data().T)\n",
    "\n",
    "    def chisq(self,alen):\n",
    "        theory = self.theory_PP_binned(alen)\n",
    "        data = self.data_mean_spectra()\n",
    "        cov = self.data_covariance()\n",
    "        vect = theory - data\n",
    "        return np.dot(vect, np.dot(np.linalg.inv(cov), vect.T))\n",
    "    \n",
    "    def lnlike(self,alen):\n",
    "        return -0.5 * self.chisq(alen) # type: ignore   \n",
    "     \n",
    "    def lnprior(self,alen):\n",
    "        if 0.5 < alen < 1.5:\n",
    "            return 0.0\n",
    "        return -np.inf\n",
    "    \n",
    "    def lnprob(self,alen):\n",
    "        lp = self.lnprior(alen)\n",
    "        if not np.isfinite(lp):\n",
    "            return -np.inf\n",
    "        return lp + self.lnlike(alen)\n",
    "\n",
    "    def MLE(self):\n",
    "        np.random.seed(42)\n",
    "        nll = lambda *args: -self.lnlike(*args)\n",
    "        initial = np.array([1]) + 0.1 * np.random.randn(1)\n",
    "        soln = minimize(nll, initial)\n",
    "        if soln.success:\n",
    "            return soln.x\n",
    "        else:\n",
    "            raise ValueError(soln.message)"
   ]
  },
  {
   "cell_type": "code",
   "execution_count": null,
   "metadata": {},
   "outputs": [],
   "source": []
  }
 ],
 "metadata": {
  "kernelspec": {
   "display_name": "Pylens",
   "language": "python",
   "name": "cmblens"
  },
  "language_info": {
   "codemirror_mode": {
    "name": "ipython",
    "version": 3
   },
   "file_extension": ".py",
   "mimetype": "text/x-python",
   "name": "python",
   "nbconvert_exporter": "python",
   "pygments_lexer": "ipython3",
   "version": "3.10.4"
  },
  "orig_nbformat": 4
 },
 "nbformat": 4,
 "nbformat_minor": 2
}
