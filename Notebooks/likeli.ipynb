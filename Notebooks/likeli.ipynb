{
 "cells": [
  {
   "cell_type": "code",
   "execution_count": 1,
   "metadata": {},
   "outputs": [],
   "source": [
    "import emcee\n",
    "import sys\n",
    "import numpy as np\n",
    "import matplotlib.pyplot as plt\n",
    "import corner\n",
    "from scipy.optimize import minimize"
   ]
  },
  {
   "cell_type": "code",
   "execution_count": 2,
   "metadata": {},
   "outputs": [],
   "source": [
    "sys.path.append('../')"
   ]
  },
  {
   "cell_type": "code",
   "execution_count": 3,
   "metadata": {},
   "outputs": [
    {
     "name": "stderr",
     "output_type": "stream",
     "text": [
      "\n",
      "WARNING: version mismatch between CFITSIO header (v4.000999999999999) and linked library (v4.01).\n",
      "\n",
      "\n",
      "WARNING: version mismatch between CFITSIO header (v4.000999999999999) and linked library (v4.01).\n",
      "\n",
      "\n",
      "WARNING: version mismatch between CFITSIO header (v4.000999999999999) and linked library (v4.01).\n",
      "\n"
     ]
    }
   ],
   "source": [
    "from quest import Reconstruction"
   ]
  },
  {
   "cell_type": "code",
   "execution_count": 14,
   "metadata": {},
   "outputs": [
    {
     "name": "stdout",
     "output_type": "stream",
     "text": [
      "DATABASE: loaded\n",
      "SIMUALATION object with  FG: Loaded\n",
      "FILTERING object with  FG: Loaded\n",
      "QUEST object with  FG: Loaded\n"
     ]
    }
   ],
   "source": [
    "myrec = Reconstruction.from_ini('LB_FG2.ini')"
   ]
  },
  {
   "cell_type": "code",
   "execution_count": 15,
   "metadata": {},
   "outputs": [],
   "source": [
    "class Likelihood:\n",
    "\n",
    "    def __init__(self, rec_lib):\n",
    "        self.rec = rec_lib\n",
    "    \n",
    "    @classmethod\n",
    "    def from_ini(cls, ini_file):\n",
    "        rec = Reconstruction.from_ini(ini_file)\n",
    "        return cls(rec)\n",
    "    \n",
    "    def get_theory(self,alen):\n",
    "        return self.rec.cl_pp * alen * self.rec.Lfac\n",
    "    \n",
    "    def get_theory_binned(self,alen):\n",
    "        return self.rec.bin_cell(self.get_theory(alen))\n",
    "    \n",
    "    def get_data(self):\n",
    "        return self.rec.get_qcl_wR_stat(n=400,ret='cl',n1=True,rdn0=True)\n",
    "    \n",
    "    def get_mean_spectra(self):\n",
    "        return self.get_data().mean(axis=0)\n",
    "\n",
    "    def get_covariance(self):\n",
    "        return np.cov(self.get_data().T)\n",
    "\n",
    "    def get_chisq(self,alen):\n",
    "        theory = self.get_theory_binned(alen)\n",
    "        data = self.get_mean_spectra()\n",
    "        cov = self.get_covariance()\n",
    "        vect = theory - data\n",
    "        return np.dot(vect, np.dot(np.linalg.inv(cov), vect.T))\n",
    "    \n",
    "    def lnlike(self,alen):\n",
    "        return -0.5 * self.get_chisq(alen)\n",
    "    \n",
    "    def lnprior(self,alen):\n",
    "        if 0.5 < alen < 1.5:\n",
    "            return 0.0\n",
    "        return -np.inf\n",
    "    \n",
    "    def lnprob(self,alen):\n",
    "        lp = self.lnprior(alen)\n",
    "        if not np.isfinite(lp):\n",
    "            return -np.inf\n",
    "        return lp + self.lnlike(alen)\n",
    "\n",
    "    def MLE(self):\n",
    "        nll = lambda *args: -self.lnlike(*args)\n",
    "        initial = np.array([1]) + 0.1 * np.random.randn(1)\n",
    "        soln = minimize(nll, initial)\n",
    "        if soln.success:\n",
    "            return soln.x\n",
    "        else:\n",
    "            raise ValueError(soln.message)\n",
    "\n",
    "    def sampler(self, nwalkers=32, nburn=100, nsteps=1000):\n",
    "        mle = np.array([1.01136254])\n",
    "        ndim = 1\n",
    "        pos = [mle + 1e-4 * np.random.randn(ndim) for i in range(nwalkers)]\n",
    "        sampler = emcee.EnsembleSampler(nwalkers, ndim, self.lnprob)\n",
    "        sampler.run_mcmc(pos, nsteps,progress=True)\n",
    "        samples = sampler.get_chain(discard=100, thin=15, flat=True)\n",
    "        \n",
    "        return samples\n",
    "\n",
    "\n"
   ]
  },
  {
   "cell_type": "code",
   "execution_count": 16,
   "metadata": {},
   "outputs": [],
   "source": [
    "mylik = Likelihood(myrec)"
   ]
  },
  {
   "cell_type": "code",
   "execution_count": 17,
   "metadata": {},
   "outputs": [
    {
     "data": {
      "text/plain": [
       "array([1.01384752])"
      ]
     },
     "execution_count": 17,
     "metadata": {},
     "output_type": "execute_result"
    }
   ],
   "source": [
    "mylik.MLE()"
   ]
  },
  {
   "cell_type": "code",
   "execution_count": 18,
   "metadata": {},
   "outputs": [
    {
     "name": "stderr",
     "output_type": "stream",
     "text": [
      "100%|██████████| 1000/1000 [02:08<00:00,  7.77it/s]\n"
     ]
    }
   ],
   "source": [
    "s = mylik.sampler()"
   ]
  },
  {
   "cell_type": "code",
   "execution_count": 19,
   "metadata": {},
   "outputs": [
    {
     "data": {
      "image/png": "[encoded data removed]",
      "text/plain": [
       "<Figure size 244.8x244.8 with 1 Axes>"
      ]
     },
     "metadata": {
      "needs_background": "light"
     },
     "output_type": "display_data"
    }
   ],
   "source": [
    "fig = corner.corner(s, labels=['Alens'], truths=[1])\n"
   ]
  },
  {
   "cell_type": "code",
   "execution_count": 10,
   "metadata": {},
   "outputs": [],
   "source": [
    "from IPython.display import display, Math"
   ]
  },
  {
   "cell_type": "code",
   "execution_count": 13,
   "metadata": {},
   "outputs": [
    {
     "data": {
      "text/latex": [
       "$\\displaystyle \\mathrm{Alens} = 1.011_{-0.022}^{0.020}$"
      ],
      "text/plain": [
       "<IPython.core.display.Math object>"
      ]
     },
     "metadata": {},
     "output_type": "display_data"
    }
   ],
   "source": [
    "labels = ['Alens']\n",
    "for i in range(1):\n",
    "    mcmc = np.percentile(s[:, i], [16, 50, 84])\n",
    "    q = np.diff(mcmc)\n",
    "    txt = \"\\mathrm{{{3}}} = {0:.3f}_{{-{1:.3f}}}^{{{2:.3f}}}\"\n",
    "    txt = txt.format(mcmc[1], q[0], q[1], labels[i])\n",
    "    display(Math(txt))"
   ]
  },
  {
   "cell_type": "code",
   "execution_count": null,
   "metadata": {},
   "outputs": [],
   "source": []
  }
 ],
 "metadata": {
  "kernelspec": {
   "display_name": "Pylens",
   "language": "python",
   "name": "cmblens"
  },
  "language_info": {
   "codemirror_mode": {
    "name": "ipython",
    "version": 3
   },
   "file_extension": ".py",
   "mimetype": "text/x-python",
   "name": "python",
   "nbconvert_exporter": "python",
   "pygments_lexer": "ipython3",
   "version": "3.10.4"
  },
  "orig_nbformat": 4
 },
 "nbformat": 4,
 "nbformat_minor": 2
}
