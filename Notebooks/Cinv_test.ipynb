{
 "cells": [
  {
   "cell_type": "code",
   "execution_count": 1,
   "id": "c718c492-d8fe-45ef-a2c9-6b5fcc77c0ad",
   "metadata": {},
   "outputs": [
    {
     "name": "stderr",
     "output_type": "stream",
     "text": [
      "\n",
      "WARNING: version mismatch between CFITSIO header (v4.000999999999999) and linked library (v4.01).\n",
      "\n",
      "\n",
      "WARNING: version mismatch between CFITSIO header (v4.000999999999999) and linked library (v4.01).\n",
      "\n",
      "\n",
      "WARNING: version mismatch between CFITSIO header (v4.000999999999999) and linked library (v4.01).\n",
      "\n"
     ]
    }
   ],
   "source": [
    "import os\n",
    "import sys\n",
    "sys.path.append('../')\n",
    "import curvedsky as cs\n",
    "import healpy as hp\n",
    "import matplotlib.pyplot as plt\n",
    "from utils import camb_clfile,cli\n",
    "import numpy as np\n",
    "import cmb"
   ]
  },
  {
   "cell_type": "code",
   "execution_count": null,
   "id": "668e48a8-b81e-4077-a025-07c325c5d4c8",
   "metadata": {},
   "outputs": [],
   "source": [
    "infolder = '/project/projectdirs/litebird/simulations/maps/lensing_project_paper/S4BIRD/CMB_Lensed_Maps/CMB/'\n",
    "dnside = 512\n",
    "lmax = 3*dnside -1\n",
    "maskpath = '/project/projectdirs/litebird/simulations/maps/lensing_project_paper/Masks/LB_Nside2048_fsky_0p8_binary.fits'\n",
    "fwhm = 30\n",
    "cl_lenf = '/global/cscratch1/sd/lonappan/S4BIRD/CAMB/BBSims_lensed_dls.dat'\n",
    "cl_len = cmb.read_camb_cls(cl_lenf,ftype='lens',output='array')[:,:lmax+1]"
   ]
  },
  {
   "cell_type": "code",
   "execution_count": null,
   "id": "18384776-bd84-45f5-ac9a-f451f67134f8",
   "metadata": {},
   "outputs": [],
   "source": [
    "mask = hp.ud_grade(hp.read_map(maskpath),dnside)"
   ]
  },
  {
   "cell_type": "code",
   "execution_count": 23,
   "id": "570eb451-c293-4e7e-a1b1-a05bdfe7dd6c",
   "metadata": {},
   "outputs": [],
   "source": [
    "def get_cmb(idx):\n",
    "    fname = os.path.join(infolder,f\"cmb_sims_{idx:04d}.fits\")\n",
    "    return hp.ud_grade(hp.read_map(fname,(0,1,2)),dnside)\n",
    "\n",
    "def get_noise_spectra(depth_i,depth_p):\n",
    "    t = np.ones(lmax+1)*(np.radians(depth_i/60)**2)\n",
    "    e = np.ones(lmax+1)*(np.radians(depth_p/60)**2)\n",
    "    b = np.ones(lmax+1)*(np.radians(depth_p/60)**2)\n",
    "    return t,e,b\n",
    "\n",
    "def get_noise_alm(depth_i,depth_p):\n",
    "    t,e,b = get_noise_spectra(depth_i,depth_p)\n",
    "    t = hp.synalm(t,lmax=lmax)\n",
    "    e = hp.synalm(e,lmax=lmax)\n",
    "    b = hp.synalm(b,lmax=lmax)\n",
    "    return t,e,b\n",
    "\n",
    "def get_noise_map(depth_i,depth_p):\n",
    "    t,e,b = get_noise_spectra(depth_i,depth_p)\n",
    "    return hp.alm2map([t,e,b],nside=dnside)\n",
    "\n"
   ]
  },
  {
   "cell_type": "code",
   "execution_count": null,
   "id": "7b8704c6-4460-48e9-b4f8-975b245c0274",
   "metadata": {},
   "outputs": [],
   "source": [
    "sigma = 2.16\n",
    "Tcmb  = 2.726e6\n",
    "beam = hp.gauss_beam(np.radians(fwhm/30),lmax=lmax)\n",
    "Bl = np.reshape(beam,(1,lmax+1))\n",
    "invn = mask * (np.radians(sigma/60)/Tcmb)**-2\n",
    "invN = np.reshape(np.array((invn,invn)),(2,1,hp.nside2npix(dnside)))"
   ]
  },
  {
   "cell_type": "code",
   "execution_count": 6,
   "id": "c05bba4a-45ed-4d74-aa80-afff98898eee",
   "metadata": {},
   "outputs": [],
   "source": [
    "T,Q,U = (hp.smoothing(get_cmb(0),fwhm=np.radians(fwhm/60)) + get_noise_map(1.5,sigma))*mask"
   ]
  },
  {
   "cell_type": "code",
   "execution_count": 7,
   "id": "1cf8d28f-371b-4899-93c8-639267861784",
   "metadata": {},
   "outputs": [],
   "source": [
    "tlm, elm, blm = hp.map2alm([T,Q,U])"
   ]
  },
  {
   "cell_type": "code",
   "execution_count": 8,
   "id": "d783efd5-7994-494c-8537-05a3e537e0e6",
   "metadata": {},
   "outputs": [
    {
     "data": {
      "text/plain": [
       "<matplotlib.lines.Line2D at 0x155515157640>"
      ]
     },
     "execution_count": 8,
     "metadata": {},
     "output_type": "execute_result"
    },
    {
     "data": {
      "image/png": "[encoded data removed]",
      "text/plain": [
       "<Figure size 432x288 with 1 Axes>"
      ]
     },
     "metadata": {
      "needs_background": "light"
     },
     "output_type": "display_data"
    }
   ],
   "source": [
    "plt.loglog(hp.alm2cl(blm)/.8)\n",
    "plt.axhline(np.radians(sigma/60)**2)"
   ]
  },
  {
   "cell_type": "code",
   "execution_count": 9,
   "id": "dca3dfc8-3a99-4c83-9ba0-c9c69974f028",
   "metadata": {},
   "outputs": [],
   "source": [
    "QU1 = np.reshape(np.array((Q,U)),(2,1,hp.nside2npix(dnside)))/Tcmb"
   ]
  },
  {
   "cell_type": "code",
   "execution_count": 10,
   "id": "c33fe0a8-c8cd-46da-98fd-e31ef8470634",
   "metadata": {},
   "outputs": [],
   "source": [
    "E1,B1 =cs.cninv.cnfilter_freq(2,1,dnside,lmax,cl_len[1:3,:],Bl,invN,QU1,chn=1,itns=[1000],eps=[1e-5],ro=10,stat='status.txt')"
   ]
  },
  {
   "cell_type": "code",
   "execution_count": 24,
   "id": "e14c992c-2619-4674-81fc-99ea28980d07",
   "metadata": {},
   "outputs": [],
   "source": [
    "nt,ne,nb = get_noise_spectra(1.5,2.16)\n",
    "NL = np.reshape(np.array((cli(ne[:lmax+1]/Tcmb**2),cli(nb[:lmax+1]/Tcmb**2))),(2,1,lmax+1))\n",
    "E2,B2 = cs.cninv.cnfilter_freq(2,1,dnside,lmax,cl_len[1:3,:],\n",
    "                Bl,np.reshape(np.array((mask,mask)),(2,1,hp.nside2npix(dnside))),QU1,chn=1,itns=[1000],eps=[1e-5],ro=10,inl=NL,stat='statues.txt')"
   ]
  },
  {
   "cell_type": "code",
   "execution_count": 25,
   "id": "88006938-08b3-4002-8633-b1c40a1474ba",
   "metadata": {},
   "outputs": [
    {
     "name": "stderr",
     "output_type": "stream",
     "text": [
      "/tmp/ipykernel_29032/3285455856.py:1: RuntimeWarning: divide by zero encountered in true_divide\n",
      "  plt.loglog(1/cl_len[2,:])\n"
     ]
    },
    {
     "data": {
      "text/plain": [
       "(1000000000, 2.3380833647926993e+22)"
      ]
     },
     "execution_count": 25,
     "metadata": {},
     "output_type": "execute_result"
    },
    {
     "data": {
      "image/png": "[encoded data removed]",
      "text/plain": [
       "<Figure size 432x288 with 1 Axes>"
      ]
     },
     "metadata": {
      "needs_background": "light"
     },
     "output_type": "display_data"
    }
   ],
   "source": [
    "plt.loglog(1/cl_len[2,:])\n",
    "plt.loglog(cs.utils.alm2cl(lmax,B1),label='invN')\n",
    "plt.loglog(cs.utils.alm2cl(lmax,B2),label='mask')\n",
    "plt.legend()\n",
    "plt.ylim(10**9,None)"
   ]
  },
  {
   "cell_type": "code",
   "execution_count": null,
   "id": "8282fed5-afa5-4bf1-971a-0355e3f7f872",
   "metadata": {},
   "outputs": [],
   "source": []
  }
 ],
 "metadata": {
  "kernelspec": {
   "display_name": "Pylens",
   "language": "python",
   "name": "cmblens"
  },
  "language_info": {
   "codemirror_mode": {
    "name": "ipython",
    "version": 3
   },
   "file_extension": ".py",
   "mimetype": "text/x-python",
   "name": "python",
   "nbconvert_exporter": "python",
   "pygments_lexer": "ipython3",
   "version": "3.10.4"
  }
 },
 "nbformat": 4,
 "nbformat_minor": 5
}
