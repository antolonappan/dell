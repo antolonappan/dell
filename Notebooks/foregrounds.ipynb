{
 "cells": [
  {
   "cell_type": "code",
   "execution_count": 1,
   "metadata": {},
   "outputs": [
    {
     "name": "stderr",
     "output_type": "stream",
     "text": [
      "\n",
      "WARNING: version mismatch between CFITSIO header (v4.000999999999999) and linked library (v4.01).\n",
      "\n",
      "\n",
      "WARNING: version mismatch between CFITSIO header (v4.000999999999999) and linked library (v4.01).\n",
      "\n",
      "\n",
      "WARNING: version mismatch between CFITSIO header (v4.000999999999999) and linked library (v4.01).\n",
      "\n"
     ]
    }
   ],
   "source": [
    "import numpy as np\n",
    "import matplotlib.pyplot as plt\n",
    "import sys\n",
    "import healpy as hp\n",
    "sys.path.append('../')\n",
    "import os"
   ]
  },
  {
   "cell_type": "code",
   "execution_count": 2,
   "metadata": {},
   "outputs": [],
   "source": [
    "%load_ext autoreload\n",
    "%autoreload 2\n",
    "from simulation import ForeGround\n",
    "from simulation import SimExperimentFG"
   ]
  },
  {
   "cell_type": "code",
   "execution_count": 3,
   "metadata": {},
   "outputs": [
    {
     "name": "stdout",
     "output_type": "stream",
     "text": [
      "DATABASE: loaded\n",
      "Foregrounds: s0d0\n"
     ]
    },
    {
     "name": "stderr",
     "output_type": "stream",
     "text": [
      "Creating Foregrounds: 100%|██████████| 15/15 [00:00<00:00, 741.35freq/s]"
     ]
    },
    {
     "name": "stdout",
     "output_type": "stream",
     "text": [
      "/global/cscratch1/sd/lonappan/S4BIRD/FG/s0d0_40.fits already exists\n",
      "/global/cscratch1/sd/lonappan/S4BIRD/FG/s0d0_50.fits already exists\n",
      "/global/cscratch1/sd/lonappan/S4BIRD/FG/s0d0_60.fits already exists\n",
      "/global/cscratch1/sd/lonappan/S4BIRD/FG/s0d0_68.fits already exists\n",
      "/global/cscratch1/sd/lonappan/S4BIRD/FG/s0d0_78.fits already exists\n",
      "/global/cscratch1/sd/lonappan/S4BIRD/FG/s0d0_89.fits already exists\n",
      "/global/cscratch1/sd/lonappan/S4BIRD/FG/s0d0_100.fits already exists\n",
      "/global/cscratch1/sd/lonappan/S4BIRD/FG/s0d0_119.fits already exists\n",
      "/global/cscratch1/sd/lonappan/S4BIRD/FG/s0d0_140.fits already exists\n",
      "/global/cscratch1/sd/lonappan/S4BIRD/FG/s0d0_166.fits already exists\n",
      "/global/cscratch1/sd/lonappan/S4BIRD/FG/s0d0_195.fits already exists\n",
      "/global/cscratch1/sd/lonappan/S4BIRD/FG/s0d0_235.fits already exists\n",
      "/global/cscratch1/sd/lonappan/S4BIRD/FG/s0d0_280.fits already exists\n",
      "/global/cscratch1/sd/lonappan/S4BIRD/FG/s0d0_337.fits already exists\n",
      "/global/cscratch1/sd/lonappan/S4BIRD/FG/s0d0_402.fits already exists\n"
     ]
    },
    {
     "name": "stderr",
     "output_type": "stream",
     "text": [
      "\n"
     ]
    }
   ],
   "source": [
    "ForeGround(fg_str='s0d0').make"
   ]
  },
  {
   "cell_type": "code",
   "execution_count": 4,
   "metadata": {},
   "outputs": [
    {
     "name": "stdout",
     "output_type": "stream",
     "text": [
      "DATABASE: loaded\n",
      "Foregrounds: s0d0\n"
     ]
    },
    {
     "name": "stderr",
     "output_type": "stream",
     "text": [
      "OMP: Info #276: omp_set_nested routine deprecated, please use omp_set_max_active_levels instead.\n"
     ]
    },
    {
     "name": "stdout",
     "output_type": "stream",
     "text": [
      "Frequency 40.0GHz is consistent\n",
      "Frequency 50.0GHz is consistent\n",
      "Frequency 60.0GHz is consistent\n",
      "Frequency 68.0GHz is consistent\n",
      "Frequency 78.0GHz is consistent\n",
      "Frequency 89.0GHz is consistent\n",
      "Frequency 100.0GHz is consistent\n",
      "Frequency 119.0GHz is consistent\n",
      "Frequency 140.0GHz is consistent\n",
      "Frequency 166.0GHz is consistent\n",
      "Frequency 195.0GHz is consistent\n",
      "Frequency 235.0GHz is consistent\n",
      "Frequency 280.0GHz is consistent\n",
      "Frequency 337.0GHz is consistent\n",
      "Frequency 402.0GHz is consistent\n"
     ]
    }
   ],
   "source": [
    "ForeGround(fg_str='s0d0').test"
   ]
  },
  {
   "cell_type": "code",
   "execution_count": null,
   "metadata": {},
   "outputs": [],
   "source": []
  }
 ],
 "metadata": {
  "kernelspec": {
   "display_name": "cmblens",
   "language": "python",
   "name": "python3"
  },
  "language_info": {
   "codemirror_mode": {
    "name": "ipython",
    "version": 3
   },
   "file_extension": ".py",
   "mimetype": "text/x-python",
   "name": "python",
   "nbconvert_exporter": "python",
   "pygments_lexer": "ipython3",
   "version": "3.10.4"
  },
  "vscode": {
   "interpreter": {
    "hash": "9de6fac3a23c689363126ecf4ed37844b69859833cb573f66bdfd1e51756a90d"
   }
  }
 },
 "nbformat": 4,
 "nbformat_minor": 4
}
