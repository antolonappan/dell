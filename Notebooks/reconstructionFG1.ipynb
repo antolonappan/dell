{
 "cells": [
  {
   "cell_type": "code",
   "execution_count": 2,
   "id": "223b0840-bdfb-455d-90e2-b7613675f488",
   "metadata": {},
   "outputs": [],
   "source": [
    "import sys\n",
    "sys.path.append('../')\n",
    "import matplotlib.pyplot as plt\n",
    "from utils import camb_clfile\n",
    "import numpy as np\n",
    "import healpy as hp\n",
    "import curvedsky as cs"
   ]
  },
  {
   "cell_type": "code",
   "execution_count": 3,
   "id": "04a73ac0-b2ef-4644-a0e8-c09024d77d9a",
   "metadata": {},
   "outputs": [],
   "source": [
    "cl_unl = camb_clfile(\"/global/cscratch1/sd/lonappan/S4BIRD/CAMB/BBSims_lenspotential.dat\")"
   ]
  },
  {
   "cell_type": "code",
   "execution_count": 4,
   "id": "2f3a9d11-d094-4f4f-aa17-31678884d6d5",
   "metadata": {},
   "outputs": [],
   "source": [
    "%load_ext autoreload\n",
    "%autoreload 2\n",
    "import quest "
   ]
  },
  {
   "cell_type": "code",
   "execution_count": 5,
   "id": "7bc7e3c8-d687-4087-95b4-d733b1719732",
   "metadata": {},
   "outputs": [
    {
     "name": "stdout",
     "output_type": "stream",
     "text": [
      "An extra Mask is applied to data. Previous fsky is 0.80 and new fsky = 0.70\n"
     ]
    }
   ],
   "source": [
    "clpp = quest.RecoBase.from_ini('../litebirdFG1.ini')"
   ]
  },
  {
   "cell_type": "code",
   "execution_count": 6,
   "id": "d32a8b0c-e89b-49e9-9938-8abc7d5e0312",
   "metadata": {},
   "outputs": [
    {
     "name": "stdout",
     "output_type": "stream",
     "text": [
      "Maps with FG\n"
     ]
    },
    {
     "data": {
      "text/plain": [
       "(array([[ 0.00000000e+00+0.00000000e+00j,  0.00000000e+00+0.00000000e+00j,\n",
       "          0.00000000e+00+0.00000000e+00j, ...,\n",
       "          0.00000000e+00+0.00000000e+00j,  0.00000000e+00+0.00000000e+00j,\n",
       "          0.00000000e+00+0.00000000e+00j],\n",
       "        [ 0.00000000e+00+0.00000000e+00j,  0.00000000e+00+0.00000000e+00j,\n",
       "          0.00000000e+00+0.00000000e+00j, ...,\n",
       "          0.00000000e+00+0.00000000e+00j,  0.00000000e+00+0.00000000e+00j,\n",
       "          0.00000000e+00+0.00000000e+00j],\n",
       "        [ 2.05647302e+07+0.00000000e+00j,  5.27512296e+05+1.05753557e+06j,\n",
       "          1.21082770e+06-1.82736482e+05j, ...,\n",
       "          0.00000000e+00+0.00000000e+00j,  0.00000000e+00+0.00000000e+00j,\n",
       "          0.00000000e+00+0.00000000e+00j],\n",
       "        ...,\n",
       "        [ 1.37736212e+07-1.59326404e-08j, -1.12818799e+06-1.35661922e+06j,\n",
       "          1.07623537e+07-1.28888095e+05j, ...,\n",
       "          6.22594776e-02-1.46529412e-01j,  0.00000000e+00+0.00000000e+00j,\n",
       "          0.00000000e+00+0.00000000e+00j],\n",
       "        [-8.60194846e+06+3.57451224e-09j, -1.13186977e+05+1.51972360e+05j,\n",
       "         -7.06438528e+06+9.91359082e+06j, ...,\n",
       "          4.46520630e-01-1.01020701e+00j, -8.38006245e-02-1.22517580e-01j,\n",
       "          0.00000000e+00+0.00000000e+00j],\n",
       "        [ 1.06272618e+07-1.25645263e-08j,  5.24641717e+06-1.70993832e+06j,\n",
       "          4.04287913e+06-1.37673475e+06j, ...,\n",
       "          2.22302337e+00-4.82770079e+00j, -5.75593524e-01-8.51351329e-01j,\n",
       "         -1.38098429e-01+5.37815431e-03j]]),\n",
       " array([[ 0.00000000e+00+0.00000000e+00j,  0.00000000e+00+0.00000000e+00j,\n",
       "          0.00000000e+00+0.00000000e+00j, ...,\n",
       "          0.00000000e+00+0.00000000e+00j,  0.00000000e+00+0.00000000e+00j,\n",
       "          0.00000000e+00+0.00000000e+00j],\n",
       "        [ 0.00000000e+00+0.00000000e+00j,  0.00000000e+00+0.00000000e+00j,\n",
       "          0.00000000e+00+0.00000000e+00j, ...,\n",
       "          0.00000000e+00+0.00000000e+00j,  0.00000000e+00+0.00000000e+00j,\n",
       "          0.00000000e+00+0.00000000e+00j],\n",
       "        [-3.08338980e+08+0.00000000e+00j, -8.75535529e+07+6.46599096e+06j,\n",
       "          1.61115287e+07+6.74571346e+07j, ...,\n",
       "          0.00000000e+00+0.00000000e+00j,  0.00000000e+00+0.00000000e+00j,\n",
       "          0.00000000e+00+0.00000000e+00j],\n",
       "        ...,\n",
       "        [ 1.04910767e+07-2.27177790e-08j, -1.13362278e+07-1.06427247e+07j,\n",
       "          5.44618346e+06+1.32797822e+07j, ...,\n",
       "          2.04941695e-01-1.91743262e-01j,  0.00000000e+00+0.00000000e+00j,\n",
       "          0.00000000e+00+0.00000000e+00j],\n",
       "        [ 1.98004715e+07+1.96583633e-08j,  5.46593875e+06+6.13221608e+06j,\n",
       "         -1.39434712e+06-9.93988062e+05j, ...,\n",
       "          1.43317009e+00-1.36057284e+00j, -6.40286405e-02-2.45707044e-01j,\n",
       "          0.00000000e+00+0.00000000e+00j],\n",
       "        [-2.78529880e+06-2.22199615e-08j, -2.65592623e+06-2.19054466e+06j,\n",
       "         -7.66423186e+06+2.11062475e+06j, ...,\n",
       "          6.95377280e+00-6.70483400e+00j, -4.67622854e-01-1.72694804e+00j,\n",
       "         -2.23256688e-01-5.74159524e-02j]]))"
      ]
     },
     "execution_count": 6,
     "metadata": {},
     "output_type": "execute_result"
    }
   ],
   "source": [
    "e,b clpp.get_falm_sim(0)"
   ]
  },
  {
   "cell_type": "code",
   "execution_count": null,
   "id": "d0eabdc7-d4bf-45d3-ad2f-de5fc935e44c",
   "metadata": {},
   "outputs": [],
   "source": [
    "plt.loglog(clpp.Lfac*clpp.cl_unl['pp'][:clpp.Lmax+1])\n",
    "plt.loglog(clpp.Lfac*clpp.mean_field_cl())"
   ]
  },
  {
   "cell_type": "code",
   "execution_count": 13,
   "id": "79a9bcd3-d2a0-4df3-aa69-cf60a176e9c9",
   "metadata": {},
   "outputs": [
    {
     "data": {
      "text/plain": [
       "[<matplotlib.lines.Line2D at 0x155510151cf0>]"
      ]
     },
     "execution_count": 13,
     "metadata": {},
     "output_type": "execute_result"
    },
    {
     "data": {
      "image/png": "[encoded data removed]",
      "text/plain": [
       "<Figure size 432x288 with 1 Axes>"
      ]
     },
     "metadata": {
      "needs_background": "light"
     },
     "output_type": "display_data"
    }
   ],
   "source": [
    "plt.loglog(clpp.Lfac*clpp.cl_unl['pp'][:clpp.Lmax+1])\n",
    "plt.loglog(clpp.Lfac*clpp.get_qcl_sim(0))"
   ]
  },
  {
   "cell_type": "code",
   "execution_count": 7,
   "id": "c1cf72ae-f500-4ea6-a06a-cb2fa45e06ca",
   "metadata": {},
   "outputs": [],
   "source": [
    "#plt.loglog(clpp2.L, clpp2.Lfac*(clpp2.cl_unl['pp'][:clpp2.Lmax+1]))\n",
    "#plt.errorbar(clpp2.B, clpp2.Bfac*(st2.mean(axis=0)),yerr=clpp2.Bfac*st2.std(axis=0),fmt='o')"
   ]
  },
  {
   "cell_type": "code",
   "execution_count": 8,
   "id": "d6bf0480-bf0d-4304-b945-21f1dea0cfd7",
   "metadata": {},
   "outputs": [],
   "source": [
    "# clpp2.SNR_phi(100)"
   ]
  },
  {
   "cell_type": "code",
   "execution_count": 9,
   "id": "23b36d80-b1d2-4f79-8e31-dcdf3b12a035",
   "metadata": {},
   "outputs": [],
   "source": [
    "# plt.loglog(clpp2.L,clpp2.Lfac*clpp2.mean_field_cl(),label='W FG')\n",
    "# plt.loglog(clpp2.L,clpp2.Lfac*clpp1.mean_field_cl(),label='WO FG')\n",
    "# plt.loglog(clpp2.L,clpp2.Lfac*clpp2.cl_unl['pp'][:clpp2.Lmax+1])\n",
    "# #plt.loglog(clpp2.L,clpp1.Lfac*clpp2.norm)\n",
    "# plt.legend()"
   ]
  },
  {
   "cell_type": "code",
   "execution_count": 20,
   "id": "9047b9bd-6fee-4123-923e-dcdc220cadd7",
   "metadata": {},
   "outputs": [
    {
     "name": "stdout",
     "output_type": "stream",
     "text": [
      "Maps with FG\n"
     ]
    }
   ],
   "source": [
    "qu1 = clpp1.get_falm_sim(1)\n",
    "qu2 = clpp2.get_falm_sim(1)"
   ]
  },
  {
   "cell_type": "code",
   "execution_count": 21,
   "id": "6283234b-0f1a-4659-bf7a-a5043a7fd1d6",
   "metadata": {},
   "outputs": [
    {
     "name": "stderr",
     "output_type": "stream",
     "text": [
      "/tmp/ipykernel_38397/3124202591.py:6: RuntimeWarning: divide by zero encountered in true_divide\n",
      "  plt.loglog(1/clpp1.cl_len[2,:][:clpp1.Lmax+1],label='1/EE')\n"
     ]
    },
    {
     "data": {
      "text/plain": [
       "(5, 600)"
      ]
     },
     "execution_count": 21,
     "metadata": {},
     "output_type": "execute_result"
    },
    {
     "data": {
      "image/png": "[encoded data removed]",
      "text/plain": [
       "<Figure size 432x288 with 1 Axes>"
      ]
     },
     "metadata": {
      "needs_background": "light"
     },
     "output_type": "display_data"
    }
   ],
   "source": [
    "fg = cs.utils.alm2cl(clpp2.Lmax,qu1[1])/clpp2.fsky\n",
    "nofg = cs.utils.alm2cl(clpp1.Lmax,qu2[1])/clpp1.fsky\n",
    "\n",
    "plt.loglog(fg,label='cinv E without FG')\n",
    "plt.loglog(nofg,label='cinv E with FG')\n",
    "plt.loglog(1/clpp1.cl_len[2,:][:clpp1.Lmax+1],label='1/EE')\n",
    "plt.legend()\n",
    "plt.ylim(10**18,10**19)\n",
    "plt.xlim(5,600)"
   ]
  },
  {
   "cell_type": "code",
   "execution_count": 22,
   "id": "20618271-e289-4d46-b7c5-cf484d844ae5",
   "metadata": {},
   "outputs": [
    {
     "name": "stderr",
     "output_type": "stream",
     "text": [
      "/tmp/ipykernel_38397/49375302.py:1: RuntimeWarning: invalid value encountered in true_divide\n",
      "  plt.plot(fg/nofg,label='w FG/wo FG')\n"
     ]
    },
    {
     "data": {
      "text/plain": [
       "(50.0, 800.0)"
      ]
     },
     "execution_count": 22,
     "metadata": {},
     "output_type": "execute_result"
    },
    {
     "data": {
      "image/png": "[encoded data removed]",
      "text/plain": [
       "<Figure size 432x288 with 1 Axes>"
      ]
     },
     "metadata": {
      "needs_background": "light"
     },
     "output_type": "display_data"
    }
   ],
   "source": [
    "plt.plot(fg/nofg,label='w FG/wo FG')\n",
    "plt.legend()\n",
    "plt.ylim(0.5,1.5)\n",
    "plt.xlim(50,800)"
   ]
  },
  {
   "cell_type": "code",
   "execution_count": 72,
   "id": "03b1ec7f-89b1-44a9-931b-17c2b71d9fc4",
   "metadata": {},
   "outputs": [
    {
     "data": {
      "text/plain": [
       "0.7990690867106119"
      ]
     },
     "execution_count": 72,
     "metadata": {},
     "output_type": "execute_result"
    }
   ],
   "source": [
    "clpp1.fsky"
   ]
  },
  {
   "cell_type": "code",
   "execution_count": 24,
   "id": "c6206b84-ecf0-4f76-872a-2bd5d90f2f7d",
   "metadata": {},
   "outputs": [],
   "source": [
    "cmb = clpp1.get_cmb_sim(0)"
   ]
  },
  {
   "cell_type": "code",
   "execution_count": 25,
   "id": "d1b78384-47cd-429b-b646-14c134f0f8a7",
   "metadata": {},
   "outputs": [
    {
     "data": {
      "text/plain": [
       "(3, 525825)"
      ]
     },
     "execution_count": 25,
     "metadata": {},
     "output_type": "execute_result"
    }
   ],
   "source": [
    "cmb.shape"
   ]
  },
  {
   "cell_type": "code",
   "execution_count": 29,
   "id": "033aec18-85cc-4c5c-a345-c13cff0fb77a",
   "metadata": {},
   "outputs": [
    {
     "name": "stdout",
     "output_type": "stream",
     "text": [
      "Maps with FG\n"
     ]
    }
   ],
   "source": [
    "qu = clpp2.get_exp_sim(0)"
   ]
  },
  {
   "cell_type": "code",
   "execution_count": 34,
   "id": "3b92e1c8-09ca-4ec1-aaa2-fd2382ebcb80",
   "metadata": {},
   "outputs": [],
   "source": [
    "q = qu[0][0]\n",
    "u = qu[1][0]"
   ]
  },
  {
   "cell_type": "code",
   "execution_count": 35,
   "id": "0bb9384c-7c54-4cb4-b41d-4d1fd1931309",
   "metadata": {},
   "outputs": [],
   "source": [
    "fg_cmb = hp.map2alm([q*0,q,u],lmax=1024)"
   ]
  },
  {
   "cell_type": "code",
   "execution_count": 36,
   "id": "66346ea3-8768-4212-a5a3-f7d7fb34b8ac",
   "metadata": {},
   "outputs": [
    {
     "data": {
      "text/plain": [
       "(3, 525825)"
      ]
     },
     "execution_count": 36,
     "metadata": {},
     "output_type": "execute_result"
    }
   ],
   "source": [
    "fg_cmb.shape"
   ]
  },
  {
   "cell_type": "code",
   "execution_count": 46,
   "id": "95ed438d-139a-4f09-abb2-6b44a7f51ac7",
   "metadata": {},
   "outputs": [],
   "source": [
    "n = fg_cmb - cmb"
   ]
  },
  {
   "cell_type": "code",
   "execution_count": 47,
   "id": "3fa83a07-c2b0-4274-ae41-16ba1c5ce2ee",
   "metadata": {},
   "outputs": [
    {
     "data": {
      "text/plain": [
       "(3, 525825)"
      ]
     },
     "execution_count": 47,
     "metadata": {},
     "output_type": "execute_result"
    }
   ],
   "source": [
    "n.shape"
   ]
  },
  {
   "cell_type": "code",
   "execution_count": 60,
   "id": "e1fdbd29-32b9-48a3-a6e9-16ba831734b3",
   "metadata": {},
   "outputs": [
    {
     "data": {
      "text/plain": [
       "[<matplotlib.lines.Line2D at 0x1554c6ded960>]"
      ]
     },
     "execution_count": 60,
     "metadata": {},
     "output_type": "execute_result"
    },
    {
     "data": {
      "image/png": "[encoded data removed]",
      "text/plain": [
       "<Figure size 432x288 with 1 Axes>"
      ]
     },
     "metadata": {
      "needs_background": "light"
     },
     "output_type": "display_data"
    }
   ],
   "source": [
    "plt.loglog(hp.alm2cl(fg_cmb[1])-(hp.alm2cl(cmb[1])/clpp1.Tcmb**2))\n",
    "plt.axhline((np.radians(2.16/60)**2)/clpp1.Tcmb**2)\n",
    "plt.loglog(clpp1.cl_len[2,:])"
   ]
  },
  {
   "cell_type": "code",
   "execution_count": null,
   "id": "83c83ade-3a02-4533-8292-cf971cb2dfdc",
   "metadata": {},
   "outputs": [],
   "source": []
  }
 ],
 "metadata": {
  "kernelspec": {
   "display_name": "Pylens",
   "language": "python",
   "name": "cmblens"
  },
  "language_info": {
   "codemirror_mode": {
    "name": "ipython",
    "version": 3
   },
   "file_extension": ".py",
   "mimetype": "text/x-python",
   "name": "python",
   "nbconvert_exporter": "python",
   "pygments_lexer": "ipython3",
   "version": "3.10.4"
  }
 },
 "nbformat": 4,
 "nbformat_minor": 5
}
