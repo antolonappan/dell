{
 "cells": [
  {
   "cell_type": "code",
   "execution_count": 3,
   "id": "50659acb-a62f-4080-be7c-75f3de0e2522",
   "metadata": {
    "tags": []
   },
   "outputs": [],
   "source": [
    "import sys\n",
    "import pickle as pl\n",
    "import numpy as np\n",
    "import matplotlib.pyplot as plt\n",
    "import emcee\n",
    "import corner\n",
    "import pandas as pd\n",
    "import seaborn as sns\n",
    "from getdist import plots, MCSamples\n",
    "sys.path.append('../')"
   ]
  },
  {
   "cell_type": "code",
   "execution_count": 4,
   "id": "96510254-3159-460d-a231-4a80040f3639",
   "metadata": {
    "tags": []
   },
   "outputs": [],
   "source": [
    "%load_ext autoreload\n",
    "%autoreload 2\n",
    "from quest import Reconstruction"
   ]
  },
  {
   "cell_type": "code",
   "execution_count": 5,
   "id": "3f644861-f5d8-407c-99cd-8c25b39c8168",
   "metadata": {
    "tags": []
   },
   "outputs": [
    {
     "name": "stdout",
     "output_type": "stream",
     "text": [
      "DATABASE: loaded\n",
      "SIMUALATION object with out FG: Loaded\n",
      "FILTERING object with out FG: Loaded\n",
      "QUEST object with out FG: Loaded\n",
      "DATABASE: loaded\n",
      "SIMUALATION object with  FG: Loaded\n",
      "FILTERING object with  FG: Loaded\n",
      "QUEST object with  FG: Loaded\n",
      "DATABASE: loaded\n",
      "SIMUALATION object with  FG: Loaded\n",
      "FILTERING object with  FG: Loaded\n",
      "QUEST object with  FG: Loaded\n"
     ]
    }
   ],
   "source": [
    "rec1 = Reconstruction.from_ini('LB_FG0.ini')\n",
    "rec2 = Reconstruction.from_ini('LB_FG1.ini')\n",
    "rec3 = Reconstruction.from_ini('LB_FG2.ini')"
   ]
  },
  {
   "cell_type": "code",
   "execution_count": 6,
   "id": "8bc04c35-910c-4d98-80b4-530518a4a1db",
   "metadata": {
    "tags": []
   },
   "outputs": [],
   "source": [
    "class crazymix:\n",
    "    \n",
    "    def __init__(self,s1d1,other,idx=0):\n",
    "        self.s1d1 = s1d1\n",
    "        self.other = other\n",
    "        self.idx = idx\n",
    "        self.B = self.s1d1.B\n",
    "        self.fiducial = self.other.bin_cell(self.other.cl_pp*self.other.Lfac)\n",
    "        self.icov = self.icov_()\n",
    "        self.spectra = self.get_spectra()\n",
    "        \n",
    "    def get_data(self):\n",
    "        return self.s1d1.get_phi_cl(self.idx)\n",
    "    \n",
    "    def get_spectra(self):\n",
    "        \n",
    "        cl = (self.get_data() - \n",
    "              self.other.N1 - \n",
    "              self.other.RDN0(self.idx))/self.other.response_mean()**2\n",
    "    \n",
    "        correction = ((self.other.RDN0(self.idx)/self.other.response_mean()**2)+self.other.cl_pp)/100\n",
    "        \n",
    "        return self.other.bin_cell((cl-correction)*self.s1d1.Lfac)\n",
    "    \n",
    "    def icov_(self):\n",
    "        return np.linalg.inv(np.cov(self.other.get_qcl_wR_stat().T))\n",
    "    \n",
    "    def chi_sq(self,alens):\n",
    "        dcl = self.spectra - (alens*self.fiducial)\n",
    "        return np.dot(dcl,np.dot(self.icov,dcl))\n",
    "    \n",
    "    \n",
    "    def log_prior(self,theta):\n",
    "        if 0.5 < theta < 1.5:\n",
    "            return 0.0\n",
    "        return -np.inf\n",
    "\n",
    "    def log_likelihood(self,theta,):\n",
    "        return -0.5 * self.chi_sq(theta)\n",
    "\n",
    "    def log_probability(self,theta):\n",
    "        lp = self.log_prior(theta)\n",
    "        if not np.isfinite(lp):\n",
    "            return -np.inf\n",
    "        return lp + self.log_likelihood(theta)\n",
    "    \n",
    "    def get_samples(self):\n",
    "        pos = [1] + 1e-1 * np.random.randn(64, 1)\n",
    "        nwalkers,ndim = pos.shape\n",
    "        sampler = emcee.EnsembleSampler(nwalkers,ndim,self.log_probability)\n",
    "        sampler.run_mcmc(pos, 4000, progress=True)\n",
    "        flat_samples = sampler.get_chain(discard=100, thin=15, flat=True)\n",
    "        return flat_samples\n",
    "        "
   ]
  },
  {
   "cell_type": "code",
   "execution_count": 22,
   "id": "e6977850-422c-43cf-8c68-01c8303504dc",
   "metadata": {
    "tags": []
   },
   "outputs": [
    {
     "name": "stderr",
     "output_type": "stream",
     "text": [
      "/pscratch/sd/l/lonappan/software_pkgs/cmblens/lib/python3.7/site-packages/ipykernel_launcher.py:19: RuntimeWarning: invalid value encountered in true_divide\n",
      "/pscratch/sd/l/lonappan/software_pkgs/cmblens/lib/python3.7/site-packages/ipykernel_launcher.py:21: RuntimeWarning: invalid value encountered in true_divide\n",
      "100%|██████████| 4000/4000 [00:03<00:00, 1100.20it/s]\n"
     ]
    }
   ],
   "source": [
    "c = crazymix(rec3,rec1,100)\n",
    "snofg = c.get_samples()"
   ]
  },
  {
   "cell_type": "code",
   "execution_count": 23,
   "id": "df371ded-28a0-4c88-9f38-5b84f18623c6",
   "metadata": {
    "tags": []
   },
   "outputs": [
    {
     "name": "stderr",
     "output_type": "stream",
     "text": [
      "/pscratch/sd/l/lonappan/software_pkgs/cmblens/lib/python3.7/site-packages/ipykernel_launcher.py:19: RuntimeWarning: invalid value encountered in true_divide\n",
      "/pscratch/sd/l/lonappan/software_pkgs/cmblens/lib/python3.7/site-packages/ipykernel_launcher.py:21: RuntimeWarning: invalid value encountered in true_divide\n",
      "100%|██████████| 4000/4000 [00:03<00:00, 1102.49it/s]\n"
     ]
    }
   ],
   "source": [
    "c = crazymix(rec3,rec2,100)\n",
    "sfg1 = c.get_samples()"
   ]
  },
  {
   "cell_type": "code",
   "execution_count": 32,
   "id": "8c93a989-5ce2-4cbe-bfc8-00729557abce",
   "metadata": {
    "tags": []
   },
   "outputs": [
    {
     "name": "stderr",
     "output_type": "stream",
     "text": [
      "/pscratch/sd/l/lonappan/software_pkgs/cmblens/lib/python3.7/site-packages/ipykernel_launcher.py:19: RuntimeWarning: invalid value encountered in true_divide\n",
      "/pscratch/sd/l/lonappan/software_pkgs/cmblens/lib/python3.7/site-packages/ipykernel_launcher.py:21: RuntimeWarning: invalid value encountered in true_divide\n",
      "100%|██████████| 4000/4000 [00:03<00:00, 1104.02it/s]\n"
     ]
    }
   ],
   "source": [
    "c = crazymix(rec3,rec3,100)\n",
    "sfg2 = c.get_samples()"
   ]
  },
  {
   "cell_type": "code",
   "execution_count": 33,
   "id": "8bad7103-be17-46ef-a226-05c84c5eaa37",
   "metadata": {
    "tags": []
   },
   "outputs": [
    {
     "name": "stdout",
     "output_type": "stream",
     "text": [
      "Removed no burn in\n",
      "Removed no burn in\n",
      "Removed no burn in\n"
     ]
    }
   ],
   "source": [
    "names = [\"Alens\"]\n",
    "labels =  [\"A_\\mathrm{lens}\"]\n",
    "nofg = MCSamples(samples=snofg,names=names,labels=labels, label='No FG')\n",
    "fg1 = MCSamples(samples=sfg1,names=names,labels=labels, label='s0d0')\n",
    "fg2 = MCSamples(samples=sfg2,names=names,labels=labels, label='s1d1')"
   ]
  },
  {
   "cell_type": "code",
   "execution_count": 34,
   "id": "8316b107-8893-407e-b155-44d681d66708",
   "metadata": {
    "tags": []
   },
   "outputs": [
    {
     "data": {
      "image/png": "[encoded data removed]",
      "text/plain": [
       "<Figure size 432x324 with 1 Axes>"
      ]
     },
     "metadata": {
      "needs_background": "light"
     },
     "output_type": "display_data"
    }
   ],
   "source": [
    "g = plots.get_single_plotter(width_inch=6)\n",
    "g.plot_1d([nofg,fg1,fg2], 'Alens',)"
   ]
  },
  {
   "cell_type": "code",
   "execution_count": null,
   "id": "0628cb71-4673-44fb-acec-dbe9ae366602",
   "metadata": {},
   "outputs": [],
   "source": []
  }
 ],
 "metadata": {
  "kernelspec": {
   "display_name": "Pylens",
   "language": "python",
   "name": "cmblens"
  },
  "language_info": {
   "codemirror_mode": {
    "name": "ipython",
    "version": 3
   },
   "file_extension": ".py",
   "mimetype": "text/x-python",
   "name": "python",
   "nbconvert_exporter": "python",
   "pygments_lexer": "ipython3",
   "version": "3.7.2"
  }
 },
 "nbformat": 4,
 "nbformat_minor": 5
}
