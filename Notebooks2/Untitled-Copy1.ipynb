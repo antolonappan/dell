{
 "cells": [
  {
   "cell_type": "code",
   "execution_count": 1,
   "id": "c2f180c9-30fa-438c-baea-87a0f47ed194",
   "metadata": {},
   "outputs": [],
   "source": [
    "import sys\n",
    "sys.path.append('../')"
   ]
  },
  {
   "cell_type": "code",
   "execution_count": 2,
   "id": "4192054f-9c32-4dbc-82c8-05fed2355948",
   "metadata": {},
   "outputs": [],
   "source": [
    "%load_ext autoreload\n",
    "%autoreload 2\n",
    "from filtering import Filtering"
   ]
  },
  {
   "cell_type": "code",
   "execution_count": 3,
   "id": "90c1cc07-8121-48ce-80bb-d46067cc1ae0",
   "metadata": {},
   "outputs": [
    {
     "name": "stdout",
     "output_type": "stream",
     "text": [
      "DATABASE: loaded\n",
      "SIMUALATION object with out FG: Loaded\n",
      "FILTERING object with out FG: Loaded\n"
     ]
    }
   ],
   "source": [
    "sim1 = Filtering.from_ini('LB_FG0.ini')"
   ]
  },
  {
   "cell_type": "code",
   "execution_count": null,
   "id": "39760146-2949-4a63-9660-317b4249a9d4",
   "metadata": {},
   "outputs": [
    {
     "name": "stderr",
     "output_type": "stream",
     "text": [
      "Cinv filtering:   2%|▏         | 9/500 [54:55<50:01:23, 366.77s/sim]"
     ]
    }
   ],
   "source": [
    "sim1.run_job()"
   ]
  },
  {
   "cell_type": "code",
   "execution_count": 7,
   "id": "fbd2d4ce-8d32-4b1e-901e-0dde1af685d9",
   "metadata": {},
   "outputs": [
    {
     "name": "stderr",
     "output_type": "stream",
     "text": [
      "Getting Foreground: 100%|██████████| 15/15 [03:07<00:00, 12.48s/freq]\n"
     ]
    }
   ],
   "source": [
    "fgres = sim1.fg_res(0)"
   ]
  },
  {
   "cell_type": "code",
   "execution_count": 9,
   "id": "b563e4f9-67a0-44bb-ba40-df4d99696b0d",
   "metadata": {},
   "outputs": [
    {
     "name": "stdout",
     "output_type": "stream",
     "text": [
      "5\n"
     ]
    },
    {
     "name": "stderr",
     "output_type": "stream",
     "text": [
      "Making maps: 15Freq [04:57, 19.81s/Freq]\n",
      "Making alms: 100%|██████████| 15/15 [03:26<00:00, 13.74s/Freq]\n"
     ]
    }
   ],
   "source": [
    "cmb1,noise1,weight1 = sim1.get_cmb_alms(0,binwidth=5)"
   ]
  },
  {
   "cell_type": "code",
   "execution_count": 10,
   "id": "b69e664e-319a-4082-b749-8bcc0c01def2",
   "metadata": {},
   "outputs": [
    {
     "name": "stderr",
     "output_type": "stream",
     "text": [
      "Getting Foreground: 100%|██████████| 15/15 [03:13<00:00, 12.87s/freq]\n"
     ]
    }
   ],
   "source": [
    "fgres1 = sim1.fg_res(0)"
   ]
  },
  {
   "cell_type": "code",
   "execution_count": 15,
   "id": "c34a959a-ece7-4c99-816a-33b3d87d6cc9",
   "metadata": {},
   "outputs": [
    {
     "name": "stdout",
     "output_type": "stream",
     "text": [
      "3\n"
     ]
    },
    {
     "name": "stderr",
     "output_type": "stream",
     "text": [
      "Making maps: 15Freq [04:55, 19.68s/Freq]\n",
      "Making alms: 100%|██████████| 15/15 [03:19<00:00, 13.29s/Freq]\n"
     ]
    }
   ],
   "source": [
    "cmb2,noise2,weight2 = sim1.get_cmb_alms(0,binwidth=3)"
   ]
  },
  {
   "cell_type": "code",
   "execution_count": 16,
   "id": "00eb47fc-6cd5-47d1-8fce-81bf678a0451",
   "metadata": {},
   "outputs": [
    {
     "name": "stderr",
     "output_type": "stream",
     "text": [
      "Getting Foreground: 100%|██████████| 15/15 [03:11<00:00, 12.78s/freq]\n"
     ]
    }
   ],
   "source": [
    "fgres2 = sim1.fg_res(0)"
   ]
  },
  {
   "cell_type": "code",
   "execution_count": 50,
   "id": "bb317589-7598-4397-8ab5-4ce173b5adf9",
   "metadata": {},
   "outputs": [
    {
     "name": "stdout",
     "output_type": "stream",
     "text": [
      "15\n"
     ]
    },
    {
     "name": "stderr",
     "output_type": "stream",
     "text": [
      "Making maps: 15Freq [04:56, 19.79s/Freq]\n",
      "Making alms: 100%|██████████| 15/15 [03:27<00:00, 13.81s/Freq]\n"
     ]
    }
   ],
   "source": [
    "cmb2,noise2,weight2 = sim1.get_cmb_alms(0,binwidth=15)"
   ]
  },
  {
   "cell_type": "code",
   "execution_count": 51,
   "id": "f9aac784-972f-4166-a264-042a3d51dbb1",
   "metadata": {},
   "outputs": [
    {
     "name": "stderr",
     "output_type": "stream",
     "text": [
      "Getting Foreground: 100%|██████████| 15/15 [03:12<00:00, 12.82s/freq]\n"
     ]
    }
   ],
   "source": [
    "fgres2 = sim1.fg_res(0)"
   ]
  },
  {
   "cell_type": "code",
   "execution_count": 12,
   "id": "b12088e0-3640-48c0-ad7f-67fd4adb0c36",
   "metadata": {},
   "outputs": [],
   "source": [
    "import healpy as hp\n",
    "import matplotlib.pyplot as plt"
   ]
  },
  {
   "cell_type": "code",
   "execution_count": 52,
   "id": "ffb6d384-5309-4cef-b3c4-335bdd22e53b",
   "metadata": {},
   "outputs": [
    {
     "data": {
      "text/plain": [
       "[]"
      ]
     },
     "execution_count": 52,
     "metadata": {},
     "output_type": "execute_result"
    },
    {
     "data": {
      "image/png": "[encoded data removed]",
      "text/plain": [
       "<Figure size 432x288 with 1 Axes>"
      ]
     },
     "metadata": {
      "needs_background": "light"
     },
     "output_type": "display_data"
    }
   ],
   "source": [
    "plt.loglog(hp.alm2cl(noise[0][1])+hp.alm2cl(fgres[0][1]))\n",
    "plt.loglog(hp.alm2cl(noise1[0][1])+hp.alm2cl(fgres1[0][1]))\n",
    "plt.loglog(hp.alm2cl(noise2[0][1])+hp.alm2cl(fgres2[0][1]))\n",
    "plt.loglog(sim1.cl_len[1]*sim1.Tcmb**2)\n",
    "plt.loglog()"
   ]
  },
  {
   "cell_type": "code",
   "execution_count": 18,
   "id": "bae49110-02a8-4b59-addd-ff448406faf3",
   "metadata": {},
   "outputs": [
    {
     "data": {
      "text/plain": [
       "(1, 3, 1180416)"
      ]
     },
     "execution_count": 18,
     "metadata": {},
     "output_type": "execute_result"
    }
   ],
   "source": [
    "noise.shape"
   ]
  },
  {
   "cell_type": "code",
   "execution_count": 26,
   "id": "ac9b5822-4dc1-4757-9d5a-a2bf7156ad3a",
   "metadata": {},
   "outputs": [
    {
     "data": {
      "text/plain": [
       "(1, 3, 1180416)"
      ]
     },
     "execution_count": 26,
     "metadata": {},
     "output_type": "execute_result"
    }
   ],
   "source": [
    "fgres1.shape"
   ]
  },
  {
   "cell_type": "code",
   "execution_count": 36,
   "id": "482bd9dd-8214-40be-a6dd-a903800335a4",
   "metadata": {},
   "outputs": [],
   "source": [
    "import numpy as np\n",
    "from scipy import signal,interpolate\n",
    "\n",
    "cmb_spectra = np.random.normal(size=1000).cumsum()\n",
    "jumps = np.random.randint(0, len(cmb_spectra), size=20)\n",
    "cmb_spectra[jumps] += np.random.normal(scale=5., size=len(jumps))\n",
    "\n",
    "def interpolate_data(data, factor=10):\n",
    "    x = np.linspace(0, len(data), len(data), endpoint=True)\n",
    "    f = interpolate.interp1d(x, data)\n",
    "    xnew = np.linspace(0, len(data), len(data) * factor, endpoint=True)\n",
    "    return f(xnew)\n",
    "\n",
    "def smooth_data(data, window_length=51, polyorder=3):\n",
    "    return signal.savgol_filter(data, window_length, polyorder)\n",
    "\n",
    "\n",
    "smoothed_cmb_spectra = smooth_data(cmb_spectra)\n"
   ]
  },
  {
   "cell_type": "code",
   "execution_count": 47,
   "id": "ad196ec4-cdbc-437f-802f-32862a28890f",
   "metadata": {},
   "outputs": [
    {
     "data": {
      "text/plain": [
       "[<matplotlib.lines.Line2D at 0x7fdc6af58fd0>]"
      ]
     },
     "execution_count": 47,
     "metadata": {},
     "output_type": "execute_result"
    },
    {
     "data": {
      "image/png": "[encoded data removed]",
      "text/plain": [
       "<Figure size 432x288 with 1 Axes>"
      ]
     },
     "metadata": {
      "needs_background": "light"
     },
     "output_type": "display_data"
    }
   ],
   "source": [
    "plt.loglog(hp.alm2cl(noise[0][1]))\n",
    "plt.loglog(smooth_data(hp.alm2cl(noise[0][1]),20,1))"
   ]
  },
  {
   "cell_type": "code",
   "execution_count": null,
   "id": "4f9e48b1-bce6-48bd-bbaa-729841b055a3",
   "metadata": {},
   "outputs": [],
   "source": []
  }
 ],
 "metadata": {
  "kernelspec": {
   "display_name": "Pylens",
   "language": "python",
   "name": "cmblens"
  },
  "language_info": {
   "codemirror_mode": {
    "name": "ipython",
    "version": 3
   },
   "file_extension": ".py",
   "mimetype": "text/x-python",
   "name": "python",
   "nbconvert_exporter": "python",
   "pygments_lexer": "ipython3",
   "version": "3.7.2"
  }
 },
 "nbformat": 4,
 "nbformat_minor": 5
}
