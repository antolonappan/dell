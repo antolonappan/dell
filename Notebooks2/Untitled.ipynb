{
 "cells": [
  {
   "cell_type": "code",
   "execution_count": 1,
   "id": "c2f180c9-30fa-438c-baea-87a0f47ed194",
   "metadata": {},
   "outputs": [],
   "source": [
    "import sys\n",
    "sys.path.append('../')"
   ]
  },
  {
   "cell_type": "code",
   "execution_count": 2,
   "id": "4192054f-9c32-4dbc-82c8-05fed2355948",
   "metadata": {},
   "outputs": [
    {
     "name": "stderr",
     "output_type": "stream",
     "text": [
      "\n",
      "WARNING: version mismatch between CFITSIO header (v4.000999999999999) and linked library (v4.01).\n",
      "\n",
      "\n",
      "WARNING: version mismatch between CFITSIO header (v4.000999999999999) and linked library (v4.01).\n",
      "\n",
      "\n",
      "WARNING: version mismatch between CFITSIO header (v4.000999999999999) and linked library (v4.01).\n",
      "\n"
     ]
    }
   ],
   "source": [
    "%load_ext autoreload\n",
    "%autoreload 2\n",
    "from simulation import SimExperimentFG"
   ]
  },
  {
   "cell_type": "code",
   "execution_count": 3,
   "id": "90c1cc07-8121-48ce-80bb-d46067cc1ae0",
   "metadata": {},
   "outputs": [
    {
     "name": "stdout",
     "output_type": "stream",
     "text": [
      "DATABASE: loaded\n"
     ]
    },
    {
     "ename": "OSError",
     "evalue": "/project/projectdirs/litebird/simulations/maps/lensing_project_paper/S4BIRD/CAMB/BBSims_lensed_dls.dat not found.",
     "output_type": "error",
     "traceback": [
      "\u001b[0;31m---------------------------------------------------------------------------\u001b[0m",
      "\u001b[0;31mOSError\u001b[0m                                   Traceback (most recent call last)",
      "Input \u001b[0;32mIn [3]\u001b[0m, in \u001b[0;36m<cell line: 1>\u001b[0;34m()\u001b[0m\n\u001b[0;32m----> 1\u001b[0m sim1 \u001b[38;5;241m=\u001b[39m \u001b[43mSimExperimentFG\u001b[49m\u001b[38;5;241;43m.\u001b[39;49m\u001b[43mfrom_ini\u001b[49m\u001b[43m(\u001b[49m\u001b[38;5;124;43m'\u001b[39;49m\u001b[38;5;124;43mLB_FG0.ini\u001b[39;49m\u001b[38;5;124;43m'\u001b[39;49m\u001b[43m)\u001b[49m\n",
      "File \u001b[0;32m/global/u2/l/lonappan/workspace/dell/Notebooks2/../simulation.py:102\u001b[0m, in \u001b[0;36mSimExperimentFG.from_ini\u001b[0;34m(cls, ini_file, verbose)\u001b[0m\n\u001b[1;32m    100\u001b[0m noFG \u001b[38;5;241m=\u001b[39m \u001b[38;5;28mbool\u001b[39m(mc[\u001b[38;5;124m'\u001b[39m\u001b[38;5;124mnoFG\u001b[39m\u001b[38;5;124m'\u001b[39m])\n\u001b[1;32m    101\u001b[0m nsim \u001b[38;5;241m=\u001b[39m \u001b[38;5;28mint\u001b[39m(mc[\u001b[38;5;124m'\u001b[39m\u001b[38;5;124mnsim\u001b[39m\u001b[38;5;124m'\u001b[39m])\n\u001b[0;32m--> 102\u001b[0m \u001b[38;5;28;01mreturn\u001b[39;00m \u001b[38;5;28;43mcls\u001b[39;49m\u001b[43m(\u001b[49m\u001b[43minfolder\u001b[49m\u001b[43m,\u001b[49m\u001b[43moutfolder\u001b[49m\u001b[43m,\u001b[49m\u001b[43mdnside\u001b[49m\u001b[43m,\u001b[49m\u001b[43mfg_dir\u001b[49m\u001b[43m,\u001b[49m\u001b[43mfg_str\u001b[49m\u001b[43m,\u001b[49m\u001b[43mtable\u001b[49m\u001b[43m,\u001b[49m\u001b[43mlen_cl_file\u001b[49m\u001b[43m,\u001b[49m\u001b[43mnsim\u001b[49m\u001b[43m,\u001b[49m\u001b[43mFl\u001b[49m\u001b[43m,\u001b[49m\u001b[43mFh\u001b[49m\u001b[43m,\u001b[49m\u001b[43mnoFG\u001b[49m\u001b[43m,\u001b[49m\u001b[43mverbose\u001b[49m\u001b[43m)\u001b[49m\n",
      "File \u001b[0;32m/global/u2/l/lonappan/workspace/dell/Notebooks2/../simulation.py:59\u001b[0m, in \u001b[0;36mSimExperimentFG.__init__\u001b[0;34m(self, infolder, outfolder, dnside, fg_dir, fg_str, table, len_cl_file, nsim, Fl, Fh, noFG, verbose)\u001b[0m\n\u001b[1;32m     57\u001b[0m \u001b[38;5;28mself\u001b[39m\u001b[38;5;241m.\u001b[39mdnside \u001b[38;5;241m=\u001b[39m dnside\n\u001b[1;32m     58\u001b[0m \u001b[38;5;28mself\u001b[39m\u001b[38;5;241m.\u001b[39mTcmb  \u001b[38;5;241m=\u001b[39m \u001b[38;5;241m2.726e6\u001b[39m\n\u001b[0;32m---> 59\u001b[0m \u001b[38;5;28mself\u001b[39m\u001b[38;5;241m.\u001b[39mcl_len \u001b[38;5;241m=\u001b[39m \u001b[43mcmb\u001b[49m\u001b[38;5;241;43m.\u001b[39;49m\u001b[43mread_camb_cls\u001b[49m\u001b[43m(\u001b[49m\u001b[43mlen_cl_file\u001b[49m\u001b[43m,\u001b[49m\u001b[43mftype\u001b[49m\u001b[38;5;241;43m=\u001b[39;49m\u001b[38;5;124;43m'\u001b[39;49m\u001b[38;5;124;43mlens\u001b[39;49m\u001b[38;5;124;43m'\u001b[39;49m\u001b[43m,\u001b[49m\u001b[43moutput\u001b[49m\u001b[38;5;241;43m=\u001b[39;49m\u001b[38;5;124;43m'\u001b[39;49m\u001b[38;5;124;43marray\u001b[39;49m\u001b[38;5;124;43m'\u001b[39;49m\u001b[43m)\u001b[49m[:,:\u001b[38;5;28mself\u001b[39m\u001b[38;5;241m.\u001b[39mlmax\u001b[38;5;241m+\u001b[39m\u001b[38;5;241m1\u001b[39m]  \u001b[38;5;66;03m# type: ignore\u001b[39;00m\n\u001b[1;32m     60\u001b[0m \u001b[38;5;28mself\u001b[39m\u001b[38;5;241m.\u001b[39mnoFG \u001b[38;5;241m=\u001b[39m noFG\n\u001b[1;32m     61\u001b[0m \u001b[38;5;28mself\u001b[39m\u001b[38;5;241m.\u001b[39mnsim \u001b[38;5;241m=\u001b[39m nsim\n",
      "File \u001b[0;32m/global/u2/l/lonappan/softwares/cmblensplus/utils/cmb.py:219\u001b[0m, in \u001b[0;36mread_camb_cls\u001b[0;34m(fname, ftype, output, skiprows, unpack)\u001b[0m\n\u001b[1;32m    216\u001b[0m     ll, TT, EE, TE, PP, TP \u001b[38;5;241m=\u001b[39m np\u001b[38;5;241m.\u001b[39mloadtxt(fname,skiprows\u001b[38;5;241m=\u001b[39mskiprows,unpack\u001b[38;5;241m=\u001b[39munpack)\n\u001b[1;32m    218\u001b[0m \u001b[38;5;28;01melif\u001b[39;00m ftype \u001b[38;5;241m==\u001b[39m \u001b[38;5;124m'\u001b[39m\u001b[38;5;124mlens\u001b[39m\u001b[38;5;124m'\u001b[39m: \u001b[38;5;66;03m# lensed cls\u001b[39;00m\n\u001b[0;32m--> 219\u001b[0m     ll, TT, EE, BB, TE \u001b[38;5;241m=\u001b[39m \u001b[43mnp\u001b[49m\u001b[38;5;241;43m.\u001b[39;49m\u001b[43mloadtxt\u001b[49m\u001b[43m(\u001b[49m\u001b[43mfname\u001b[49m\u001b[43m,\u001b[49m\u001b[43mskiprows\u001b[49m\u001b[38;5;241;43m=\u001b[39;49m\u001b[43mskiprows\u001b[49m\u001b[43m,\u001b[49m\u001b[43munpack\u001b[49m\u001b[38;5;241;43m=\u001b[39;49m\u001b[43munpack\u001b[49m\u001b[43m)\u001b[49m\n\u001b[1;32m    221\u001b[0m s \u001b[38;5;241m=\u001b[39m ll\u001b[38;5;241m*\u001b[39m(ll\u001b[38;5;241m+\u001b[39m\u001b[38;5;241m1.\u001b[39m)\u001b[38;5;241m*\u001b[39mc\u001b[38;5;241m.\u001b[39mTcmb\u001b[38;5;241m*\u001b[39m\u001b[38;5;241m*\u001b[39m\u001b[38;5;241m2\u001b[39m\u001b[38;5;241m/\u001b[39m(\u001b[38;5;241m2\u001b[39m\u001b[38;5;241m*\u001b[39mnp\u001b[38;5;241m.\u001b[39mpi)\n\u001b[1;32m    222\u001b[0m TT \u001b[38;5;241m/\u001b[39m\u001b[38;5;241m=\u001b[39m s\n",
      "File \u001b[0;32m~/.conda/envs/cmblens/lib/python3.10/site-packages/numpy/lib/npyio.py:1067\u001b[0m, in \u001b[0;36mloadtxt\u001b[0;34m(fname, dtype, comments, delimiter, converters, skiprows, usecols, unpack, ndmin, encoding, max_rows, like)\u001b[0m\n\u001b[1;32m   1065\u001b[0m     fname \u001b[38;5;241m=\u001b[39m os_fspath(fname)\n\u001b[1;32m   1066\u001b[0m \u001b[38;5;28;01mif\u001b[39;00m _is_string_like(fname):\n\u001b[0;32m-> 1067\u001b[0m     fh \u001b[38;5;241m=\u001b[39m \u001b[43mnp\u001b[49m\u001b[38;5;241;43m.\u001b[39;49m\u001b[43mlib\u001b[49m\u001b[38;5;241;43m.\u001b[39;49m\u001b[43m_datasource\u001b[49m\u001b[38;5;241;43m.\u001b[39;49m\u001b[43mopen\u001b[49m\u001b[43m(\u001b[49m\u001b[43mfname\u001b[49m\u001b[43m,\u001b[49m\u001b[43m \u001b[49m\u001b[38;5;124;43m'\u001b[39;49m\u001b[38;5;124;43mrt\u001b[39;49m\u001b[38;5;124;43m'\u001b[39;49m\u001b[43m,\u001b[49m\u001b[43m \u001b[49m\u001b[43mencoding\u001b[49m\u001b[38;5;241;43m=\u001b[39;49m\u001b[43mencoding\u001b[49m\u001b[43m)\u001b[49m\n\u001b[1;32m   1068\u001b[0m     fencoding \u001b[38;5;241m=\u001b[39m \u001b[38;5;28mgetattr\u001b[39m(fh, \u001b[38;5;124m'\u001b[39m\u001b[38;5;124mencoding\u001b[39m\u001b[38;5;124m'\u001b[39m, \u001b[38;5;124m'\u001b[39m\u001b[38;5;124mlatin1\u001b[39m\u001b[38;5;124m'\u001b[39m)\n\u001b[1;32m   1069\u001b[0m     fh \u001b[38;5;241m=\u001b[39m \u001b[38;5;28miter\u001b[39m(fh)\n",
      "File \u001b[0;32m~/.conda/envs/cmblens/lib/python3.10/site-packages/numpy/lib/_datasource.py:193\u001b[0m, in \u001b[0;36mopen\u001b[0;34m(path, mode, destpath, encoding, newline)\u001b[0m\n\u001b[1;32m    156\u001b[0m \u001b[38;5;250m\u001b[39m\u001b[38;5;124;03m\"\"\"\u001b[39;00m\n\u001b[1;32m    157\u001b[0m \u001b[38;5;124;03mOpen `path` with `mode` and return the file object.\u001b[39;00m\n\u001b[1;32m    158\u001b[0m \n\u001b[0;32m   (...)\u001b[0m\n\u001b[1;32m    189\u001b[0m \n\u001b[1;32m    190\u001b[0m \u001b[38;5;124;03m\"\"\"\u001b[39;00m\n\u001b[1;32m    192\u001b[0m ds \u001b[38;5;241m=\u001b[39m DataSource(destpath)\n\u001b[0;32m--> 193\u001b[0m \u001b[38;5;28;01mreturn\u001b[39;00m \u001b[43mds\u001b[49m\u001b[38;5;241;43m.\u001b[39;49m\u001b[43mopen\u001b[49m\u001b[43m(\u001b[49m\u001b[43mpath\u001b[49m\u001b[43m,\u001b[49m\u001b[43m \u001b[49m\u001b[43mmode\u001b[49m\u001b[43m,\u001b[49m\u001b[43m \u001b[49m\u001b[43mencoding\u001b[49m\u001b[38;5;241;43m=\u001b[39;49m\u001b[43mencoding\u001b[49m\u001b[43m,\u001b[49m\u001b[43m \u001b[49m\u001b[43mnewline\u001b[49m\u001b[38;5;241;43m=\u001b[39;49m\u001b[43mnewline\u001b[49m\u001b[43m)\u001b[49m\n",
      "File \u001b[0;32m~/.conda/envs/cmblens/lib/python3.10/site-packages/numpy/lib/_datasource.py:533\u001b[0m, in \u001b[0;36mDataSource.open\u001b[0;34m(self, path, mode, encoding, newline)\u001b[0m\n\u001b[1;32m    530\u001b[0m     \u001b[38;5;28;01mreturn\u001b[39;00m _file_openers[ext](found, mode\u001b[38;5;241m=\u001b[39mmode,\n\u001b[1;32m    531\u001b[0m                               encoding\u001b[38;5;241m=\u001b[39mencoding, newline\u001b[38;5;241m=\u001b[39mnewline)\n\u001b[1;32m    532\u001b[0m \u001b[38;5;28;01melse\u001b[39;00m:\n\u001b[0;32m--> 533\u001b[0m     \u001b[38;5;28;01mraise\u001b[39;00m \u001b[38;5;167;01mIOError\u001b[39;00m(\u001b[38;5;124m\"\u001b[39m\u001b[38;5;132;01m%s\u001b[39;00m\u001b[38;5;124m not found.\u001b[39m\u001b[38;5;124m\"\u001b[39m \u001b[38;5;241m%\u001b[39m path)\n",
      "\u001b[0;31mOSError\u001b[0m: /project/projectdirs/litebird/simulations/maps/lensing_project_paper/S4BIRD/CAMB/BBSims_lensed_dls.dat not found."
     ]
    }
   ],
   "source": [
    "sim1 = SimExperimentFG.from_ini('LB_FG0.ini')"
   ]
  },
  {
   "cell_type": "code",
   "execution_count": null,
   "id": "39760146-2949-4a63-9660-317b4249a9d4",
   "metadata": {},
   "outputs": [],
   "source": []
  }
 ],
 "metadata": {
  "kernelspec": {
   "display_name": "Pybase",
   "language": "python",
   "name": "base"
  },
  "language_info": {
   "codemirror_mode": {
    "name": "ipython",
    "version": 3
   },
   "file_extension": ".py",
   "mimetype": "text/x-python",
   "name": "python",
   "nbconvert_exporter": "python",
   "pygments_lexer": "ipython3",
   "version": "3.10.4"
  }
 },
 "nbformat": 4,
 "nbformat_minor": 5
}
