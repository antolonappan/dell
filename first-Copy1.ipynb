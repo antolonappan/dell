{
 "cells": [
  {
   "cell_type": "code",
   "execution_count": 1,
   "id": "074b2ece-0855-4f42-84ce-81a4e538eb12",
   "metadata": {},
   "outputs": [
    {
     "name": "stderr",
     "output_type": "stream",
     "text": [
      "\n",
      "WARNING: version mismatch between CFITSIO header (v4.000999999999999) and linked library (v4.01).\n",
      "\n",
      "\n",
      "WARNING: version mismatch between CFITSIO header (v4.000999999999999) and linked library (v4.01).\n",
      "\n",
      "\n",
      "WARNING: version mismatch between CFITSIO header (v4.000999999999999) and linked library (v4.01).\n",
      "\n"
     ]
    }
   ],
   "source": [
    "import healpy as hp"
   ]
  },
  {
   "cell_type": "code",
   "execution_count": 2,
   "id": "6ca89941-3c64-48e5-affd-bbccbeeb2267",
   "metadata": {},
   "outputs": [],
   "source": [
    "from simulation import ExpMaps\n",
    "import matplotlib.pyplot as plt\n",
    "import basic\n",
    "import curvedsky as cs\n",
    "import cmb\n",
    "import numpy as np\n",
    "from utils import camb_clfile"
   ]
  },
  {
   "cell_type": "code",
   "execution_count": 3,
   "id": "c2ed742e-319d-404c-b885-18a017a24760",
   "metadata": {},
   "outputs": [],
   "source": [
    "#Tcmb  = 2.726e6  \n",
    "Tcmb  = 2.726e6\n",
    "nside = 512        \n",
    "lmax  = 2*nside     \n",
    "npix  = 12*nside**2\n",
    "l = np.linspace(0,lmax,lmax+1)\n",
    "lfac = l*(l+1)/2/np.pi\n",
    "\n",
    "sigma = 2.16      \n",
    "Nl = (sigma*(np.pi/10800.)/Tcmb)**2 * np.ones(lmax+1)\n",
    "#Nl = (sigma*(np.pi/10800.)/1e6)**2 * np.ones(lmax+1)\n",
    "\n",
    "Lmax  = 1024      # maximum multipole of output normalization\n",
    "rlmin, rlmax = 200, 1024  # CMB multipole range for reconstruction\n",
    "L = np.linspace(0,Lmax,Lmax+1)\n",
    "Lfac = (L*(L+1.))**2/(2*np.pi)"
   ]
  },
  {
   "cell_type": "code",
   "execution_count": 4,
   "id": "7587f6eb-9e13-4b9a-8c68-295fa7570c75",
   "metadata": {},
   "outputs": [],
   "source": [
    "sim_dir = '/global/cscratch1/sd/lonappan/S4BIRD/LiteBIRD/SIM_SET1/Maps'"
   ]
  },
  {
   "cell_type": "code",
   "execution_count": 5,
   "id": "a985dc18-c479-45bf-8987-ad6a861d8588",
   "metadata": {},
   "outputs": [],
   "source": [
    "cl = cmb.read_camb_cls(\"/global/cscratch1/sd/lonappan/S4BIRD/CAMB/BBSims_lensed_dls.dat\",ftype='lens',output='array')[:,:lmax+1]"
   ]
  },
  {
   "cell_type": "code",
   "execution_count": 6,
   "id": "cde56050-3980-47fe-86d4-3cd601af0230",
   "metadata": {},
   "outputs": [],
   "source": [
    "cl_len = camb_clfile(\"/global/cscratch1/sd/lonappan/S4BIRD/CAMB/BBSims_lensed_dls.dat\")\n",
    "cl_unl = camb_clfile(\"/global/cscratch1/sd/lonappan/S4BIRD/CAMB/BBSims_lenspotential.dat\")"
   ]
  },
  {
   "cell_type": "code",
   "execution_count": 7,
   "id": "0ea663a3-c07e-4ce1-9a4e-b50941b2b14c",
   "metadata": {},
   "outputs": [],
   "source": [
    "mask_full = hp.read_map(\"/project/projectdirs/litebird/simulations/maps/lensing_project_paper/Masks/LB_Nside2048_fsky_0p8_binary.fits.gz\")"
   ]
  },
  {
   "cell_type": "code",
   "execution_count": 8,
   "id": "fe59f87c-0054-4c27-af37-98883ac6d8aa",
   "metadata": {},
   "outputs": [],
   "source": [
    "mask = hp.ud_grade(mask_full,nside)"
   ]
  },
  {
   "cell_type": "code",
   "execution_count": 9,
   "id": "ec0cc08d-5a08-49fa-a890-62cde28647a9",
   "metadata": {},
   "outputs": [],
   "source": [
    "bl = 1./cmb.beam(30.,lmax)\n",
    "Bl = np.reshape(bl,(1,lmax+1))"
   ]
  },
  {
   "cell_type": "code",
   "execution_count": 27,
   "id": "97718512-bc2b-49f0-a3bd-ae997ff7e23f",
   "metadata": {},
   "outputs": [],
   "source": [
    "invn = mask * (sigma*(np.pi/10800.)/Tcmb)**(-2)\n",
    "invN = np.reshape(np.array((invn,invn)),(2,1,npix))"
   ]
  },
  {
   "cell_type": "code",
   "execution_count": 11,
   "id": "633c13e9-8eca-49cd-8c57-231827961a9d",
   "metadata": {},
   "outputs": [],
   "source": [
    "Talm, Ealm, Balm = cs.utils.gaussTEB(rlmax,cl[0,:],cl[1,:],cl[2,:],cl[3,:])"
   ]
  },
  {
   "cell_type": "code",
   "execution_count": 12,
   "id": "854edf2e-8156-4686-8057-4350661165f3",
   "metadata": {},
   "outputs": [],
   "source": [
    "Talm_f = cs.utils.almxfl(lmax, lmax, Talm,bl) + cs.utils.gauss1alm(lmax,Nl)\n",
    "Ealm_f = cs.utils.almxfl(lmax, lmax, Ealm,bl) + cs.utils.gauss1alm(lmax,Nl)\n",
    "Balm_f = cs.utils.almxfl(lmax, lmax, Balm,bl) + cs.utils.gauss1alm(lmax,Nl)"
   ]
  },
  {
   "cell_type": "code",
   "execution_count": 42,
   "id": "dcf05179-bbd7-47b3-996f-c6603fe73a1f",
   "metadata": {},
   "outputs": [
    {
     "data": {
      "text/plain": [
       "[<matplotlib.lines.Line2D at 0x155510b0beb0>]"
      ]
     },
     "execution_count": 42,
     "metadata": {},
     "output_type": "execute_result"
    },
    {
     "data": {
      "image/png": "[encoded data removed]",
      "text/plain": [
       "<Figure size 432x288 with 1 Axes>"
      ]
     },
     "metadata": {
      "needs_background": "light"
     },
     "output_type": "display_data"
    }
   ],
   "source": [
    "plt.loglog(cs.utils.alm2cl(lmax,Balm_f))\n",
    "#plt.loglog(cs.utils.alm2cl(lmax,Balm))\n",
    "plt.loglog(cl_len['bb']/Tcmb**2)\n",
    "plt.loglog(Nl)\n",
    "#plt.axhline(np.radians(2.16/60)**2/Tcmb**2)"
   ]
  },
  {
   "cell_type": "code",
   "execution_count": 14,
   "id": "3b8c6bf5-8cd7-408d-8c34-2be3aff8bbc0",
   "metadata": {},
   "outputs": [],
   "source": [
    "omap = {}\n",
    "omap['Q'], omap['U'] = cs.utils.hp_alm2map_spin(nside,lmax,lmax,2, Ealm_f,Balm_f)"
   ]
  },
  {
   "cell_type": "code",
   "execution_count": 28,
   "id": "56e64861-4ad8-4a57-960a-7a5ab4e52002",
   "metadata": {},
   "outputs": [],
   "source": [
    "QU = np.reshape(np.array((omap['Q']*mask,omap['U']*mask)),(2,1,npix)) # restrict T, Q, U to observed area\n",
    "ilm = {}\n",
    "ilm['E'], ilm['B'] = cs.cninv.cnfilter_freq(2,1,nside,lmax,cl[1:3,:],Bl,invN,QU,chn=1,itns=[1000],eps=[1e-5],filter='',ro=10,stat='status.txt')"
   ]
  },
  {
   "cell_type": "code",
   "execution_count": 29,
   "id": "da1c2f53-44c9-4d05-b9ad-726f0fc880a9",
   "metadata": {},
   "outputs": [
    {
     "name": "stderr",
     "output_type": "stream",
     "text": [
      "/tmp/ipykernel_19827/3326890284.py:3: RuntimeWarning: divide by zero encountered in true_divide\n",
      "  plt.loglog(1/cl[2:3,:][0])\n"
     ]
    },
    {
     "data": {
      "text/plain": [
       "[<matplotlib.lines.Line2D at 0x155510f79540>]"
      ]
     },
     "execution_count": 29,
     "metadata": {},
     "output_type": "execute_result"
    },
    {
     "data": {
      "image/png": "[encoded data removed]",
      "text/plain": [
       "<Figure size 432x288 with 1 Axes>"
      ]
     },
     "metadata": {
      "needs_background": "light"
     },
     "output_type": "display_data"
    }
   ],
   "source": [
    "#plt.loglog(hp.alm2cl(sim.get_sim_blm(0)))\n",
    "plt.loglog(cs.utils.alm2cl(lmax,ilm['B']))\n",
    "plt.loglog(1/cl[2:3,:][0])\n",
    "#plt.axhline(np.radians(2.16/60)**2)"
   ]
  },
  {
   "cell_type": "code",
   "execution_count": null,
   "id": "b90ab8fd-a3df-40b4-a9c0-21708500b8ce",
   "metadata": {},
   "outputs": [],
   "source": []
  },
  {
   "cell_type": "code",
   "execution_count": 30,
   "id": "90e7ca22-8d56-4766-a02d-94d0893c4b86",
   "metadata": {},
   "outputs": [],
   "source": [
    "lcl = cl.copy()"
   ]
  },
  {
   "cell_type": "code",
   "execution_count": 31,
   "id": "bef64aee-71b3-4d44-a5ac-f95d979b296c",
   "metadata": {},
   "outputs": [],
   "source": [
    "ocl = lcl.copy()\n",
    "ocl[1,:]  += Nl/bl**2\n",
    "ocl[2,:]  += Nl/bl**2"
   ]
  },
  {
   "cell_type": "code",
   "execution_count": 32,
   "id": "c945be07-a6ee-43d5-9ba4-5535077aadba",
   "metadata": {},
   "outputs": [
    {
     "data": {
      "text/plain": [
       "[<matplotlib.lines.Line2D at 0x155510d8ae00>]"
      ]
     },
     "execution_count": 32,
     "metadata": {},
     "output_type": "execute_result"
    },
    {
     "data": {
      "image/png": "[encoded data removed]",
      "text/plain": [
       "<Figure size 432x288 with 1 Axes>"
      ]
     },
     "metadata": {
      "needs_background": "light"
     },
     "output_type": "display_data"
    }
   ],
   "source": [
    "plt.loglog(ocl[1,:])\n",
    "plt.loglog(cs.utils.alm2cl(lmax,Ealm_f))"
   ]
  },
  {
   "cell_type": "code",
   "execution_count": 33,
   "id": "a8bcd1d6-9d50-42a0-a917-f05184b09274",
   "metadata": {},
   "outputs": [],
   "source": [
    "Ag, Ac = {}, {}\n",
    "Ag['EB'], Ac['EB'] = cs.norm_quad.qeb('lens',Lmax,rlmin,rlmax,lcl[1,:],ocl[1,:],ocl[2,:])"
   ]
  },
  {
   "cell_type": "code",
   "execution_count": 34,
   "id": "4117c8ec-fb7e-49f4-87bc-9f8390afc54a",
   "metadata": {},
   "outputs": [
    {
     "data": {
      "text/plain": [
       "[<matplotlib.lines.Line2D at 0x155510c21870>]"
      ]
     },
     "execution_count": 34,
     "metadata": {},
     "output_type": "execute_result"
    },
    {
     "data": {
      "image/png": "[encoded data removed]",
      "text/plain": [
       "<Figure size 432x288 with 1 Axes>"
      ]
     },
     "metadata": {
      "needs_background": "light"
     },
     "output_type": "display_data"
    }
   ],
   "source": [
    "plt.loglog(L,Lfac*Ag['EB'])\n",
    "plt.loglog(L,Lfac*cl_unl['pp'][:len(L)])"
   ]
  },
  {
   "cell_type": "code",
   "execution_count": 35,
   "id": "db0763d6-7590-4a4d-b9c6-b7ad28546cfb",
   "metadata": {},
   "outputs": [],
   "source": [
    "glm, clm = {}, {}\n",
    "glm['EB'], clm['EB'] = cs.rec_lens.qeb(Lmax,rlmin,rlmax,lcl[1,:],ilm['E'], ilm['B'])"
   ]
  },
  {
   "cell_type": "code",
   "execution_count": 36,
   "id": "13b5bc3e-3574-400d-b337-479f956d731d",
   "metadata": {},
   "outputs": [],
   "source": [
    "glm['EB'] *= Ag['EB'][:,None]\n",
    "clm['EB'] *= Ac['EB'][:,None]"
   ]
  },
  {
   "cell_type": "code",
   "execution_count": 37,
   "id": "fffca7ec-95e5-4387-aeb1-d686192188dc",
   "metadata": {},
   "outputs": [],
   "source": [
    "gg, cc = {}, {}\n",
    "gg['eb'] = cs.utils.alm2cl(Lmax,glm['EB'])\n",
    "cc['eb'] = cs.utils.alm2cl(Lmax,clm['EB'])\n"
   ]
  },
  {
   "cell_type": "code",
   "execution_count": 39,
   "id": "9f0cd6b5-4d62-44b1-95f6-0d42bb4ecb90",
   "metadata": {},
   "outputs": [
    {
     "data": {
      "text/plain": [
       "[<matplotlib.lines.Line2D at 0x155508919a80>]"
      ]
     },
     "execution_count": 39,
     "metadata": {},
     "output_type": "execute_result"
    },
    {
     "data": {
      "image/png": "[encoded data removed]",
      "text/plain": [
       "<Figure size 432x288 with 1 Axes>"
      ]
     },
     "metadata": {
      "needs_background": "light"
     },
     "output_type": "display_data"
    }
   ],
   "source": [
    "plt.loglog(Lfac*gg['eb']/.8)\n",
    "plt.loglog(Lfac*Ag['EB'])\n",
    "plt.loglog(Lfac*cl_unl['pp'][:len(L)])"
   ]
  },
  {
   "cell_type": "code",
   "execution_count": null,
   "id": "7f80eae9-014e-4589-9121-0fea6d5df56a",
   "metadata": {},
   "outputs": [],
   "source": []
  },
  {
   "cell_type": "code",
   "execution_count": null,
   "id": "0125b267-f9e7-4c34-939e-6908a4d379ad",
   "metadata": {},
   "outputs": [],
   "source": []
  },
  {
   "cell_type": "code",
   "execution_count": null,
   "id": "4034bf71-e340-495d-a66d-3495eecb82f4",
   "metadata": {},
   "outputs": [],
   "source": []
  }
 ],
 "metadata": {
  "kernelspec": {
   "display_name": "Pylens",
   "language": "python",
   "name": "cmblens"
  },
  "language_info": {
   "codemirror_mode": {
    "name": "ipython",
    "version": 3
   },
   "file_extension": ".py",
   "mimetype": "text/x-python",
   "name": "python",
   "nbconvert_exporter": "python",
   "pygments_lexer": "ipython3",
   "version": "3.10.4"
  }
 },
 "nbformat": 4,
 "nbformat_minor": 5
}
