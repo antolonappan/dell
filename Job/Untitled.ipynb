{
 "cells": [
  {
   "cell_type": "code",
   "execution_count": 1,
   "id": "91f5352c-0846-4c72-bcae-c944d7bad29e",
   "metadata": {},
   "outputs": [
    {
     "name": "stderr",
     "output_type": "stream",
     "text": [
      "\n",
      "WARNING: version mismatch between CFITSIO header (v4.000999999999999) and linked library (v4.01).\n",
      "\n",
      "\n",
      "WARNING: version mismatch between CFITSIO header (v4.000999999999999) and linked library (v4.01).\n",
      "\n",
      "\n",
      "WARNING: version mismatch between CFITSIO header (v4.000999999999999) and linked library (v4.01).\n",
      "\n"
     ]
    }
   ],
   "source": [
    "import healpy as hp"
   ]
  },
  {
   "cell_type": "code",
   "execution_count": 2,
   "id": "37b56eff-480b-4958-a507-bfda1c8fa328",
   "metadata": {},
   "outputs": [],
   "source": [
    "import matplotlib.pyplot as plt"
   ]
  },
  {
   "cell_type": "code",
   "execution_count": 3,
   "id": "9ff6ac8f-eab5-4dd3-a4b6-a77b16ee03f1",
   "metadata": {},
   "outputs": [],
   "source": [
    "import numpy as np"
   ]
  },
  {
   "cell_type": "code",
   "execution_count": 4,
   "id": "14d4b3cb-2d9e-4c37-b170-6329b25f6f73",
   "metadata": {},
   "outputs": [],
   "source": [
    "import os"
   ]
  },
  {
   "cell_type": "code",
   "execution_count": 44,
   "id": "ca934071-1e12-4e32-94c6-8be437dd4d1e",
   "metadata": {},
   "outputs": [],
   "source": [
    "beam = 1/hp.gauss_beam(np.radians(.5),lmax=1500)"
   ]
  },
  {
   "cell_type": "code",
   "execution_count": 29,
   "id": "0d5534da-4f40-4cca-aabf-b3c8c1450d59",
   "metadata": {},
   "outputs": [],
   "source": [
    "cmb_path = os.path.join(os.environ['SCRATCH'],'S4BIRD','CMB_Lensed_Maps','CMB_SET1','cmb_sims_0001.fits')"
   ]
  },
  {
   "cell_type": "code",
   "execution_count": 30,
   "id": "e0d7b937-f256-45e4-9770-3aaed0711404",
   "metadata": {},
   "outputs": [],
   "source": [
    "exp_path = os.path.join(os.environ['SCRATCH'],'S4BIRD','LiteBIRD','SIM_SET1_FG','Maps','exp_sims_0001.fits')"
   ]
  },
  {
   "cell_type": "code",
   "execution_count": 31,
   "id": "5b254f4c-562e-4276-ae35-8ff4b2df20d6",
   "metadata": {},
   "outputs": [],
   "source": [
    "cmb_map = hp.ud_grade(hp.read_map(cmb_path,(0,1,2)),512)"
   ]
  },
  {
   "cell_type": "code",
   "execution_count": 32,
   "id": "a4ddb423-0467-480e-a579-3017304de79f",
   "metadata": {},
   "outputs": [],
   "source": [
    "cmb_alm = hp.map2alm(cmb_map)"
   ]
  },
  {
   "cell_type": "code",
   "execution_count": 60,
   "id": "880a8f63-319b-4897-9bbf-939bd0d5df26",
   "metadata": {},
   "outputs": [],
   "source": [
    "exp_alm = hp.read_alm(exp_path,(1,2,3))"
   ]
  },
  {
   "cell_type": "code",
   "execution_count": 61,
   "id": "3b4a408f-e4de-4320-8911-0dfe1f51379d",
   "metadata": {},
   "outputs": [
    {
     "data": {
      "text/plain": [
       "array([0.        +0.j, 0.        +0.j, 0.01389839+0.j, ...,\n",
       "       0.        +0.j, 0.        +0.j, 0.        +0.j])"
      ]
     },
     "execution_count": 61,
     "metadata": {},
     "output_type": "execute_result"
    }
   ],
   "source": [
    "hp.almxfl(exp_alm[0],beam,inplace=True)\n",
    "hp.almxfl(exp_alm[1],beam,inplace=True)\n",
    "hp.almxfl(exp_alm[2],beam,inplace=True)"
   ]
  },
  {
   "cell_type": "code",
   "execution_count": 62,
   "id": "81d180dd-427e-4baf-9269-56fe1b2c50c1",
   "metadata": {},
   "outputs": [],
   "source": [
    "exp_map = hp.alm2map(exp_alm,512)"
   ]
  },
  {
   "cell_type": "code",
   "execution_count": 63,
   "id": "36bf5d1a-1a66-4097-8ec3-5c36505b7c08",
   "metadata": {},
   "outputs": [],
   "source": [
    "exp_alm_d = hp.map2alm(exp_map)"
   ]
  },
  {
   "cell_type": "code",
   "execution_count": 64,
   "id": "1f3c339c-a3cd-41df-b955-2790e81dc6c9",
   "metadata": {},
   "outputs": [],
   "source": [
    "mask_path = '/project/projectdirs/litebird/simulations/maps/lensing_project_paper/Masks/LB_Nside2048_fsky_0p8_binary.fits.gz'"
   ]
  },
  {
   "cell_type": "code",
   "execution_count": 65,
   "id": "aab99a26-22d0-4bfc-9ff5-158b2ed9161a",
   "metadata": {},
   "outputs": [],
   "source": [
    "mask = hp.ud_grade(hp.read_map(mask_path),512)"
   ]
  },
  {
   "cell_type": "code",
   "execution_count": 66,
   "id": "fd875b22-9e05-448d-8a7d-ddc3b5c40121",
   "metadata": {},
   "outputs": [],
   "source": [
    "noise = exp_map - (cmb_map*mask)"
   ]
  },
  {
   "cell_type": "code",
   "execution_count": 67,
   "id": "c46f6982-0e0f-4c0b-bec1-c2d2e0570c85",
   "metadata": {},
   "outputs": [],
   "source": [
    "nalm = hp.map2alm(noise)"
   ]
  },
  {
   "cell_type": "code",
   "execution_count": 76,
   "id": "5bc6ed52-a26a-4eb1-8319-139e0375594e",
   "metadata": {},
   "outputs": [
    {
     "data": {
      "text/plain": [
       "<matplotlib.legend.Legend at 0x15550eebc310>"
      ]
     },
     "execution_count": 76,
     "metadata": {},
     "output_type": "execute_result"
    },
    {
     "data": {
      "image/png": "[encoded data removed]",
      "text/plain": [
       "<Figure size 432x288 with 1 Axes>"
      ]
     },
     "metadata": {
      "needs_background": "light"
     },
     "output_type": "display_data"
    }
   ],
   "source": [
    "plt.loglog(hp.alm2cl(nalm[1]),label='Observed-Signal')\n",
    "plt.axhline(np.radians(2.16/60)**2,c='k',label='2.16')\n",
    "plt.axhline(np.radians(3.12/60)**2,c='r',label='3.1')\n",
    "plt.ylim(None,10**-4)\n",
    "plt.legend()"
   ]
  },
  {
   "cell_type": "code",
   "execution_count": 73,
   "id": "3dee6721-6b20-4a1c-9f99-7a122f3d1201",
   "metadata": {},
   "outputs": [
    {
     "data": {
      "text/plain": [
       "array([-1.22834241e+01+0.00000000e+00j,  7.83246082e-01+0.00000000e+00j,\n",
       "       -6.34870651e+00+0.00000000e+00j, ...,\n",
       "       -1.34867618e-05-3.38933872e-06j, -6.45151123e-05-1.50622345e-05j,\n",
       "       -9.77200575e-06+1.10530282e-05j])"
      ]
     },
     "execution_count": 73,
     "metadata": {},
     "output_type": "execute_result"
    }
   ],
   "source": [
    "nalm[0]"
   ]
  },
  {
   "cell_type": "code",
   "execution_count": null,
   "id": "705ea610-3754-4457-a7fe-5b63cc4ed5c4",
   "metadata": {},
   "outputs": [],
   "source": []
  }
 ],
 "metadata": {
  "kernelspec": {
   "display_name": "Pylens",
   "language": "python",
   "name": "cmblens"
  },
  "language_info": {
   "codemirror_mode": {
    "name": "ipython",
    "version": 3
   },
   "file_extension": ".py",
   "mimetype": "text/x-python",
   "name": "python",
   "nbconvert_exporter": "python",
   "pygments_lexer": "ipython3",
   "version": "3.10.4"
  }
 },
 "nbformat": 4,
 "nbformat_minor": 5
}
