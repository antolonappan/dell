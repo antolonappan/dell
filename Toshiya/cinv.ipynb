{
 "cells": [
  {
   "cell_type": "code",
   "execution_count": 33,
   "id": "8e2c63ef-f766-4ba0-b403-9d656ce1421c",
   "metadata": {},
   "outputs": [],
   "source": [
    "import curvedsky as cs\n",
    "import sys\n",
    "import os\n",
    "from matplotlib.pyplot import *\n",
    "sys.path.append('../')\n",
    "import numpy as np\n",
    "from utils import cli\n",
    "import pickle as pl"
   ]
  },
  {
   "cell_type": "code",
   "execution_count": 2,
   "id": "504d943c-9823-4caa-a91c-ec06719b9cbe",
   "metadata": {},
   "outputs": [],
   "source": [
    "import healpy as hp"
   ]
  },
  {
   "cell_type": "code",
   "execution_count": 3,
   "id": "15cdfd99-89a3-42ba-a0de-4505c6577760",
   "metadata": {},
   "outputs": [],
   "source": [
    "%load_ext autoreload\n",
    "%autoreload 2\n",
    "from quest_tn import RecoBase"
   ]
  },
  {
   "cell_type": "code",
   "execution_count": 4,
   "id": "a0207b66-4bc5-45c5-abee-5156361fbcce",
   "metadata": {},
   "outputs": [
    {
     "name": "stderr",
     "output_type": "stream",
     "text": [
      "/global/homes/t/toshiyan/.conda/envs/loc/lib/python3.7/site-packages/healpy/fitsfunc.py:391: UserWarning: NSIDE = 2048\n",
      "  warnings.warn(\"NSIDE = {0:d}\".format(nside))\n",
      "/global/homes/t/toshiyan/.conda/envs/loc/lib/python3.7/site-packages/healpy/fitsfunc.py:400: UserWarning: ORDERING = RING in fits file\n",
      "  warnings.warn(\"ORDERING = {0:s} in fits file\".format(ordering))\n",
      "/global/homes/t/toshiyan/.conda/envs/loc/lib/python3.7/site-packages/healpy/fitsfunc.py:428: UserWarning: INDXSCHM = IMPLICIT\n",
      "  warnings.warn(\"INDXSCHM = {0:s}\".format(schm))\n"
     ]
    },
    {
     "name": "stdout",
     "output_type": "stream",
     "text": [
      "An extra Mask is applied to data. Previous fsky is 0.80 and new fsky = 0.70\n"
     ]
    }
   ],
   "source": [
    "clpp = RecoBase.from_ini('litebirdFG1_tn.ini')"
   ]
  },
  {
   "cell_type": "code",
   "execution_count": 34,
   "id": "4ac17428-b47f-43e2-b678-52b099e097cb",
   "metadata": {},
   "outputs": [
    {
     "name": "stderr",
     "output_type": "stream",
     "text": [
      "/global/homes/t/toshiyan/.conda/envs/loc/lib/python3.7/site-packages/ipykernel_launcher.py:1: RuntimeWarning: divide by zero encountered in true_divide\n",
      "  \"\"\"Entry point for launching an IPython kernel.\n",
      "/global/homes/t/toshiyan/.conda/envs/loc/lib/python3.7/site-packages/ipykernel_launcher.py:2: RuntimeWarning: divide by zero encountered in true_divide\n",
      "  \n"
     ]
    },
    {
     "data": {
      "text/plain": [
       "[<matplotlib.lines.Line2D at 0x155517e247b8>]"
      ]
     },
     "execution_count": 34,
     "metadata": {},
     "output_type": "execute_result"
    },
    {
     "data": {
      "image/png": "[encoded data removed]",
      "text/plain": [
       "<Figure size 432x288 with 1 Axes>"
      ]
     },
     "metadata": {
      "needs_background": "light"
     },
     "output_type": "display_data"
    }
   ],
   "source": [
    "loglog(1/clpp.NL[0][0])\n",
    "loglog(1/clpp.NL[1][0])"
   ]
  },
  {
   "cell_type": "code",
   "execution_count": 9,
   "id": "b51ff195-7320-4917-8524-0a509280aee7",
   "metadata": {},
   "outputs": [],
   "source": [
    "idx = 1"
   ]
  },
  {
   "cell_type": "code",
   "execution_count": 82,
   "id": "d632f7e9-bb2b-4033-8bf0-7ea15b3a9e7a",
   "metadata": {},
   "outputs": [
    {
     "name": "stdout",
     "output_type": "stream",
     "text": [
      "Maps with FG\n"
     ]
    }
   ],
   "source": [
    "QU_org = clpp.get_sim(idx)*clpp.extra_mask"
   ]
  },
  {
   "cell_type": "code",
   "execution_count": 83,
   "id": "2528ed70-2b33-4397-b066-2b7fc7bd5952",
   "metadata": {},
   "outputs": [],
   "source": [
    "qu_org = pl.load(open(os.path.join(clpp.map_dir+'/../MAP_noFG/',f\"exp_sim_{idx:04d}.pkl\"),'rb'))*clpp.extra_mask"
   ]
  },
  {
   "cell_type": "code",
   "execution_count": 81,
   "id": "db1e391b-6afe-4120-9975-77a2f8da4b02",
   "metadata": {},
   "outputs": [],
   "source": [
    "#hp.mollview(QU_org[0,0,:])\n",
    "#hp.mollview(qu_org[0,0,:])"
   ]
  },
  {
   "cell_type": "code",
   "execution_count": 29,
   "id": "b4401faf-d480-4a8f-865d-3e54e7221dc5",
   "metadata": {},
   "outputs": [],
   "source": [
    "#Elm, Blm = cs.utils.hp_map2alm_spin(clpp.nside,clpp.lmax,clpp.lmax,2,QU_org[0,0,:],QU_org[1,0,:])\n",
    "#elm, blm = cs.utils.hp_map2alm_spin(clpp.nside,clpp.lmax,clpp.lmax,2,qu_org[0,0,:],qu_org[1,0,:])"
   ]
  },
  {
   "cell_type": "code",
   "execution_count": 30,
   "id": "8f83c27f-485b-44fc-823a-a95ae6e95132",
   "metadata": {},
   "outputs": [],
   "source": [
    "#Elm[:10,:] = 0.\n",
    "#Blm[:10,:] = 0.\n",
    "#elm[:10,:] = 0.\n",
    "#blm[:10,:] = 0."
   ]
  },
  {
   "cell_type": "code",
   "execution_count": 76,
   "id": "6ba5c8cd-1f39-4f90-aceb-6ad0ee7de6c2",
   "metadata": {},
   "outputs": [],
   "source": [
    "#loglog(cs.utils.alm2cl(clpp.lmax,Elm))\n",
    "#loglog(clpp.cl_len[1]*clpp.beam**2)"
   ]
  },
  {
   "cell_type": "code",
   "execution_count": 77,
   "id": "217b7ffa-a9f9-4b95-96e6-7097096bf0e9",
   "metadata": {},
   "outputs": [],
   "source": [
    "#NL = clpp.Tcmb**2/clpp.NL[:,0,:]\n",
    "#nl = (2.16*np.pi/10800)**2*np.ones(clpp.lmax+1)\n",
    "#lCl = clpp.cl_len[1:3,:]*clpp.Tcmb**2"
   ]
  },
  {
   "cell_type": "code",
   "execution_count": 78,
   "id": "13a0859e-03d1-484c-b0ad-339ca824b669",
   "metadata": {},
   "outputs": [],
   "source": [
    "#ylim(1e-7,1e-2)\n",
    "#loglog(cs.utils.alm2cl(clpp.lmax,Blm)*clpp.Tcmb**2/clpp.fsky)\n",
    "#loglog(cs.utils.alm2cl(clpp.lmax,blm)*clpp.Tcmb**2/clpp.fsky)\n",
    "#loglog(clpp.cl_len[2]*clpp.beam**2*clpp.Tcmb**2)\n",
    "#loglog(NL[1])\n",
    "#loglog(nl)"
   ]
  },
  {
   "cell_type": "code",
   "execution_count": 79,
   "id": "cdcb332b-e5bb-4eab-9695-ede037a6a931",
   "metadata": {},
   "outputs": [],
   "source": [
    "#xlim(10,600)\n",
    "#ylim(0,2)\n",
    "#xscale('log')\n",
    "#ylabel('BB w FG / BB wo FG')\n",
    "#plot(clpp.L,(lCl[1]+NL[1])/(lCl[1]+nl))"
   ]
  },
  {
   "cell_type": "code",
   "execution_count": 80,
   "id": "9dcf259c-d754-4777-b0e9-fe4660655541",
   "metadata": {},
   "outputs": [],
   "source": [
    "#xlim(10,600)\n",
    "#ylim(0,2)\n",
    "#xscale('log')\n",
    "#plot(clpp.L,(lCl[0]+NL[0])/(lCl[0]+nl))"
   ]
  },
  {
   "cell_type": "code",
   "execution_count": 32,
   "id": "72898675-3d05-4263-8232-48b1dec0cd16",
   "metadata": {},
   "outputs": [],
   "source": [
    "#QU = np.reshape(cs.utils.hp_alm2map_spin(clpp.nside,clpp.lmax,clpp.lmax,2,Elm,Blm),(2,1,clpp.npix))\n",
    "#qu = np.reshape(cs.utils.hp_alm2map_spin(clpp.nside,clpp.lmax,clpp.lmax,2,elm,blm),(2,1,clpp.npix))"
   ]
  },
  {
   "cell_type": "code",
   "execution_count": 92,
   "id": "81372a9a-a990-4163-8107-2005cf87b14a",
   "metadata": {},
   "outputs": [],
   "source": [
    "Bl = np.reshape(clpp.beam,(1,clpp.lmax+1))\n",
    "lcl = clpp.cl_len[1:3,:]\n",
    "#lcl[:,:10] = 0.\n",
    "invn = clpp.mask *clpp.extra_mask * (np.radians(clpp.sigma/60)/clpp.Tcmb)**-2\n",
    "invN = np.reshape(np.array((invn,invn)),(2,1,clpp.npix))"
   ]
  },
  {
   "cell_type": "code",
   "execution_count": 93,
   "id": "cfe605c0-2a8a-4476-85dd-dab630180786",
   "metadata": {},
   "outputs": [],
   "source": [
    "E,B = cs.cninv.cnfilter_freq(\n",
    "    2, 1, clpp.nside, clpp.lmax, lcl, Bl, invN, QU_org,\n",
    "    chn=1, itns=[1000], eps=[1e-4], filter='', ro=10, stat='stat.txt'\n",
    ")"
   ]
  },
  {
   "cell_type": "code",
   "execution_count": 94,
   "id": "401cedcd-10cd-4005-9b79-9ab89a619a5e",
   "metadata": {},
   "outputs": [],
   "source": [
    "e,b = cs.cninv.cnfilter_freq(\n",
    "    2, 1, clpp.nside, clpp.lmax, lcl, Bl, invN, qu_org,\n",
    "    chn=1, itns=[1000], eps=[1e-4], filter='', ro=10, stat='stat.txt'\n",
    ")"
   ]
  },
  {
   "cell_type": "code",
   "execution_count": 95,
   "id": "f8253930-8690-4ee6-85f0-272686925113",
   "metadata": {},
   "outputs": [
    {
     "data": {
      "text/plain": [
       "[<matplotlib.lines.Line2D at 0x15550685c048>]"
      ]
     },
     "execution_count": 95,
     "metadata": {},
     "output_type": "execute_result"
    },
    {
     "data": {
      "image/png": "[encoded data removed]",
      "text/plain": [
       "<Figure size 432x288 with 1 Axes>"
      ]
     },
     "metadata": {
      "needs_background": "light"
     },
     "output_type": "display_data"
    }
   ],
   "source": [
    "loglog(cs.utils.alm2cl(clpp.lmax,B))\n",
    "loglog(cs.utils.alm2cl(clpp.lmax,b))\n",
    "#loglog(1/clpp.cl_len[2,:])\n",
    "#ylim(1e17,5e18)\n",
    "#xlim(200,1024)"
   ]
  },
  {
   "cell_type": "code",
   "execution_count": 102,
   "id": "a8aa79c4-bb2b-4f2c-bbaa-64bd1073dd68",
   "metadata": {},
   "outputs": [
    {
     "data": {
      "text/plain": [
       "[<matplotlib.lines.Line2D at 0x155503797d68>]"
      ]
     },
     "execution_count": 102,
     "metadata": {},
     "output_type": "execute_result"
    },
    {
     "data": {
      "image/png": "[encoded data removed]",
      "text/plain": [
       "<Figure size 432x288 with 1 Axes>"
      ]
     },
     "metadata": {
      "needs_background": "light"
     },
     "output_type": "display_data"
    }
   ],
   "source": [
    "EE = cs.utils.alm2cl(clpp.lmax,E)\n",
    "ee = cs.utils.alm2cl(clpp.lmax,e)\n",
    "BB = cs.utils.alm2cl(clpp.lmax,B)\n",
    "bb = cs.utils.alm2cl(clpp.lmax,b)\n",
    "loglog(EE)\n",
    "loglog(ee)"
   ]
  },
  {
   "cell_type": "code",
   "execution_count": 103,
   "id": "ad4ee292-e33b-4bee-889a-f9317b6cb779",
   "metadata": {},
   "outputs": [
    {
     "name": "stderr",
     "output_type": "stream",
     "text": [
      "/global/homes/t/toshiyan/.conda/envs/loc/lib/python3.7/site-packages/ipykernel_launcher.py:2: RuntimeWarning: invalid value encountered in true_divide\n",
      "  \n",
      "/global/homes/t/toshiyan/.conda/envs/loc/lib/python3.7/site-packages/ipykernel_launcher.py:3: RuntimeWarning: invalid value encountered in true_divide\n",
      "  This is separate from the ipykernel package so we can avoid doing imports until\n"
     ]
    },
    {
     "data": {
      "text/plain": [
       "[<matplotlib.lines.Line2D at 0x155503513cf8>]"
      ]
     },
     "execution_count": 103,
     "metadata": {},
     "output_type": "execute_result"
    },
    {
     "data": {
      "image/png": "[encoded data removed]",
      "text/plain": [
       "<Figure size 432x288 with 1 Axes>"
      ]
     },
     "metadata": {
      "needs_background": "light"
     },
     "output_type": "display_data"
    }
   ],
   "source": [
    "ylim(0.5,1.5)\n",
    "plot(EE/ee)\n",
    "plot(BB/bb)"
   ]
  },
  {
   "cell_type": "code",
   "execution_count": null,
   "id": "603e8562-6507-4d13-bff0-76ba941f5453",
   "metadata": {},
   "outputs": [],
   "source": []
  }
 ],
 "metadata": {
  "kernelspec": {
   "display_name": "py4so",
   "language": "python",
   "name": "py4so"
  },
  "language_info": {
   "codemirror_mode": {
    "name": "ipython",
    "version": 3
   },
   "file_extension": ".py",
   "mimetype": "text/x-python",
   "name": "python",
   "nbconvert_exporter": "python",
   "pygments_lexer": "ipython3",
   "version": "3.7.2"
  }
 },
 "nbformat": 4,
 "nbformat_minor": 5
}
